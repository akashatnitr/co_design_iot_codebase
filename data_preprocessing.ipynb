{
 "cells": [
  {
   "cell_type": "code",
   "execution_count": 51,
   "metadata": {},
   "outputs": [],
   "source": [
    "import pandas as pd"
   ]
  },
  {
   "cell_type": "code",
   "execution_count": 52,
   "metadata": {},
   "outputs": [],
   "source": [
    "location_df = pd.read_csv(\"location_data_jam_location_data_09252022_raw.csv\")"
   ]
  },
  {
   "cell_type": "code",
   "execution_count": 53,
   "metadata": {},
   "outputs": [
    {
     "data": {
      "text/html": [
       "<div>\n",
       "<style scoped>\n",
       "    .dataframe tbody tr th:only-of-type {\n",
       "        vertical-align: middle;\n",
       "    }\n",
       "\n",
       "    .dataframe tbody tr th {\n",
       "        vertical-align: top;\n",
       "    }\n",
       "\n",
       "    .dataframe thead th {\n",
       "        text-align: right;\n",
       "    }\n",
       "</style>\n",
       "<table border=\"1\" class=\"dataframe\">\n",
       "  <thead>\n",
       "    <tr style=\"text-align: right;\">\n",
       "      <th></th>\n",
       "      <th>user_email</th>\n",
       "      <th>user_name</th>\n",
       "      <th>latitude</th>\n",
       "      <th>longitude</th>\n",
       "      <th>charging_status</th>\n",
       "      <th>charging_type</th>\n",
       "      <th>bluetooth_device_type</th>\n",
       "      <th>bluetooth_status</th>\n",
       "      <th>activity</th>\n",
       "      <th>wifi_status</th>\n",
       "      <th>timestamp_long</th>\n",
       "      <th>timestamp</th>\n",
       "    </tr>\n",
       "  </thead>\n",
       "  <tbody>\n",
       "    <tr>\n",
       "      <th>0</th>\n",
       "      <td>nlokesh@tamu.edu</td>\n",
       "      <td>Lokesh Narravula</td>\n",
       "      <td>30.611450</td>\n",
       "      <td>-96.350088</td>\n",
       "      <td>Disharging</td>\n",
       "      <td>Charging:\\nunplugged</td>\n",
       "      <td>UNCATEGORIZED</td>\n",
       "      <td>On</td>\n",
       "      <td>unknown</td>\n",
       "      <td>Wifi:\\n\"TAMU_WiFi\"</td>\n",
       "      <td>1663374930742</td>\n",
       "      <td>2022-09-16T19:35:30.741-05:00</td>\n",
       "    </tr>\n",
       "    <tr>\n",
       "      <th>1</th>\n",
       "      <td>nlokesh@tamu.edu</td>\n",
       "      <td>Lokesh Narravula</td>\n",
       "      <td>30.611450</td>\n",
       "      <td>-96.350088</td>\n",
       "      <td>Disharging</td>\n",
       "      <td>Charging:\\nunplugged</td>\n",
       "      <td>UNCATEGORIZED</td>\n",
       "      <td>On</td>\n",
       "      <td>unknown</td>\n",
       "      <td>Wifi:\\n\"TAMU_WiFi\"</td>\n",
       "      <td>1663375129353</td>\n",
       "      <td>2022-09-16T19:38:49.351-05:00</td>\n",
       "    </tr>\n",
       "    <tr>\n",
       "      <th>2</th>\n",
       "      <td>nlokesh@tamu.edu</td>\n",
       "      <td>Lokesh Narravula</td>\n",
       "      <td>30.611450</td>\n",
       "      <td>-96.350088</td>\n",
       "      <td>Disharging</td>\n",
       "      <td>Charging:\\nunplugged</td>\n",
       "      <td>UNCATEGORIZED</td>\n",
       "      <td>On</td>\n",
       "      <td>unknown</td>\n",
       "      <td>Wifi:\\n\"TAMU_WiFi\"</td>\n",
       "      <td>1663375006579</td>\n",
       "      <td>2022-09-16T19:36:46.577-05:00</td>\n",
       "    </tr>\n",
       "    <tr>\n",
       "      <th>3</th>\n",
       "      <td>nlokesh@tamu.edu</td>\n",
       "      <td>Lokesh Narravula</td>\n",
       "      <td>30.591326</td>\n",
       "      <td>-96.340896</td>\n",
       "      <td>Charging</td>\n",
       "      <td>Charging:\\nbattery_plugged_ac</td>\n",
       "      <td>UNCATEGORIZED</td>\n",
       "      <td>On</td>\n",
       "      <td>unknown</td>\n",
       "      <td>Wifi:\\n\"5G The London\"</td>\n",
       "      <td>1663449273446</td>\n",
       "      <td>2022-09-17T16:14:33.442-05:00</td>\n",
       "    </tr>\n",
       "    <tr>\n",
       "      <th>4</th>\n",
       "      <td>nlokesh@tamu.edu</td>\n",
       "      <td>Lokesh Narravula</td>\n",
       "      <td>30.591326</td>\n",
       "      <td>-96.340896</td>\n",
       "      <td>Charging</td>\n",
       "      <td>Charging:\\nbattery_plugged_ac</td>\n",
       "      <td>UNCATEGORIZED</td>\n",
       "      <td>On</td>\n",
       "      <td>unknown</td>\n",
       "      <td>Wifi:\\n\"5G The London\"</td>\n",
       "      <td>1663449202652</td>\n",
       "      <td>2022-09-17T16:13:22.651-05:00</td>\n",
       "    </tr>\n",
       "  </tbody>\n",
       "</table>\n",
       "</div>"
      ],
      "text/plain": [
       "         user_email         user_name   latitude  longitude charging_status  \\\n",
       "0  nlokesh@tamu.edu  Lokesh Narravula  30.611450 -96.350088      Disharging   \n",
       "1  nlokesh@tamu.edu  Lokesh Narravula  30.611450 -96.350088      Disharging   \n",
       "2  nlokesh@tamu.edu  Lokesh Narravula  30.611450 -96.350088      Disharging   \n",
       "3  nlokesh@tamu.edu  Lokesh Narravula  30.591326 -96.340896        Charging   \n",
       "4  nlokesh@tamu.edu  Lokesh Narravula  30.591326 -96.340896        Charging   \n",
       "\n",
       "                   charging_type bluetooth_device_type bluetooth_status  \\\n",
       "0           Charging:\\nunplugged         UNCATEGORIZED               On   \n",
       "1           Charging:\\nunplugged         UNCATEGORIZED               On   \n",
       "2           Charging:\\nunplugged         UNCATEGORIZED               On   \n",
       "3  Charging:\\nbattery_plugged_ac         UNCATEGORIZED               On   \n",
       "4  Charging:\\nbattery_plugged_ac         UNCATEGORIZED               On   \n",
       "\n",
       "  activity             wifi_status  timestamp_long  \\\n",
       "0  unknown      Wifi:\\n\"TAMU_WiFi\"   1663374930742   \n",
       "1  unknown      Wifi:\\n\"TAMU_WiFi\"   1663375129353   \n",
       "2  unknown      Wifi:\\n\"TAMU_WiFi\"   1663375006579   \n",
       "3  unknown  Wifi:\\n\"5G The London\"   1663449273446   \n",
       "4  unknown  Wifi:\\n\"5G The London\"   1663449202652   \n",
       "\n",
       "                       timestamp  \n",
       "0  2022-09-16T19:35:30.741-05:00  \n",
       "1  2022-09-16T19:38:49.351-05:00  \n",
       "2  2022-09-16T19:36:46.577-05:00  \n",
       "3  2022-09-17T16:14:33.442-05:00  \n",
       "4  2022-09-17T16:13:22.651-05:00  "
      ]
     },
     "execution_count": 53,
     "metadata": {},
     "output_type": "execute_result"
    }
   ],
   "source": [
    "location_df.head()"
   ]
  },
  {
   "cell_type": "code",
   "execution_count": 4,
   "metadata": {},
   "outputs": [],
   "source": [
    "def change_user_email(email, user_email_map):\n",
    "    return user_email_map[email]"
   ]
  },
  {
   "cell_type": "code",
   "execution_count": 5,
   "metadata": {},
   "outputs": [],
   "source": [
    "def map_user_email_mask(user_email):\n",
    "    unique_user_email = list(set(user_email))\n",
    "    unique_user_email.sort()\n",
    "    user_email_map = dict()\n",
    "    k = 1\n",
    "    for email in unique_user_email:\n",
    "        user_email_map[email] = \"user_\" + str(k)\n",
    "        k += 1\n",
    "    return user_email_map"
   ]
  },
  {
   "cell_type": "code",
   "execution_count": 6,
   "metadata": {},
   "outputs": [],
   "source": [
    "user_email_map = map_user_email_mask(location_df[\"user_email\"])"
   ]
  },
  {
   "cell_type": "code",
   "execution_count": 7,
   "metadata": {},
   "outputs": [
    {
     "data": {
      "text/plain": [
       "{'33pinaki@gmail.com': 'user_1',\n",
       " 'abhishekhrs0802@gmail.com': 'user_2',\n",
       " 'anjan.behera123@gmail.com': 'user_3',\n",
       " 'durgap2394@gmail.com': 'user_4',\n",
       " 'hometv.pawan@gmail.com': 'user_5',\n",
       " 'kleottmembership@gmail.com': 'user_6',\n",
       " 'naveengokarn@gmail.com': 'user_7',\n",
       " 'nehakawane_28@tamu.edu': 'user_8',\n",
       " 'nickbieber54@gmail.com': 'user_9',\n",
       " 'nlokesh@tamu.edu': 'user_10',\n",
       " 'rajeshsatpathy@tamu.edu': 'user_11',\n",
       " 'ravikantbhardwaj@tamu.edu': 'user_12',\n",
       " 'rosyrose15@gmail.com': 'user_13',\n",
       " 'sanjaynayakcs@gmail.com': 'user_14',\n",
       " 'sanjaysiku16@gmail.com': 'user_15',\n",
       " 'shivi96sd@gmail.com': 'user_16',\n",
       " 'sidsjustice@gmail.com': 'user_17',\n",
       " 'sruti.patnaik15@gmail.com': 'user_18',\n",
       " 'tusharbleeds@gmail.com': 'user_19',\n",
       " 'vaidhyesh1@gmail.com': 'user_20',\n",
       " 'vinayakjoshi159895@gmail.com': 'user_21',\n",
       " 'vipulpatil9167@gmail.com': 'user_22',\n",
       " 'yshah5115@gmail.com': 'user_23'}"
      ]
     },
     "execution_count": 7,
     "metadata": {},
     "output_type": "execute_result"
    }
   ],
   "source": [
    "user_email_map"
   ]
  },
  {
   "cell_type": "code",
   "execution_count": 56,
   "metadata": {
    "scrolled": true
   },
   "outputs": [],
   "source": [
    "location_df.drop(\"user_name\", axis=1, inplace=True)"
   ]
  },
  {
   "cell_type": "code",
   "execution_count": 54,
   "metadata": {},
   "outputs": [],
   "source": [
    "location_df[\"user_email\"] = location_df[\"user_email\"].apply(lambda x: change_user_email(x, user_email_map))"
   ]
  },
  {
   "cell_type": "code",
   "execution_count": 57,
   "metadata": {},
   "outputs": [
    {
     "data": {
      "text/html": [
       "<div>\n",
       "<style scoped>\n",
       "    .dataframe tbody tr th:only-of-type {\n",
       "        vertical-align: middle;\n",
       "    }\n",
       "\n",
       "    .dataframe tbody tr th {\n",
       "        vertical-align: top;\n",
       "    }\n",
       "\n",
       "    .dataframe thead th {\n",
       "        text-align: right;\n",
       "    }\n",
       "</style>\n",
       "<table border=\"1\" class=\"dataframe\">\n",
       "  <thead>\n",
       "    <tr style=\"text-align: right;\">\n",
       "      <th></th>\n",
       "      <th>user_email</th>\n",
       "      <th>latitude</th>\n",
       "      <th>longitude</th>\n",
       "      <th>charging_status</th>\n",
       "      <th>charging_type</th>\n",
       "      <th>bluetooth_device_type</th>\n",
       "      <th>bluetooth_status</th>\n",
       "      <th>activity</th>\n",
       "      <th>wifi_status</th>\n",
       "      <th>timestamp_long</th>\n",
       "      <th>timestamp</th>\n",
       "    </tr>\n",
       "  </thead>\n",
       "  <tbody>\n",
       "    <tr>\n",
       "      <th>0</th>\n",
       "      <td>user_10</td>\n",
       "      <td>30.611450</td>\n",
       "      <td>-96.350088</td>\n",
       "      <td>Disharging</td>\n",
       "      <td>Charging:\\nunplugged</td>\n",
       "      <td>UNCATEGORIZED</td>\n",
       "      <td>On</td>\n",
       "      <td>unknown</td>\n",
       "      <td>Wifi:\\n\"TAMU_WiFi\"</td>\n",
       "      <td>1663374930742</td>\n",
       "      <td>2022-09-16T19:35:30.741-05:00</td>\n",
       "    </tr>\n",
       "    <tr>\n",
       "      <th>1</th>\n",
       "      <td>user_10</td>\n",
       "      <td>30.611450</td>\n",
       "      <td>-96.350088</td>\n",
       "      <td>Disharging</td>\n",
       "      <td>Charging:\\nunplugged</td>\n",
       "      <td>UNCATEGORIZED</td>\n",
       "      <td>On</td>\n",
       "      <td>unknown</td>\n",
       "      <td>Wifi:\\n\"TAMU_WiFi\"</td>\n",
       "      <td>1663375129353</td>\n",
       "      <td>2022-09-16T19:38:49.351-05:00</td>\n",
       "    </tr>\n",
       "    <tr>\n",
       "      <th>2</th>\n",
       "      <td>user_10</td>\n",
       "      <td>30.611450</td>\n",
       "      <td>-96.350088</td>\n",
       "      <td>Disharging</td>\n",
       "      <td>Charging:\\nunplugged</td>\n",
       "      <td>UNCATEGORIZED</td>\n",
       "      <td>On</td>\n",
       "      <td>unknown</td>\n",
       "      <td>Wifi:\\n\"TAMU_WiFi\"</td>\n",
       "      <td>1663375006579</td>\n",
       "      <td>2022-09-16T19:36:46.577-05:00</td>\n",
       "    </tr>\n",
       "    <tr>\n",
       "      <th>3</th>\n",
       "      <td>user_10</td>\n",
       "      <td>30.591326</td>\n",
       "      <td>-96.340896</td>\n",
       "      <td>Charging</td>\n",
       "      <td>Charging:\\nbattery_plugged_ac</td>\n",
       "      <td>UNCATEGORIZED</td>\n",
       "      <td>On</td>\n",
       "      <td>unknown</td>\n",
       "      <td>Wifi:\\n\"5G The London\"</td>\n",
       "      <td>1663449273446</td>\n",
       "      <td>2022-09-17T16:14:33.442-05:00</td>\n",
       "    </tr>\n",
       "    <tr>\n",
       "      <th>4</th>\n",
       "      <td>user_10</td>\n",
       "      <td>30.591326</td>\n",
       "      <td>-96.340896</td>\n",
       "      <td>Charging</td>\n",
       "      <td>Charging:\\nbattery_plugged_ac</td>\n",
       "      <td>UNCATEGORIZED</td>\n",
       "      <td>On</td>\n",
       "      <td>unknown</td>\n",
       "      <td>Wifi:\\n\"5G The London\"</td>\n",
       "      <td>1663449202652</td>\n",
       "      <td>2022-09-17T16:13:22.651-05:00</td>\n",
       "    </tr>\n",
       "  </tbody>\n",
       "</table>\n",
       "</div>"
      ],
      "text/plain": [
       "  user_email   latitude  longitude charging_status  \\\n",
       "0    user_10  30.611450 -96.350088      Disharging   \n",
       "1    user_10  30.611450 -96.350088      Disharging   \n",
       "2    user_10  30.611450 -96.350088      Disharging   \n",
       "3    user_10  30.591326 -96.340896        Charging   \n",
       "4    user_10  30.591326 -96.340896        Charging   \n",
       "\n",
       "                   charging_type bluetooth_device_type bluetooth_status  \\\n",
       "0           Charging:\\nunplugged         UNCATEGORIZED               On   \n",
       "1           Charging:\\nunplugged         UNCATEGORIZED               On   \n",
       "2           Charging:\\nunplugged         UNCATEGORIZED               On   \n",
       "3  Charging:\\nbattery_plugged_ac         UNCATEGORIZED               On   \n",
       "4  Charging:\\nbattery_plugged_ac         UNCATEGORIZED               On   \n",
       "\n",
       "  activity             wifi_status  timestamp_long  \\\n",
       "0  unknown      Wifi:\\n\"TAMU_WiFi\"   1663374930742   \n",
       "1  unknown      Wifi:\\n\"TAMU_WiFi\"   1663375129353   \n",
       "2  unknown      Wifi:\\n\"TAMU_WiFi\"   1663375006579   \n",
       "3  unknown  Wifi:\\n\"5G The London\"   1663449273446   \n",
       "4  unknown  Wifi:\\n\"5G The London\"   1663449202652   \n",
       "\n",
       "                       timestamp  \n",
       "0  2022-09-16T19:35:30.741-05:00  \n",
       "1  2022-09-16T19:38:49.351-05:00  \n",
       "2  2022-09-16T19:36:46.577-05:00  \n",
       "3  2022-09-17T16:14:33.442-05:00  \n",
       "4  2022-09-17T16:13:22.651-05:00  "
      ]
     },
     "execution_count": 57,
     "metadata": {},
     "output_type": "execute_result"
    }
   ],
   "source": [
    "location_df.head()"
   ]
  },
  {
   "cell_type": "code",
   "execution_count": 48,
   "metadata": {},
   "outputs": [],
   "source": [
    "# location_df.drop(\"user_email\", axis=1, inplace=True)\n",
    "# location_df.rename(columns={\"user_email_mask\": \"user_email\"}, inplace=True)"
   ]
  },
  {
   "cell_type": "code",
   "execution_count": 70,
   "metadata": {},
   "outputs": [],
   "source": [
    "location_df[\"wifi_status\"] = location_df[\"wifi_status\"].apply(lambda x: str(x).replace(\"\\n\", \"\").replace('\"', \"\"))\n",
    "location_df[\"charging_type\"] = location_df[\"charging_type\"].apply(lambda x: str(x).replace(\"\\n\", \"\").replace('\"', \"\"))"
   ]
  },
  {
   "cell_type": "code",
   "execution_count": 62,
   "metadata": {},
   "outputs": [],
   "source": [
    "location_df.rename(columns={\"user_email\": \"user\"}, inplace=True)"
   ]
  },
  {
   "cell_type": "code",
   "execution_count": 74,
   "metadata": {},
   "outputs": [
    {
     "data": {
      "text/plain": [
       "(139728, 11)"
      ]
     },
     "execution_count": 74,
     "metadata": {},
     "output_type": "execute_result"
    }
   ],
   "source": [
    "location_df.shape"
   ]
  },
  {
   "cell_type": "code",
   "execution_count": 81,
   "metadata": {},
   "outputs": [],
   "source": [
    "location_df = location_df[(location_df[\"latitude\"]!= 0.0)]\n",
    "location_df = location_df[~location_df[\"charging_status\"].isna()]"
   ]
  },
  {
   "cell_type": "code",
   "execution_count": 87,
   "metadata": {},
   "outputs": [
    {
     "data": {
      "text/plain": [
       "(139722, 11)"
      ]
     },
     "execution_count": 87,
     "metadata": {},
     "output_type": "execute_result"
    }
   ],
   "source": [
    "location_df.shape"
   ]
  },
  {
   "cell_type": "code",
   "execution_count": 90,
   "metadata": {},
   "outputs": [],
   "source": [
    "location_df[\"latitude\"] = location_df[\"latitude\"].apply(lambda x: round(x, 7))\n",
    "location_df[\"longitude\"] = location_df[\"longitude\"].apply(lambda x: round(x, 7))"
   ]
  },
  {
   "cell_type": "code",
   "execution_count": 93,
   "metadata": {},
   "outputs": [],
   "source": [
    "location_df.to_csv(\"data_location.csv\", index=False)"
   ]
  },
  {
   "cell_type": "code",
   "execution_count": null,
   "metadata": {},
   "outputs": [],
   "source": []
  },
  {
   "cell_type": "code",
   "execution_count": null,
   "metadata": {},
   "outputs": [],
   "source": []
  },
  {
   "cell_type": "code",
   "execution_count": null,
   "metadata": {},
   "outputs": [],
   "source": [
    "import pandas as pd\n",
    "from google.cloud import bigquery, storage\n",
    "import io\n",
    "\n",
    "BUCKET_NAME = \"tamu-thesis-data-09252022\"\n",
    "DATA_LOCATION_PATH = \"location_data/jam_location_data_09252022.csv\"\n",
    "DATASET_ID = \"tamu-thesis-sn.thesis_data_analysis\"\n",
    "\n",
    "def change_user_email(email, user_email_map):\n",
    "    return user_email_map[email]\n",
    "\n",
    "def map_user_email_mask(user_email):\n",
    "    unique_user_email = list(set(user_email))\n",
    "    unique_user_email.sort()\n",
    "    user_email_map = dict()\n",
    "    k = 1\n",
    "    for email in unique_user_email:\n",
    "        user_email_map[email] = \"user_\" + str(k)\n",
    "        k += 1\n",
    "    return user_email_map\n",
    "\n",
    "def main(request):\n",
    "    # get the csv data into pandas dataframe\n",
    "    storage_client = storage.Client()\n",
    "    bucket = storage_client.bucket(BUCKET_NAME)\n",
    "    blob = bucket.blob(DATA_LOCATION_PATH)\n",
    "    data = blob.download_as_bytes()\n",
    "    location_df = pd.read_csv(io.BytesIO(data))\n",
    "\n",
    "    # Process, clean and mask the data\n",
    "    # get the user email map\n",
    "    user_email_map = map_user_email_mask(location_df[\"user_email\"])\n",
    "    # remove `user_name` column\n",
    "    location_df.drop(\"user_name\", axis=1, inplace=True)\n",
    "    location_df[\"user_email\"] = location_df[\"user_email\"].apply(lambda x: change_user_email(x, user_email_map))\n",
    "    # clean the `wifi_status`, `charging_type` column data\n",
    "    location_df[\"wifi_status\"] = location_df[\"wifi_status\"].apply(lambda x: str(x).replace(\"\\n\", \"\").replace('\"', \"\"))\n",
    "    location_df[\"charging_type\"] = location_df[\"charging_type\"].apply(lambda x: str(x).replace(\"\\n\", \"\").replace('\"', \"\"))\n",
    "    # remove null values from latitude, longitude, charging_type columns\n",
    "    location_df = location_df[(location_df[\"latitude\"]!= 0.0)]\n",
    "    location_df = location_df[~location_df[\"charging_status\"].isna()]\n",
    "\n",
    "    # load the data into biquery\n",
    "    bq_client = bigquery.Client()\n",
    "    dataset = bq_client.dataset(DATASET_ID)\n",
    "    table_ref = dataset.table(\"data_location\")\n",
    "    load_job = client.load_table_from_dataframe(location_df, table_ref)\n",
    "    load_job.result()\n"
   ]
  },
  {
   "cell_type": "markdown",
   "metadata": {},
   "source": [
    "requirements.txt for google cloud functions - \n",
    "numpy\n",
    "pandas\n",
    "google-cloud-storage\n",
    "google-cloud-bigquery"
   ]
  },
  {
   "cell_type": "code",
   "execution_count": null,
   "metadata": {},
   "outputs": [],
   "source": []
  },
  {
   "cell_type": "code",
   "execution_count": null,
   "metadata": {},
   "outputs": [],
   "source": []
  },
  {
   "cell_type": "code",
   "execution_count": null,
   "metadata": {},
   "outputs": [],
   "source": []
  }
 ],
 "metadata": {
  "kernelspec": {
   "display_name": "Python 3",
   "language": "python",
   "name": "python3"
  },
  "language_info": {
   "codemirror_mode": {
    "name": "ipython",
    "version": 3
   },
   "file_extension": ".py",
   "mimetype": "text/x-python",
   "name": "python",
   "nbconvert_exporter": "python",
   "pygments_lexer": "ipython3",
   "version": "3.8.3"
  }
 },
 "nbformat": 4,
 "nbformat_minor": 4
}
