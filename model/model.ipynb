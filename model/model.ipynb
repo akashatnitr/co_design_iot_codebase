{
  "cells": [
    {
      "cell_type": "markdown",
      "metadata": {
        "id": "XKx_PpIoktzG"
      },
      "source": [
        "Author: Sanjay Nayak\n",
        "\n",
        "Affliation: Department of Computer Science & Engineering, Texas A&M University\n",
        "\n",
        "Copyright 2023 Sanjay Nayak"
      ]
    },
    {
      "cell_type": "code",
      "execution_count": 56,
      "metadata": {
        "id": "wqaxQ_rdw0it"
      },
      "outputs": [],
      "source": [
        "import datetime\n",
        "import numpy as np\n",
        "import pandas as pd\n",
        "import seaborn\n",
        "from collections import defaultdict\n",
        "\n",
        "import torch\n",
        "import torch.nn as nn\n",
        "from torch.autograd import Variable\n",
        "\n",
        "from sklearn import svm\n",
        "from sklearn.utils import shuffle\n",
        "from sklearn.ensemble import RandomForestClassifier\n",
        "from sklearn.model_selection import train_test_split, TimeSeriesSplit\n",
        "\n",
        "import xgboost as xgb\n",
        "\n",
        "import plotly.express as px\n",
        "import matplotlib.pyplot as plt"
      ]
    },
    {
      "cell_type": "markdown",
      "metadata": {
        "id": "RHsmsO9dgPMY"
      },
      "source": [
        "# Intent Prediction\n",
        "1. Shopping\n",
        "2. Recreation\n",
        "3. Work & Travel\n",
        "4. Studying\n",
        "5. Chilling"
      ]
    },
    {
      "cell_type": "markdown",
      "metadata": {
        "id": "fWwqry3YRd1T"
      },
      "source": [
        "# Load all data"
      ]
    },
    {
      "cell_type": "code",
      "execution_count": 57,
      "metadata": {
        "id": "Gmgr7J5ZNnai"
      },
      "outputs": [],
      "source": [
        "clus_en_proc = pd.read_csv(\"../preprocessing/cleaned_user_cat.csv\")\n",
        "clus_en_proc.drop(columns=[\"Unnamed: 0\"], inplace=True)"
      ]
    },
    {
      "cell_type": "code",
      "execution_count": 58,
      "metadata": {
        "colab": {
          "base_uri": "https://localhost:8080/",
          "height": 206
        },
        "id": "-IqNu58dNqBl",
        "outputId": "31287360-34a6-411a-fe95-998b302e113c"
      },
      "outputs": [
        {
          "data": {
            "text/html": [
              "<div>\n",
              "<style scoped>\n",
              "    .dataframe tbody tr th:only-of-type {\n",
              "        vertical-align: middle;\n",
              "    }\n",
              "\n",
              "    .dataframe tbody tr th {\n",
              "        vertical-align: top;\n",
              "    }\n",
              "\n",
              "    .dataframe thead th {\n",
              "        text-align: right;\n",
              "    }\n",
              "</style>\n",
              "<table border=\"1\" class=\"dataframe\">\n",
              "  <thead>\n",
              "    <tr style=\"text-align: right;\">\n",
              "      <th></th>\n",
              "      <th>user</th>\n",
              "      <th>hour</th>\n",
              "      <th>labels</th>\n",
              "      <th>weekday</th>\n",
              "      <th>day_type</th>\n",
              "      <th>charging_type</th>\n",
              "      <th>bluetooth</th>\n",
              "      <th>wifi</th>\n",
              "      <th>charging_status</th>\n",
              "      <th>clusters</th>\n",
              "      <th>daytime</th>\n",
              "    </tr>\n",
              "  </thead>\n",
              "  <tbody>\n",
              "    <tr>\n",
              "      <th>0</th>\n",
              "      <td>user_11</td>\n",
              "      <td>13</td>\n",
              "      <td>5</td>\n",
              "      <td>0</td>\n",
              "      <td>WD</td>\n",
              "      <td>1</td>\n",
              "      <td>1</td>\n",
              "      <td>2</td>\n",
              "      <td>1</td>\n",
              "      <td>1</td>\n",
              "      <td>3</td>\n",
              "    </tr>\n",
              "    <tr>\n",
              "      <th>1</th>\n",
              "      <td>user_11</td>\n",
              "      <td>13</td>\n",
              "      <td>5</td>\n",
              "      <td>0</td>\n",
              "      <td>WD</td>\n",
              "      <td>1</td>\n",
              "      <td>1</td>\n",
              "      <td>2</td>\n",
              "      <td>1</td>\n",
              "      <td>1</td>\n",
              "      <td>3</td>\n",
              "    </tr>\n",
              "    <tr>\n",
              "      <th>2</th>\n",
              "      <td>user_11</td>\n",
              "      <td>13</td>\n",
              "      <td>5</td>\n",
              "      <td>0</td>\n",
              "      <td>WD</td>\n",
              "      <td>1</td>\n",
              "      <td>1</td>\n",
              "      <td>2</td>\n",
              "      <td>1</td>\n",
              "      <td>1</td>\n",
              "      <td>3</td>\n",
              "    </tr>\n",
              "    <tr>\n",
              "      <th>3</th>\n",
              "      <td>user_11</td>\n",
              "      <td>14</td>\n",
              "      <td>5</td>\n",
              "      <td>0</td>\n",
              "      <td>WD</td>\n",
              "      <td>1</td>\n",
              "      <td>1</td>\n",
              "      <td>2</td>\n",
              "      <td>1</td>\n",
              "      <td>1</td>\n",
              "      <td>3</td>\n",
              "    </tr>\n",
              "    <tr>\n",
              "      <th>4</th>\n",
              "      <td>user_11</td>\n",
              "      <td>14</td>\n",
              "      <td>5</td>\n",
              "      <td>0</td>\n",
              "      <td>WD</td>\n",
              "      <td>1</td>\n",
              "      <td>1</td>\n",
              "      <td>2</td>\n",
              "      <td>1</td>\n",
              "      <td>1</td>\n",
              "      <td>3</td>\n",
              "    </tr>\n",
              "  </tbody>\n",
              "</table>\n",
              "</div>"
            ],
            "text/plain": [
              "      user  hour  labels  weekday day_type  charging_type  bluetooth  wifi  \\\n",
              "0  user_11    13       5        0       WD              1          1     2   \n",
              "1  user_11    13       5        0       WD              1          1     2   \n",
              "2  user_11    13       5        0       WD              1          1     2   \n",
              "3  user_11    14       5        0       WD              1          1     2   \n",
              "4  user_11    14       5        0       WD              1          1     2   \n",
              "\n",
              "   charging_status  clusters  daytime  \n",
              "0                1         1        3  \n",
              "1                1         1        3  \n",
              "2                1         1        3  \n",
              "3                1         1        3  \n",
              "4                1         1        3  "
            ]
          },
          "execution_count": 58,
          "metadata": {},
          "output_type": "execute_result"
        }
      ],
      "source": [
        "clus_en_proc.head()"
      ]
    },
    {
      "cell_type": "markdown",
      "metadata": {
        "id": "j_JqwczQU2r9"
      },
      "source": [
        "# Intent addition\n",
        "Add intent column to the dataset by mapping the cluster to the 5 intents currently present.\n",
        "\n",
        "Intent - \n",
        "1. Shopping\n",
        "2. Recreation\n",
        "3. Work & Travel\n",
        "4. Studying\n",
        "5. Chilling\n",
        "\n",
        "Mapping Values\t\n",
        "*   H - Home (1) - 5\n",
        "*   RT - Restaurant (2) - 2\n",
        "*   U - University (3) - 4\n",
        "*   O- Office (4) - 3\n",
        "*   RC - Recreational (5) - 2\n",
        "*   A - Airport (6) - 3\n",
        "*   S - Supermarket (7) - 1"
      ]
    },
    {
      "cell_type": "code",
      "execution_count": 59,
      "metadata": {
        "colab": {
          "base_uri": "https://localhost:8080/"
        },
        "id": "enDn9XmYVtNj",
        "outputId": "320c4b6b-af75-49d3-880d-6181b8444d56"
      },
      "outputs": [
        {
          "data": {
            "text/plain": [
              "array([1, 7, 5, 2, 4, 6, 3])"
            ]
          },
          "execution_count": 59,
          "metadata": {},
          "output_type": "execute_result"
        }
      ],
      "source": [
        "clus_en_proc[\"clusters\"].unique()"
      ]
    },
    {
      "cell_type": "code",
      "execution_count": 60,
      "metadata": {
        "id": "dIao3w4hVhFm"
      },
      "outputs": [],
      "source": [
        "def map_intent(x):\n",
        "    map_values = {1: 5, 2: 2, 3: 4, 4: 3, 5: 2, 6: 3, 7: 1}\n",
        "    return map_values[x]"
      ]
    },
    {
      "cell_type": "code",
      "execution_count": 61,
      "metadata": {
        "id": "lUZsnAetUyJx"
      },
      "outputs": [],
      "source": [
        "clus_en_proc[\"intent\"] = clus_en_proc[\"clusters\"].apply(lambda x: map_intent(x))"
      ]
    },
    {
      "cell_type": "code",
      "execution_count": 62,
      "metadata": {
        "colab": {
          "base_uri": "https://localhost:8080/",
          "height": 206
        },
        "id": "Pm-xKlIPYAAP",
        "outputId": "f6ddd016-83a5-4524-f815-152ea01aef58"
      },
      "outputs": [
        {
          "data": {
            "text/html": [
              "<div>\n",
              "<style scoped>\n",
              "    .dataframe tbody tr th:only-of-type {\n",
              "        vertical-align: middle;\n",
              "    }\n",
              "\n",
              "    .dataframe tbody tr th {\n",
              "        vertical-align: top;\n",
              "    }\n",
              "\n",
              "    .dataframe thead th {\n",
              "        text-align: right;\n",
              "    }\n",
              "</style>\n",
              "<table border=\"1\" class=\"dataframe\">\n",
              "  <thead>\n",
              "    <tr style=\"text-align: right;\">\n",
              "      <th></th>\n",
              "      <th>user</th>\n",
              "      <th>hour</th>\n",
              "      <th>labels</th>\n",
              "      <th>weekday</th>\n",
              "      <th>day_type</th>\n",
              "      <th>charging_type</th>\n",
              "      <th>bluetooth</th>\n",
              "      <th>wifi</th>\n",
              "      <th>charging_status</th>\n",
              "      <th>clusters</th>\n",
              "      <th>daytime</th>\n",
              "      <th>intent</th>\n",
              "    </tr>\n",
              "  </thead>\n",
              "  <tbody>\n",
              "    <tr>\n",
              "      <th>0</th>\n",
              "      <td>user_11</td>\n",
              "      <td>13</td>\n",
              "      <td>5</td>\n",
              "      <td>0</td>\n",
              "      <td>WD</td>\n",
              "      <td>1</td>\n",
              "      <td>1</td>\n",
              "      <td>2</td>\n",
              "      <td>1</td>\n",
              "      <td>1</td>\n",
              "      <td>3</td>\n",
              "      <td>5</td>\n",
              "    </tr>\n",
              "    <tr>\n",
              "      <th>1</th>\n",
              "      <td>user_11</td>\n",
              "      <td>13</td>\n",
              "      <td>5</td>\n",
              "      <td>0</td>\n",
              "      <td>WD</td>\n",
              "      <td>1</td>\n",
              "      <td>1</td>\n",
              "      <td>2</td>\n",
              "      <td>1</td>\n",
              "      <td>1</td>\n",
              "      <td>3</td>\n",
              "      <td>5</td>\n",
              "    </tr>\n",
              "    <tr>\n",
              "      <th>2</th>\n",
              "      <td>user_11</td>\n",
              "      <td>13</td>\n",
              "      <td>5</td>\n",
              "      <td>0</td>\n",
              "      <td>WD</td>\n",
              "      <td>1</td>\n",
              "      <td>1</td>\n",
              "      <td>2</td>\n",
              "      <td>1</td>\n",
              "      <td>1</td>\n",
              "      <td>3</td>\n",
              "      <td>5</td>\n",
              "    </tr>\n",
              "    <tr>\n",
              "      <th>3</th>\n",
              "      <td>user_11</td>\n",
              "      <td>14</td>\n",
              "      <td>5</td>\n",
              "      <td>0</td>\n",
              "      <td>WD</td>\n",
              "      <td>1</td>\n",
              "      <td>1</td>\n",
              "      <td>2</td>\n",
              "      <td>1</td>\n",
              "      <td>1</td>\n",
              "      <td>3</td>\n",
              "      <td>5</td>\n",
              "    </tr>\n",
              "    <tr>\n",
              "      <th>4</th>\n",
              "      <td>user_11</td>\n",
              "      <td>14</td>\n",
              "      <td>5</td>\n",
              "      <td>0</td>\n",
              "      <td>WD</td>\n",
              "      <td>1</td>\n",
              "      <td>1</td>\n",
              "      <td>2</td>\n",
              "      <td>1</td>\n",
              "      <td>1</td>\n",
              "      <td>3</td>\n",
              "      <td>5</td>\n",
              "    </tr>\n",
              "  </tbody>\n",
              "</table>\n",
              "</div>"
            ],
            "text/plain": [
              "      user  hour  labels  weekday day_type  charging_type  bluetooth  wifi  \\\n",
              "0  user_11    13       5        0       WD              1          1     2   \n",
              "1  user_11    13       5        0       WD              1          1     2   \n",
              "2  user_11    13       5        0       WD              1          1     2   \n",
              "3  user_11    14       5        0       WD              1          1     2   \n",
              "4  user_11    14       5        0       WD              1          1     2   \n",
              "\n",
              "   charging_status  clusters  daytime  intent  \n",
              "0                1         1        3       5  \n",
              "1                1         1        3       5  \n",
              "2                1         1        3       5  \n",
              "3                1         1        3       5  \n",
              "4                1         1        3       5  "
            ]
          },
          "execution_count": 62,
          "metadata": {},
          "output_type": "execute_result"
        }
      ],
      "source": [
        "clus_en_proc.head()"
      ]
    },
    {
      "cell_type": "code",
      "execution_count": 63,
      "metadata": {
        "id": "CVKkaMLnN_O_"
      },
      "outputs": [],
      "source": [
        "clus_df = clus_en_proc.drop(columns=[\"labels\", \"daytime\"])\n",
        "clus_df[\"daytype\"] = clus_df[\"day_type\"].apply(lambda x: 0 if x == \"WD\" else 1)\n",
        "clus_df[\"users\"] = clus_df[\"user\"].apply(lambda x: int(x.split(\"_\")[1]))\n",
        "clus_df.drop(columns=[\"day_type\", \"user\"], inplace=True)\n",
        "clus_df.rename(columns={\"users\": \"user\"}, inplace=True)"
      ]
    },
    {
      "cell_type": "code",
      "execution_count": 64,
      "metadata": {
        "colab": {
          "base_uri": "https://localhost:8080/",
          "height": 206
        },
        "id": "0HbncbdZOgUZ",
        "outputId": "8ade8604-7f6d-48c9-8ded-b9f158c99f96"
      },
      "outputs": [
        {
          "data": {
            "text/html": [
              "<div>\n",
              "<style scoped>\n",
              "    .dataframe tbody tr th:only-of-type {\n",
              "        vertical-align: middle;\n",
              "    }\n",
              "\n",
              "    .dataframe tbody tr th {\n",
              "        vertical-align: top;\n",
              "    }\n",
              "\n",
              "    .dataframe thead th {\n",
              "        text-align: right;\n",
              "    }\n",
              "</style>\n",
              "<table border=\"1\" class=\"dataframe\">\n",
              "  <thead>\n",
              "    <tr style=\"text-align: right;\">\n",
              "      <th></th>\n",
              "      <th>hour</th>\n",
              "      <th>weekday</th>\n",
              "      <th>charging_type</th>\n",
              "      <th>bluetooth</th>\n",
              "      <th>wifi</th>\n",
              "      <th>charging_status</th>\n",
              "      <th>clusters</th>\n",
              "      <th>intent</th>\n",
              "      <th>daytype</th>\n",
              "      <th>user</th>\n",
              "    </tr>\n",
              "  </thead>\n",
              "  <tbody>\n",
              "    <tr>\n",
              "      <th>54462</th>\n",
              "      <td>3</td>\n",
              "      <td>4</td>\n",
              "      <td>1</td>\n",
              "      <td>3</td>\n",
              "      <td>2</td>\n",
              "      <td>1</td>\n",
              "      <td>1</td>\n",
              "      <td>5</td>\n",
              "      <td>0</td>\n",
              "      <td>14</td>\n",
              "    </tr>\n",
              "    <tr>\n",
              "      <th>76556</th>\n",
              "      <td>3</td>\n",
              "      <td>0</td>\n",
              "      <td>1</td>\n",
              "      <td>4</td>\n",
              "      <td>2</td>\n",
              "      <td>1</td>\n",
              "      <td>1</td>\n",
              "      <td>5</td>\n",
              "      <td>0</td>\n",
              "      <td>21</td>\n",
              "    </tr>\n",
              "    <tr>\n",
              "      <th>3533</th>\n",
              "      <td>22</td>\n",
              "      <td>5</td>\n",
              "      <td>1</td>\n",
              "      <td>3</td>\n",
              "      <td>2</td>\n",
              "      <td>1</td>\n",
              "      <td>1</td>\n",
              "      <td>5</td>\n",
              "      <td>0</td>\n",
              "      <td>11</td>\n",
              "    </tr>\n",
              "    <tr>\n",
              "      <th>11923</th>\n",
              "      <td>18</td>\n",
              "      <td>0</td>\n",
              "      <td>1</td>\n",
              "      <td>3</td>\n",
              "      <td>2</td>\n",
              "      <td>1</td>\n",
              "      <td>1</td>\n",
              "      <td>5</td>\n",
              "      <td>0</td>\n",
              "      <td>13</td>\n",
              "    </tr>\n",
              "    <tr>\n",
              "      <th>8150</th>\n",
              "      <td>1</td>\n",
              "      <td>5</td>\n",
              "      <td>2</td>\n",
              "      <td>3</td>\n",
              "      <td>2</td>\n",
              "      <td>2</td>\n",
              "      <td>1</td>\n",
              "      <td>5</td>\n",
              "      <td>0</td>\n",
              "      <td>13</td>\n",
              "    </tr>\n",
              "  </tbody>\n",
              "</table>\n",
              "</div>"
            ],
            "text/plain": [
              "       hour  weekday  charging_type  bluetooth  wifi  charging_status  \\\n",
              "54462     3        4              1          3     2                1   \n",
              "76556     3        0              1          4     2                1   \n",
              "3533     22        5              1          3     2                1   \n",
              "11923    18        0              1          3     2                1   \n",
              "8150      1        5              2          3     2                2   \n",
              "\n",
              "       clusters  intent  daytype  user  \n",
              "54462         1       5        0    14  \n",
              "76556         1       5        0    21  \n",
              "3533          1       5        0    11  \n",
              "11923         1       5        0    13  \n",
              "8150          1       5        0    13  "
            ]
          },
          "execution_count": 64,
          "metadata": {},
          "output_type": "execute_result"
        }
      ],
      "source": [
        "clus_df.sample(5)"
      ]
    },
    {
      "cell_type": "code",
      "execution_count": 65,
      "metadata": {
        "colab": {
          "base_uri": "https://localhost:8080/"
        },
        "id": "Km3ZOzRuTYoM",
        "outputId": "6659b2e3-2836-4088-a724-8c7054d6ab89"
      },
      "outputs": [
        {
          "data": {
            "text/plain": [
              "(90641, 10)"
            ]
          },
          "execution_count": 65,
          "metadata": {},
          "output_type": "execute_result"
        }
      ],
      "source": [
        "clus_df.shape"
      ]
    },
    {
      "cell_type": "code",
      "execution_count": 66,
      "metadata": {
        "id": "_ezppaq29AKU"
      },
      "outputs": [],
      "source": [
        "users_unique = clus_df[\"user\"].unique()"
      ]
    },
    {
      "cell_type": "code",
      "execution_count": 67,
      "metadata": {
        "colab": {
          "base_uri": "https://localhost:8080/",
          "height": 363
        },
        "id": "wAMP2ZXQOyIK",
        "outputId": "03186312-c1f8-4d05-e66e-cb78223cf2fb"
      },
      "outputs": [
        {
          "data": {
            "text/html": [
              "<div>\n",
              "<style scoped>\n",
              "    .dataframe tbody tr th:only-of-type {\n",
              "        vertical-align: middle;\n",
              "    }\n",
              "\n",
              "    .dataframe tbody tr th {\n",
              "        vertical-align: top;\n",
              "    }\n",
              "\n",
              "    .dataframe thead th {\n",
              "        text-align: right;\n",
              "    }\n",
              "</style>\n",
              "<table border=\"1\" class=\"dataframe\">\n",
              "  <thead>\n",
              "    <tr style=\"text-align: right;\">\n",
              "      <th></th>\n",
              "      <th>hour</th>\n",
              "      <th>weekday</th>\n",
              "      <th>charging_type</th>\n",
              "      <th>bluetooth</th>\n",
              "      <th>wifi</th>\n",
              "      <th>charging_status</th>\n",
              "      <th>clusters</th>\n",
              "      <th>intent</th>\n",
              "      <th>daytype</th>\n",
              "      <th>user</th>\n",
              "    </tr>\n",
              "  </thead>\n",
              "  <tbody>\n",
              "    <tr>\n",
              "      <th>hour</th>\n",
              "      <td>1.000000</td>\n",
              "      <td>-0.039252</td>\n",
              "      <td>-0.115601</td>\n",
              "      <td>-0.030892</td>\n",
              "      <td>-0.136321</td>\n",
              "      <td>-0.116338</td>\n",
              "      <td>0.111455</td>\n",
              "      <td>-0.114922</td>\n",
              "      <td>-0.010118</td>\n",
              "      <td>-0.005881</td>\n",
              "    </tr>\n",
              "    <tr>\n",
              "      <th>weekday</th>\n",
              "      <td>-0.039252</td>\n",
              "      <td>1.000000</td>\n",
              "      <td>0.027479</td>\n",
              "      <td>0.058577</td>\n",
              "      <td>0.003251</td>\n",
              "      <td>0.022307</td>\n",
              "      <td>-0.015569</td>\n",
              "      <td>-0.001889</td>\n",
              "      <td>0.589175</td>\n",
              "      <td>0.003653</td>\n",
              "    </tr>\n",
              "    <tr>\n",
              "      <th>charging_type</th>\n",
              "      <td>-0.115601</td>\n",
              "      <td>0.027479</td>\n",
              "      <td>1.000000</td>\n",
              "      <td>0.010933</td>\n",
              "      <td>0.118745</td>\n",
              "      <td>0.990684</td>\n",
              "      <td>-0.098274</td>\n",
              "      <td>0.107494</td>\n",
              "      <td>0.022358</td>\n",
              "      <td>0.002816</td>\n",
              "    </tr>\n",
              "    <tr>\n",
              "      <th>bluetooth</th>\n",
              "      <td>-0.030892</td>\n",
              "      <td>0.058577</td>\n",
              "      <td>0.010933</td>\n",
              "      <td>1.000000</td>\n",
              "      <td>-0.006553</td>\n",
              "      <td>0.009935</td>\n",
              "      <td>0.109355</td>\n",
              "      <td>-0.089409</td>\n",
              "      <td>0.027210</td>\n",
              "      <td>-0.194290</td>\n",
              "    </tr>\n",
              "    <tr>\n",
              "      <th>wifi</th>\n",
              "      <td>-0.136321</td>\n",
              "      <td>0.003251</td>\n",
              "      <td>0.118745</td>\n",
              "      <td>-0.006553</td>\n",
              "      <td>1.000000</td>\n",
              "      <td>0.121343</td>\n",
              "      <td>-0.012892</td>\n",
              "      <td>0.057819</td>\n",
              "      <td>0.019374</td>\n",
              "      <td>-0.020118</td>\n",
              "    </tr>\n",
              "    <tr>\n",
              "      <th>charging_status</th>\n",
              "      <td>-0.116338</td>\n",
              "      <td>0.022307</td>\n",
              "      <td>0.990684</td>\n",
              "      <td>0.009935</td>\n",
              "      <td>0.121343</td>\n",
              "      <td>1.000000</td>\n",
              "      <td>-0.095793</td>\n",
              "      <td>0.105887</td>\n",
              "      <td>0.015932</td>\n",
              "      <td>0.004802</td>\n",
              "    </tr>\n",
              "    <tr>\n",
              "      <th>clusters</th>\n",
              "      <td>0.111455</td>\n",
              "      <td>-0.015569</td>\n",
              "      <td>-0.098274</td>\n",
              "      <td>0.109355</td>\n",
              "      <td>-0.012892</td>\n",
              "      <td>-0.095793</td>\n",
              "      <td>1.000000</td>\n",
              "      <td>-0.954630</td>\n",
              "      <td>-0.070508</td>\n",
              "      <td>-0.090568</td>\n",
              "    </tr>\n",
              "    <tr>\n",
              "      <th>intent</th>\n",
              "      <td>-0.114922</td>\n",
              "      <td>-0.001889</td>\n",
              "      <td>0.107494</td>\n",
              "      <td>-0.089409</td>\n",
              "      <td>0.057819</td>\n",
              "      <td>0.105887</td>\n",
              "      <td>-0.954630</td>\n",
              "      <td>1.000000</td>\n",
              "      <td>0.061598</td>\n",
              "      <td>0.038627</td>\n",
              "    </tr>\n",
              "    <tr>\n",
              "      <th>daytype</th>\n",
              "      <td>-0.010118</td>\n",
              "      <td>0.589175</td>\n",
              "      <td>0.022358</td>\n",
              "      <td>0.027210</td>\n",
              "      <td>0.019374</td>\n",
              "      <td>0.015932</td>\n",
              "      <td>-0.070508</td>\n",
              "      <td>0.061598</td>\n",
              "      <td>1.000000</td>\n",
              "      <td>0.080825</td>\n",
              "    </tr>\n",
              "    <tr>\n",
              "      <th>user</th>\n",
              "      <td>-0.005881</td>\n",
              "      <td>0.003653</td>\n",
              "      <td>0.002816</td>\n",
              "      <td>-0.194290</td>\n",
              "      <td>-0.020118</td>\n",
              "      <td>0.004802</td>\n",
              "      <td>-0.090568</td>\n",
              "      <td>0.038627</td>\n",
              "      <td>0.080825</td>\n",
              "      <td>1.000000</td>\n",
              "    </tr>\n",
              "  </tbody>\n",
              "</table>\n",
              "</div>"
            ],
            "text/plain": [
              "                     hour   weekday  charging_type  bluetooth      wifi  \\\n",
              "hour             1.000000 -0.039252      -0.115601  -0.030892 -0.136321   \n",
              "weekday         -0.039252  1.000000       0.027479   0.058577  0.003251   \n",
              "charging_type   -0.115601  0.027479       1.000000   0.010933  0.118745   \n",
              "bluetooth       -0.030892  0.058577       0.010933   1.000000 -0.006553   \n",
              "wifi            -0.136321  0.003251       0.118745  -0.006553  1.000000   \n",
              "charging_status -0.116338  0.022307       0.990684   0.009935  0.121343   \n",
              "clusters         0.111455 -0.015569      -0.098274   0.109355 -0.012892   \n",
              "intent          -0.114922 -0.001889       0.107494  -0.089409  0.057819   \n",
              "daytype         -0.010118  0.589175       0.022358   0.027210  0.019374   \n",
              "user            -0.005881  0.003653       0.002816  -0.194290 -0.020118   \n",
              "\n",
              "                 charging_status  clusters    intent   daytype      user  \n",
              "hour                   -0.116338  0.111455 -0.114922 -0.010118 -0.005881  \n",
              "weekday                 0.022307 -0.015569 -0.001889  0.589175  0.003653  \n",
              "charging_type           0.990684 -0.098274  0.107494  0.022358  0.002816  \n",
              "bluetooth               0.009935  0.109355 -0.089409  0.027210 -0.194290  \n",
              "wifi                    0.121343 -0.012892  0.057819  0.019374 -0.020118  \n",
              "charging_status         1.000000 -0.095793  0.105887  0.015932  0.004802  \n",
              "clusters               -0.095793  1.000000 -0.954630 -0.070508 -0.090568  \n",
              "intent                  0.105887 -0.954630  1.000000  0.061598  0.038627  \n",
              "daytype                 0.015932 -0.070508  0.061598  1.000000  0.080825  \n",
              "user                    0.004802 -0.090568  0.038627  0.080825  1.000000  "
            ]
          },
          "execution_count": 67,
          "metadata": {},
          "output_type": "execute_result"
        }
      ],
      "source": [
        "clus_df.corr()"
      ]
    },
    {
      "cell_type": "markdown",
      "metadata": {
        "id": "-bGvF-I8PhIS"
      },
      "source": [
        "### Correlation matrix of the features - hour, weekday, charging_type, bluetooth, wifi, charging_status, clusters, daytype"
      ]
    },
    {
      "cell_type": "code",
      "execution_count": 68,
      "metadata": {
        "colab": {
          "base_uri": "https://localhost:8080/",
          "height": 677
        },
        "id": "K4goZLBTPDvd",
        "outputId": "becaf887-ee24-44aa-d18a-08506e061297"
      },
      "outputs": [
        {
          "data": {
            "image/png": "[encoded data removed]",
            "text/plain": [
              "<Figure size 1000x1000 with 2 Axes>"
            ]
          },
          "metadata": {},
          "output_type": "display_data"
        }
      ],
      "source": [
        "fig = plt.figure(figsize=(10, 10))\n",
        "seaborn.heatmap(clus_df[[\"user\", \"hour\", \"weekday\", \"charging_type\", \"bluetooth\", \"wifi\", \"charging_status\", \"daytype\"]].corr(), annot=True)\n",
        "plt.title(\"Correlation matrix of user behavior features\")\n",
        "plt.show()"
      ]
    },
    {
      "cell_type": "code",
      "execution_count": 69,
      "metadata": {
        "id": "evSl9fAVTqGj"
      },
      "outputs": [],
      "source": [
        "def change_user_to_int(df):\n",
        "    df[\"users\"] = df[\"user\"].apply(lambda x: int(x.split(\"_\")[1]))\n",
        "    df.drop(columns=[\"user\"], inplace=True)\n",
        "    df.rename(columns={\"users\": \"user\"}, inplace=True)\n",
        "    return df"
      ]
    },
    {
      "cell_type": "code",
      "execution_count": 70,
      "metadata": {
        "colab": {
          "base_uri": "https://localhost:8080/"
        },
        "id": "QAsGFCiVRy4O",
        "outputId": "eb8fd77c-38f5-495f-9c59-85d17c95b3d0"
      },
      "outputs": [
        {
          "name": "stdout",
          "output_type": "stream",
          "text": [
            "Shape of location hour df probability: (24, 7)\n",
            "Shape of location hour df probability: (216, 9)\n",
            "Shape of location hour df probability: (63, 9)\n",
            "Shape of location hour df probability: (18, 9)\n"
          ]
        }
      ],
      "source": [
        "loc_hr_df = pd.read_csv(\"../preprocessing/probabilities/location_hour_proba.csv\")\n",
        "loc_hr_df.drop(columns=[\"Unnamed: 0\"], inplace=True)\n",
        "print(f\"Shape of location hour df probability: {loc_hr_df.shape}\")\n",
        "\n",
        "usr_loc_hr_df = pd.read_csv(\"../preprocessing/probabilities/user_location_hour_proba.csv\")\n",
        "usr_loc_hr_df.drop(columns=[\"Unnamed: 0\"], inplace=True)\n",
        "usr_loc_hr_df = change_user_to_int(usr_loc_hr_df)\n",
        "print(f\"Shape of location hour df probability: {usr_loc_hr_df.shape}\")\n",
        "\n",
        "usr_loc_dy_df = pd.read_csv(\"../preprocessing/probabilities/user_location_day_proba.csv\")\n",
        "usr_loc_dy_df.drop(columns=[\"Unnamed: 0\"], inplace=True)\n",
        "usr_loc_dy_df = change_user_to_int(usr_loc_dy_df)\n",
        "print(f\"Shape of location hour df probability: {usr_loc_dy_df.shape}\")\n",
        "\n",
        "usr_loc_dyt_df = pd.read_csv(\"../preprocessing/probabilities/user_location_daytype_proba.csv\")\n",
        "usr_loc_dyt_df.drop(columns=[\"Unnamed: 0\"], inplace=True)\n",
        "usr_loc_dyt_df = change_user_to_int(usr_loc_dyt_df)\n",
        "print(f\"Shape of location hour df probability: {usr_loc_dyt_df.shape}\")"
      ]
    },
    {
      "cell_type": "code",
      "execution_count": 71,
      "metadata": {
        "colab": {
          "base_uri": "https://localhost:8080/",
          "height": 206
        },
        "id": "J-dbG9xbULwJ",
        "outputId": "ad2b01e3-ff74-4e28-b364-71314a6ec5d7"
      },
      "outputs": [
        {
          "data": {
            "text/html": [
              "<div>\n",
              "<style scoped>\n",
              "    .dataframe tbody tr th:only-of-type {\n",
              "        vertical-align: middle;\n",
              "    }\n",
              "\n",
              "    .dataframe tbody tr th {\n",
              "        vertical-align: top;\n",
              "    }\n",
              "\n",
              "    .dataframe thead th {\n",
              "        text-align: right;\n",
              "    }\n",
              "</style>\n",
              "<table border=\"1\" class=\"dataframe\">\n",
              "  <thead>\n",
              "    <tr style=\"text-align: right;\">\n",
              "      <th></th>\n",
              "      <th>H</th>\n",
              "      <th>RT</th>\n",
              "      <th>U</th>\n",
              "      <th>O</th>\n",
              "      <th>RC</th>\n",
              "      <th>A</th>\n",
              "      <th>S</th>\n",
              "    </tr>\n",
              "  </thead>\n",
              "  <tbody>\n",
              "    <tr>\n",
              "      <th>0</th>\n",
              "      <td>0.756327</td>\n",
              "      <td>0.004039</td>\n",
              "      <td>0.200054</td>\n",
              "      <td>0.000808</td>\n",
              "      <td>0.019655</td>\n",
              "      <td>0.00727</td>\n",
              "      <td>0.011847</td>\n",
              "    </tr>\n",
              "    <tr>\n",
              "      <th>1</th>\n",
              "      <td>0.734975</td>\n",
              "      <td>0.000000</td>\n",
              "      <td>0.235708</td>\n",
              "      <td>0.000000</td>\n",
              "      <td>0.014072</td>\n",
              "      <td>0.00000</td>\n",
              "      <td>0.015245</td>\n",
              "    </tr>\n",
              "    <tr>\n",
              "      <th>2</th>\n",
              "      <td>0.746606</td>\n",
              "      <td>0.000000</td>\n",
              "      <td>0.217195</td>\n",
              "      <td>0.000000</td>\n",
              "      <td>0.013952</td>\n",
              "      <td>0.00000</td>\n",
              "      <td>0.022247</td>\n",
              "    </tr>\n",
              "    <tr>\n",
              "      <th>3</th>\n",
              "      <td>0.730549</td>\n",
              "      <td>0.000000</td>\n",
              "      <td>0.226374</td>\n",
              "      <td>0.000000</td>\n",
              "      <td>0.014505</td>\n",
              "      <td>0.00000</td>\n",
              "      <td>0.028571</td>\n",
              "    </tr>\n",
              "    <tr>\n",
              "      <th>4</th>\n",
              "      <td>0.727863</td>\n",
              "      <td>0.000000</td>\n",
              "      <td>0.239685</td>\n",
              "      <td>0.000000</td>\n",
              "      <td>0.010199</td>\n",
              "      <td>0.00000</td>\n",
              "      <td>0.022253</td>\n",
              "    </tr>\n",
              "  </tbody>\n",
              "</table>\n",
              "</div>"
            ],
            "text/plain": [
              "          H        RT         U         O        RC        A         S\n",
              "0  0.756327  0.004039  0.200054  0.000808  0.019655  0.00727  0.011847\n",
              "1  0.734975  0.000000  0.235708  0.000000  0.014072  0.00000  0.015245\n",
              "2  0.746606  0.000000  0.217195  0.000000  0.013952  0.00000  0.022247\n",
              "3  0.730549  0.000000  0.226374  0.000000  0.014505  0.00000  0.028571\n",
              "4  0.727863  0.000000  0.239685  0.000000  0.010199  0.00000  0.022253"
            ]
          },
          "execution_count": 71,
          "metadata": {},
          "output_type": "execute_result"
        }
      ],
      "source": [
        "loc_hr_df.head()"
      ]
    },
    {
      "cell_type": "code",
      "execution_count": 72,
      "metadata": {
        "colab": {
          "base_uri": "https://localhost:8080/",
          "height": 206
        },
        "id": "4W78UHLwUPud",
        "outputId": "608b903d-3028-4c8c-a08f-0e674e8b8afb"
      },
      "outputs": [
        {
          "data": {
            "text/html": [
              "<div>\n",
              "<style scoped>\n",
              "    .dataframe tbody tr th:only-of-type {\n",
              "        vertical-align: middle;\n",
              "    }\n",
              "\n",
              "    .dataframe tbody tr th {\n",
              "        vertical-align: top;\n",
              "    }\n",
              "\n",
              "    .dataframe thead th {\n",
              "        text-align: right;\n",
              "    }\n",
              "</style>\n",
              "<table border=\"1\" class=\"dataframe\">\n",
              "  <thead>\n",
              "    <tr style=\"text-align: right;\">\n",
              "      <th></th>\n",
              "      <th>hour</th>\n",
              "      <th>H</th>\n",
              "      <th>RT</th>\n",
              "      <th>U</th>\n",
              "      <th>O</th>\n",
              "      <th>RC</th>\n",
              "      <th>A</th>\n",
              "      <th>S</th>\n",
              "      <th>user</th>\n",
              "    </tr>\n",
              "  </thead>\n",
              "  <tbody>\n",
              "    <tr>\n",
              "      <th>0</th>\n",
              "      <td>0</td>\n",
              "      <td>1.0</td>\n",
              "      <td>0.0</td>\n",
              "      <td>0.0</td>\n",
              "      <td>0.0</td>\n",
              "      <td>0.0</td>\n",
              "      <td>0.0</td>\n",
              "      <td>0.0</td>\n",
              "      <td>11</td>\n",
              "    </tr>\n",
              "    <tr>\n",
              "      <th>1</th>\n",
              "      <td>1</td>\n",
              "      <td>1.0</td>\n",
              "      <td>0.0</td>\n",
              "      <td>0.0</td>\n",
              "      <td>0.0</td>\n",
              "      <td>0.0</td>\n",
              "      <td>0.0</td>\n",
              "      <td>0.0</td>\n",
              "      <td>11</td>\n",
              "    </tr>\n",
              "    <tr>\n",
              "      <th>2</th>\n",
              "      <td>2</td>\n",
              "      <td>1.0</td>\n",
              "      <td>0.0</td>\n",
              "      <td>0.0</td>\n",
              "      <td>0.0</td>\n",
              "      <td>0.0</td>\n",
              "      <td>0.0</td>\n",
              "      <td>0.0</td>\n",
              "      <td>11</td>\n",
              "    </tr>\n",
              "    <tr>\n",
              "      <th>3</th>\n",
              "      <td>3</td>\n",
              "      <td>1.0</td>\n",
              "      <td>0.0</td>\n",
              "      <td>0.0</td>\n",
              "      <td>0.0</td>\n",
              "      <td>0.0</td>\n",
              "      <td>0.0</td>\n",
              "      <td>0.0</td>\n",
              "      <td>11</td>\n",
              "    </tr>\n",
              "    <tr>\n",
              "      <th>4</th>\n",
              "      <td>4</td>\n",
              "      <td>1.0</td>\n",
              "      <td>0.0</td>\n",
              "      <td>0.0</td>\n",
              "      <td>0.0</td>\n",
              "      <td>0.0</td>\n",
              "      <td>0.0</td>\n",
              "      <td>0.0</td>\n",
              "      <td>11</td>\n",
              "    </tr>\n",
              "  </tbody>\n",
              "</table>\n",
              "</div>"
            ],
            "text/plain": [
              "   hour    H   RT    U    O   RC    A    S  user\n",
              "0     0  1.0  0.0  0.0  0.0  0.0  0.0  0.0    11\n",
              "1     1  1.0  0.0  0.0  0.0  0.0  0.0  0.0    11\n",
              "2     2  1.0  0.0  0.0  0.0  0.0  0.0  0.0    11\n",
              "3     3  1.0  0.0  0.0  0.0  0.0  0.0  0.0    11\n",
              "4     4  1.0  0.0  0.0  0.0  0.0  0.0  0.0    11"
            ]
          },
          "execution_count": 72,
          "metadata": {},
          "output_type": "execute_result"
        }
      ],
      "source": [
        "usr_loc_hr_df.head()"
      ]
    },
    {
      "cell_type": "code",
      "execution_count": 73,
      "metadata": {
        "colab": {
          "base_uri": "https://localhost:8080/",
          "height": 206
        },
        "id": "XeZUOiS1URhK",
        "outputId": "79d7e168-68e5-48ea-809b-ca8b587821f4"
      },
      "outputs": [
        {
          "data": {
            "text/html": [
              "<div>\n",
              "<style scoped>\n",
              "    .dataframe tbody tr th:only-of-type {\n",
              "        vertical-align: middle;\n",
              "    }\n",
              "\n",
              "    .dataframe tbody tr th {\n",
              "        vertical-align: top;\n",
              "    }\n",
              "\n",
              "    .dataframe thead th {\n",
              "        text-align: right;\n",
              "    }\n",
              "</style>\n",
              "<table border=\"1\" class=\"dataframe\">\n",
              "  <thead>\n",
              "    <tr style=\"text-align: right;\">\n",
              "      <th></th>\n",
              "      <th>weekday</th>\n",
              "      <th>H</th>\n",
              "      <th>RT</th>\n",
              "      <th>U</th>\n",
              "      <th>O</th>\n",
              "      <th>RC</th>\n",
              "      <th>A</th>\n",
              "      <th>S</th>\n",
              "      <th>user</th>\n",
              "    </tr>\n",
              "  </thead>\n",
              "  <tbody>\n",
              "    <tr>\n",
              "      <th>0</th>\n",
              "      <td>0</td>\n",
              "      <td>1.000000</td>\n",
              "      <td>0.0</td>\n",
              "      <td>0.0</td>\n",
              "      <td>0.0</td>\n",
              "      <td>0.000000</td>\n",
              "      <td>0.0</td>\n",
              "      <td>0.000000</td>\n",
              "      <td>11</td>\n",
              "    </tr>\n",
              "    <tr>\n",
              "      <th>1</th>\n",
              "      <td>1</td>\n",
              "      <td>1.000000</td>\n",
              "      <td>0.0</td>\n",
              "      <td>0.0</td>\n",
              "      <td>0.0</td>\n",
              "      <td>0.000000</td>\n",
              "      <td>0.0</td>\n",
              "      <td>0.000000</td>\n",
              "      <td>11</td>\n",
              "    </tr>\n",
              "    <tr>\n",
              "      <th>2</th>\n",
              "      <td>2</td>\n",
              "      <td>0.753883</td>\n",
              "      <td>0.0</td>\n",
              "      <td>0.0</td>\n",
              "      <td>0.0</td>\n",
              "      <td>0.235364</td>\n",
              "      <td>0.0</td>\n",
              "      <td>0.010753</td>\n",
              "      <td>11</td>\n",
              "    </tr>\n",
              "    <tr>\n",
              "      <th>3</th>\n",
              "      <td>3</td>\n",
              "      <td>0.797063</td>\n",
              "      <td>0.0</td>\n",
              "      <td>0.0</td>\n",
              "      <td>0.0</td>\n",
              "      <td>0.201602</td>\n",
              "      <td>0.0</td>\n",
              "      <td>0.001335</td>\n",
              "      <td>11</td>\n",
              "    </tr>\n",
              "    <tr>\n",
              "      <th>4</th>\n",
              "      <td>4</td>\n",
              "      <td>0.673913</td>\n",
              "      <td>0.0</td>\n",
              "      <td>0.0</td>\n",
              "      <td>0.0</td>\n",
              "      <td>0.233954</td>\n",
              "      <td>0.0</td>\n",
              "      <td>0.092133</td>\n",
              "      <td>11</td>\n",
              "    </tr>\n",
              "  </tbody>\n",
              "</table>\n",
              "</div>"
            ],
            "text/plain": [
              "   weekday         H   RT    U    O        RC    A         S  user\n",
              "0        0  1.000000  0.0  0.0  0.0  0.000000  0.0  0.000000    11\n",
              "1        1  1.000000  0.0  0.0  0.0  0.000000  0.0  0.000000    11\n",
              "2        2  0.753883  0.0  0.0  0.0  0.235364  0.0  0.010753    11\n",
              "3        3  0.797063  0.0  0.0  0.0  0.201602  0.0  0.001335    11\n",
              "4        4  0.673913  0.0  0.0  0.0  0.233954  0.0  0.092133    11"
            ]
          },
          "execution_count": 73,
          "metadata": {},
          "output_type": "execute_result"
        }
      ],
      "source": [
        "usr_loc_dy_df.head()"
      ]
    },
    {
      "cell_type": "code",
      "execution_count": 74,
      "metadata": {
        "colab": {
          "base_uri": "https://localhost:8080/",
          "height": 206
        },
        "id": "0RQ25_bAUUd3",
        "outputId": "72ea2727-1f5e-4ab2-e1d7-b135958a3d5a"
      },
      "outputs": [
        {
          "data": {
            "text/html": [
              "<div>\n",
              "<style scoped>\n",
              "    .dataframe tbody tr th:only-of-type {\n",
              "        vertical-align: middle;\n",
              "    }\n",
              "\n",
              "    .dataframe tbody tr th {\n",
              "        vertical-align: top;\n",
              "    }\n",
              "\n",
              "    .dataframe thead th {\n",
              "        text-align: right;\n",
              "    }\n",
              "</style>\n",
              "<table border=\"1\" class=\"dataframe\">\n",
              "  <thead>\n",
              "    <tr style=\"text-align: right;\">\n",
              "      <th></th>\n",
              "      <th>daytype</th>\n",
              "      <th>H</th>\n",
              "      <th>RT</th>\n",
              "      <th>U</th>\n",
              "      <th>O</th>\n",
              "      <th>RC</th>\n",
              "      <th>A</th>\n",
              "      <th>S</th>\n",
              "      <th>user</th>\n",
              "    </tr>\n",
              "  </thead>\n",
              "  <tbody>\n",
              "    <tr>\n",
              "      <th>0</th>\n",
              "      <td>0</td>\n",
              "      <td>0.839636</td>\n",
              "      <td>0.000000</td>\n",
              "      <td>0.000000</td>\n",
              "      <td>0.000000</td>\n",
              "      <td>0.133987</td>\n",
              "      <td>0.000000</td>\n",
              "      <td>0.026377</td>\n",
              "      <td>11</td>\n",
              "    </tr>\n",
              "    <tr>\n",
              "      <th>1</th>\n",
              "      <td>1</td>\n",
              "      <td>1.000000</td>\n",
              "      <td>0.000000</td>\n",
              "      <td>0.000000</td>\n",
              "      <td>0.000000</td>\n",
              "      <td>0.000000</td>\n",
              "      <td>0.000000</td>\n",
              "      <td>0.000000</td>\n",
              "      <td>11</td>\n",
              "    </tr>\n",
              "    <tr>\n",
              "      <th>2</th>\n",
              "      <td>0</td>\n",
              "      <td>0.897203</td>\n",
              "      <td>0.010280</td>\n",
              "      <td>0.027891</td>\n",
              "      <td>0.003905</td>\n",
              "      <td>0.031795</td>\n",
              "      <td>0.015499</td>\n",
              "      <td>0.013427</td>\n",
              "      <td>13</td>\n",
              "    </tr>\n",
              "    <tr>\n",
              "      <th>3</th>\n",
              "      <td>1</td>\n",
              "      <td>0.824219</td>\n",
              "      <td>0.025521</td>\n",
              "      <td>0.014063</td>\n",
              "      <td>0.007552</td>\n",
              "      <td>0.121615</td>\n",
              "      <td>0.007031</td>\n",
              "      <td>0.000000</td>\n",
              "      <td>13</td>\n",
              "    </tr>\n",
              "    <tr>\n",
              "      <th>4</th>\n",
              "      <td>0</td>\n",
              "      <td>0.340746</td>\n",
              "      <td>0.000425</td>\n",
              "      <td>0.647070</td>\n",
              "      <td>0.000425</td>\n",
              "      <td>0.003636</td>\n",
              "      <td>0.000000</td>\n",
              "      <td>0.007697</td>\n",
              "      <td>14</td>\n",
              "    </tr>\n",
              "  </tbody>\n",
              "</table>\n",
              "</div>"
            ],
            "text/plain": [
              "   daytype         H        RT         U         O        RC         A  \\\n",
              "0        0  0.839636  0.000000  0.000000  0.000000  0.133987  0.000000   \n",
              "1        1  1.000000  0.000000  0.000000  0.000000  0.000000  0.000000   \n",
              "2        0  0.897203  0.010280  0.027891  0.003905  0.031795  0.015499   \n",
              "3        1  0.824219  0.025521  0.014063  0.007552  0.121615  0.007031   \n",
              "4        0  0.340746  0.000425  0.647070  0.000425  0.003636  0.000000   \n",
              "\n",
              "          S  user  \n",
              "0  0.026377    11  \n",
              "1  0.000000    11  \n",
              "2  0.013427    13  \n",
              "3  0.000000    13  \n",
              "4  0.007697    14  "
            ]
          },
          "execution_count": 74,
          "metadata": {},
          "output_type": "execute_result"
        }
      ],
      "source": [
        "usr_loc_dyt_df.head()"
      ]
    },
    {
      "cell_type": "code",
      "execution_count": 18,
      "metadata": {
        "id": "GZONNiYyRcmK"
      },
      "outputs": [],
      "source": []
    },
    {
      "cell_type": "markdown",
      "metadata": {
        "id": "JiaNyGcMAScr"
      },
      "source": [
        "# Division of data into X and y\n",
        "\n",
        "* Divide the dataset into inputs (X) and labels (y)"
      ]
    },
    {
      "cell_type": "markdown",
      "metadata": {
        "id": "hCz9r7gQxJbf"
      },
      "source": [
        "#### Get the start and end index of each user data"
      ]
    },
    {
      "cell_type": "code",
      "execution_count": 75,
      "metadata": {
        "colab": {
          "base_uri": "https://localhost:8080/"
        },
        "id": "D5y9gt-Axgmh",
        "outputId": "7899e59c-2a61-4a04-aa58-3af0882cef90"
      },
      "outputs": [
        {
          "name": "stdout",
          "output_type": "stream",
          "text": [
            "Done\n"
          ]
        }
      ],
      "source": [
        "user_index = dict()\n",
        "for usr in users_unique:\n",
        "    tmp_x = clus_df[clus_df[\"user\"]==usr]\n",
        "    indxs = tmp_x.index\n",
        "    user_index[usr] = {\"start\": indxs[0], \"end\": indxs[-1]}\n",
        "print(\"Done\")"
      ]
    },
    {
      "cell_type": "code",
      "execution_count": 76,
      "metadata": {
        "colab": {
          "base_uri": "https://localhost:8080/"
        },
        "id": "Bc0peAAKz7y4",
        "outputId": "f8301a7c-7241-412d-a982-9aba0874e3d3"
      },
      "outputs": [
        {
          "data": {
            "text/plain": [
              "{11: {'start': 0, 'end': 4783},\n",
              " 13: {'start': 4784, 'end': 33721},\n",
              " 14: {'start': 33722, 'end': 63133},\n",
              " 18: {'start': 63134, 'end': 72818},\n",
              " 21: {'start': 72819, 'end': 78383},\n",
              " 23: {'start': 78384, 'end': 81537},\n",
              " 5: {'start': 81538, 'end': 86802},\n",
              " 8: {'start': 86803, 'end': 88696},\n",
              " 9: {'start': 88697, 'end': 90640}}"
            ]
          },
          "execution_count": 76,
          "metadata": {},
          "output_type": "execute_result"
        }
      ],
      "source": [
        "user_index"
      ]
    },
    {
      "cell_type": "markdown",
      "metadata": {
        "id": "75f1dNx0xQCe"
      },
      "source": [
        "#### Labels of the dataset without onehot encoding"
      ]
    },
    {
      "cell_type": "code",
      "execution_count": 77,
      "metadata": {
        "id": "VV91iNPXAR3Q"
      },
      "outputs": [],
      "source": [
        "labels = clus_df[\"clusters\"]\n",
        "intent = clus_df[\"intent\"]\n",
        "features_df = clus_df[[\"user\", \"hour\", \"weekday\", \"charging_type\", \"bluetooth\", \"wifi\", \"charging_status\", \"daytype\"]]"
      ]
    },
    {
      "cell_type": "markdown",
      "metadata": {
        "id": "4yL9RMZ2CqYO"
      },
      "source": [
        "#### One hot encoding of input data"
      ]
    },
    {
      "cell_type": "code",
      "execution_count": 78,
      "metadata": {
        "colab": {
          "base_uri": "https://localhost:8080/",
          "height": 143
        },
        "id": "iUpI03VcdUAB",
        "outputId": "32b28a02-4f8a-483c-f346-226f6db031bb"
      },
      "outputs": [
        {
          "data": {
            "text/html": [
              "<div>\n",
              "<style scoped>\n",
              "    .dataframe tbody tr th:only-of-type {\n",
              "        vertical-align: middle;\n",
              "    }\n",
              "\n",
              "    .dataframe tbody tr th {\n",
              "        vertical-align: top;\n",
              "    }\n",
              "\n",
              "    .dataframe thead th {\n",
              "        text-align: right;\n",
              "    }\n",
              "</style>\n",
              "<table border=\"1\" class=\"dataframe\">\n",
              "  <thead>\n",
              "    <tr style=\"text-align: right;\">\n",
              "      <th></th>\n",
              "      <th>hour</th>\n",
              "      <th>weekday</th>\n",
              "      <th>charging_type</th>\n",
              "      <th>bluetooth</th>\n",
              "      <th>wifi</th>\n",
              "      <th>charging_status</th>\n",
              "      <th>clusters</th>\n",
              "      <th>intent</th>\n",
              "      <th>daytype</th>\n",
              "      <th>user</th>\n",
              "    </tr>\n",
              "  </thead>\n",
              "  <tbody>\n",
              "    <tr>\n",
              "      <th>0</th>\n",
              "      <td>13</td>\n",
              "      <td>0</td>\n",
              "      <td>1</td>\n",
              "      <td>1</td>\n",
              "      <td>2</td>\n",
              "      <td>1</td>\n",
              "      <td>1</td>\n",
              "      <td>5</td>\n",
              "      <td>0</td>\n",
              "      <td>11</td>\n",
              "    </tr>\n",
              "    <tr>\n",
              "      <th>1</th>\n",
              "      <td>13</td>\n",
              "      <td>0</td>\n",
              "      <td>1</td>\n",
              "      <td>1</td>\n",
              "      <td>2</td>\n",
              "      <td>1</td>\n",
              "      <td>1</td>\n",
              "      <td>5</td>\n",
              "      <td>0</td>\n",
              "      <td>11</td>\n",
              "    </tr>\n",
              "    <tr>\n",
              "      <th>2</th>\n",
              "      <td>13</td>\n",
              "      <td>0</td>\n",
              "      <td>1</td>\n",
              "      <td>1</td>\n",
              "      <td>2</td>\n",
              "      <td>1</td>\n",
              "      <td>1</td>\n",
              "      <td>5</td>\n",
              "      <td>0</td>\n",
              "      <td>11</td>\n",
              "    </tr>\n",
              "  </tbody>\n",
              "</table>\n",
              "</div>"
            ],
            "text/plain": [
              "   hour  weekday  charging_type  bluetooth  wifi  charging_status  clusters  \\\n",
              "0    13        0              1          1     2                1         1   \n",
              "1    13        0              1          1     2                1         1   \n",
              "2    13        0              1          1     2                1         1   \n",
              "\n",
              "   intent  daytype  user  \n",
              "0       5        0    11  \n",
              "1       5        0    11  \n",
              "2       5        0    11  "
            ]
          },
          "execution_count": 78,
          "metadata": {},
          "output_type": "execute_result"
        }
      ],
      "source": [
        "clus_df.head(3)"
      ]
    },
    {
      "cell_type": "markdown",
      "metadata": {
        "id": "Uo61oAMshv3t"
      },
      "source": [
        "#### Use the `user` column for model trainings"
      ]
    },
    {
      "cell_type": "code",
      "execution_count": 79,
      "metadata": {
        "id": "C2ejwF5_Cp2s"
      },
      "outputs": [],
      "source": [
        "# onehot_df = pd.get_dummies(data=clust_en_df, columns=[\"user\", \"daytime\", \"charging_type\", \"wifi\", \"bluetooth\", \"charging_status\"])\n",
        "# onehot_df_all = pd.get_dummies(data=clust_en_df, columns=[\"user\", \"daytime\", \"charging_type\", \"wifi\", \"bluetooth\", \"charging_status\", \"clusters\"])\n",
        "\n",
        "onehot_features = pd.get_dummies(data=features_df, columns=features_df.columns)"
      ]
    },
    {
      "cell_type": "code",
      "execution_count": 80,
      "metadata": {
        "colab": {
          "base_uri": "https://localhost:8080/",
          "height": 236
        },
        "id": "eRQ1c4u9d2_7",
        "outputId": "135bafc4-a457-45fc-eecb-c8d8dbc42805"
      },
      "outputs": [
        {
          "data": {
            "text/html": [
              "<div>\n",
              "<style scoped>\n",
              "    .dataframe tbody tr th:only-of-type {\n",
              "        vertical-align: middle;\n",
              "    }\n",
              "\n",
              "    .dataframe tbody tr th {\n",
              "        vertical-align: top;\n",
              "    }\n",
              "\n",
              "    .dataframe thead th {\n",
              "        text-align: right;\n",
              "    }\n",
              "</style>\n",
              "<table border=\"1\" class=\"dataframe\">\n",
              "  <thead>\n",
              "    <tr style=\"text-align: right;\">\n",
              "      <th></th>\n",
              "      <th>user_5</th>\n",
              "      <th>user_8</th>\n",
              "      <th>user_9</th>\n",
              "      <th>user_11</th>\n",
              "      <th>user_13</th>\n",
              "      <th>user_14</th>\n",
              "      <th>user_18</th>\n",
              "      <th>user_21</th>\n",
              "      <th>user_23</th>\n",
              "      <th>hour_0</th>\n",
              "      <th>...</th>\n",
              "      <th>bluetooth_2</th>\n",
              "      <th>bluetooth_3</th>\n",
              "      <th>bluetooth_4</th>\n",
              "      <th>bluetooth_5</th>\n",
              "      <th>wifi_1</th>\n",
              "      <th>wifi_2</th>\n",
              "      <th>charging_status_1</th>\n",
              "      <th>charging_status_2</th>\n",
              "      <th>daytype_0</th>\n",
              "      <th>daytype_1</th>\n",
              "    </tr>\n",
              "  </thead>\n",
              "  <tbody>\n",
              "    <tr>\n",
              "      <th>0</th>\n",
              "      <td>False</td>\n",
              "      <td>False</td>\n",
              "      <td>False</td>\n",
              "      <td>True</td>\n",
              "      <td>False</td>\n",
              "      <td>False</td>\n",
              "      <td>False</td>\n",
              "      <td>False</td>\n",
              "      <td>False</td>\n",
              "      <td>False</td>\n",
              "      <td>...</td>\n",
              "      <td>False</td>\n",
              "      <td>False</td>\n",
              "      <td>False</td>\n",
              "      <td>False</td>\n",
              "      <td>False</td>\n",
              "      <td>True</td>\n",
              "      <td>True</td>\n",
              "      <td>False</td>\n",
              "      <td>True</td>\n",
              "      <td>False</td>\n",
              "    </tr>\n",
              "    <tr>\n",
              "      <th>1</th>\n",
              "      <td>False</td>\n",
              "      <td>False</td>\n",
              "      <td>False</td>\n",
              "      <td>True</td>\n",
              "      <td>False</td>\n",
              "      <td>False</td>\n",
              "      <td>False</td>\n",
              "      <td>False</td>\n",
              "      <td>False</td>\n",
              "      <td>False</td>\n",
              "      <td>...</td>\n",
              "      <td>False</td>\n",
              "      <td>False</td>\n",
              "      <td>False</td>\n",
              "      <td>False</td>\n",
              "      <td>False</td>\n",
              "      <td>True</td>\n",
              "      <td>True</td>\n",
              "      <td>False</td>\n",
              "      <td>True</td>\n",
              "      <td>False</td>\n",
              "    </tr>\n",
              "    <tr>\n",
              "      <th>2</th>\n",
              "      <td>False</td>\n",
              "      <td>False</td>\n",
              "      <td>False</td>\n",
              "      <td>True</td>\n",
              "      <td>False</td>\n",
              "      <td>False</td>\n",
              "      <td>False</td>\n",
              "      <td>False</td>\n",
              "      <td>False</td>\n",
              "      <td>False</td>\n",
              "      <td>...</td>\n",
              "      <td>False</td>\n",
              "      <td>False</td>\n",
              "      <td>False</td>\n",
              "      <td>False</td>\n",
              "      <td>False</td>\n",
              "      <td>True</td>\n",
              "      <td>True</td>\n",
              "      <td>False</td>\n",
              "      <td>True</td>\n",
              "      <td>False</td>\n",
              "    </tr>\n",
              "    <tr>\n",
              "      <th>3</th>\n",
              "      <td>False</td>\n",
              "      <td>False</td>\n",
              "      <td>False</td>\n",
              "      <td>True</td>\n",
              "      <td>False</td>\n",
              "      <td>False</td>\n",
              "      <td>False</td>\n",
              "      <td>False</td>\n",
              "      <td>False</td>\n",
              "      <td>False</td>\n",
              "      <td>...</td>\n",
              "      <td>False</td>\n",
              "      <td>False</td>\n",
              "      <td>False</td>\n",
              "      <td>False</td>\n",
              "      <td>False</td>\n",
              "      <td>True</td>\n",
              "      <td>True</td>\n",
              "      <td>False</td>\n",
              "      <td>True</td>\n",
              "      <td>False</td>\n",
              "    </tr>\n",
              "    <tr>\n",
              "      <th>4</th>\n",
              "      <td>False</td>\n",
              "      <td>False</td>\n",
              "      <td>False</td>\n",
              "      <td>True</td>\n",
              "      <td>False</td>\n",
              "      <td>False</td>\n",
              "      <td>False</td>\n",
              "      <td>False</td>\n",
              "      <td>False</td>\n",
              "      <td>False</td>\n",
              "      <td>...</td>\n",
              "      <td>False</td>\n",
              "      <td>False</td>\n",
              "      <td>False</td>\n",
              "      <td>False</td>\n",
              "      <td>False</td>\n",
              "      <td>True</td>\n",
              "      <td>True</td>\n",
              "      <td>False</td>\n",
              "      <td>True</td>\n",
              "      <td>False</td>\n",
              "    </tr>\n",
              "  </tbody>\n",
              "</table>\n",
              "<p>5 rows × 54 columns</p>\n",
              "</div>"
            ],
            "text/plain": [
              "   user_5  user_8  user_9  user_11  user_13  user_14  user_18  user_21  \\\n",
              "0   False   False   False     True    False    False    False    False   \n",
              "1   False   False   False     True    False    False    False    False   \n",
              "2   False   False   False     True    False    False    False    False   \n",
              "3   False   False   False     True    False    False    False    False   \n",
              "4   False   False   False     True    False    False    False    False   \n",
              "\n",
              "   user_23  hour_0  ...  bluetooth_2  bluetooth_3  bluetooth_4  bluetooth_5  \\\n",
              "0    False   False  ...        False        False        False        False   \n",
              "1    False   False  ...        False        False        False        False   \n",
              "2    False   False  ...        False        False        False        False   \n",
              "3    False   False  ...        False        False        False        False   \n",
              "4    False   False  ...        False        False        False        False   \n",
              "\n",
              "   wifi_1  wifi_2  charging_status_1  charging_status_2  daytype_0  daytype_1  \n",
              "0   False    True               True              False       True      False  \n",
              "1   False    True               True              False       True      False  \n",
              "2   False    True               True              False       True      False  \n",
              "3   False    True               True              False       True      False  \n",
              "4   False    True               True              False       True      False  \n",
              "\n",
              "[5 rows x 54 columns]"
            ]
          },
          "execution_count": 80,
          "metadata": {},
          "output_type": "execute_result"
        }
      ],
      "source": [
        "onehot_features.head()"
      ]
    },
    {
      "cell_type": "code",
      "execution_count": 107,
      "metadata": {
        "colab": {
          "base_uri": "https://localhost:8080/"
        },
        "id": "n0sEn4AoeMYO",
        "outputId": "0cc896ff-4106-4a1c-94c1-425bd38e88b9"
      },
      "outputs": [
        {
          "data": {
            "text/plain": [
              "Index(['user_5', 'user_8', 'user_9', 'user_11', 'user_13', 'user_14',\n",
              "       'user_18', 'user_21', 'user_23', 'hour_0', 'hour_1', 'hour_2', 'hour_3',\n",
              "       'hour_4', 'hour_5', 'hour_6', 'hour_7', 'hour_8', 'hour_9', 'hour_10',\n",
              "       'hour_11', 'hour_12', 'hour_13', 'hour_14', 'hour_15', 'hour_16',\n",
              "       'hour_17', 'hour_18', 'hour_19', 'hour_20', 'hour_21', 'hour_22',\n",
              "       'hour_23', 'weekday_0', 'weekday_1', 'weekday_2', 'weekday_3',\n",
              "       'weekday_4', 'weekday_5', 'weekday_6', 'charging_type_1',\n",
              "       'charging_type_2', 'charging_type_3', 'bluetooth_1', 'bluetooth_2',\n",
              "       'bluetooth_3', 'bluetooth_4', 'bluetooth_5', 'wifi_1', 'wifi_2',\n",
              "       'charging_status_1', 'charging_status_2', 'daytype_0', 'daytype_1'],\n",
              "      dtype='object')"
            ]
          },
          "execution_count": 107,
          "metadata": {},
          "output_type": "execute_result"
        }
      ],
      "source": [
        "onehot_features.columns"
      ]
    },
    {
      "cell_type": "markdown",
      "metadata": {
        "id": "Hd3gkDpxes0L"
      },
      "source": [
        "### Save the one hot features df and the labels df"
      ]
    },
    {
      "cell_type": "code",
      "execution_count": 118,
      "metadata": {},
      "outputs": [
        {
          "data": {
            "text/plain": [
              "['user_5',\n",
              " 'user_8',\n",
              " 'user_9',\n",
              " 'user_11',\n",
              " 'user_13',\n",
              " 'user_14',\n",
              " 'user_18',\n",
              " 'user_21',\n",
              " 'user_23',\n",
              " 'hour_0',\n",
              " 'hour_1',\n",
              " 'hour_2',\n",
              " 'hour_3',\n",
              " 'hour_4',\n",
              " 'hour_5',\n",
              " 'hour_6',\n",
              " 'hour_7',\n",
              " 'hour_8',\n",
              " 'hour_9',\n",
              " 'hour_10',\n",
              " 'hour_11',\n",
              " 'hour_12',\n",
              " 'hour_13',\n",
              " 'hour_14',\n",
              " 'hour_15',\n",
              " 'hour_16',\n",
              " 'hour_17',\n",
              " 'hour_18',\n",
              " 'hour_19',\n",
              " 'hour_20',\n",
              " 'hour_21',\n",
              " 'hour_22',\n",
              " 'hour_23',\n",
              " 'weekday_0',\n",
              " 'weekday_1',\n",
              " 'weekday_2',\n",
              " 'weekday_3',\n",
              " 'weekday_4',\n",
              " 'weekday_5',\n",
              " 'weekday_6',\n",
              " 'charging_type_1',\n",
              " 'charging_type_2',\n",
              " 'charging_type_3',\n",
              " 'bluetooth_1',\n",
              " 'bluetooth_2',\n",
              " 'bluetooth_3',\n",
              " 'bluetooth_4',\n",
              " 'bluetooth_5',\n",
              " 'wifi_1',\n",
              " 'wifi_2',\n",
              " 'charging_status_1',\n",
              " 'charging_status_2',\n",
              " 'daytype_0',\n",
              " 'daytype_1']"
            ]
          },
          "execution_count": 118,
          "metadata": {},
          "output_type": "execute_result"
        }
      ],
      "source": [
        "list(onehot_features.columns)"
      ]
    },
    {
      "cell_type": "code",
      "execution_count": 82,
      "metadata": {
        "id": "JkCp8Ti7esad"
      },
      "outputs": [],
      "source": [
        "labels.to_csv(\"../preprocessing/training_files/labels.csv\")\n",
        "intent.to_csv(\"../preprocessing/training_files/intents.csv\")\n",
        "onehot_features.to_csv(\"../preprocessing/training_files/onehot_features.csv\")"
      ]
    },
    {
      "cell_type": "markdown",
      "metadata": {
        "id": "OWhCAfR3hGmk"
      },
      "source": [
        "#### Remove `user` column from the dataframe and then train the models - not used"
      ]
    },
    {
      "cell_type": "code",
      "execution_count": 83,
      "metadata": {
        "id": "0Yko7uu0hFlH"
      },
      "outputs": [],
      "source": [
        "# clust_en_df = clust_en_df.drop(columns=[\"user\"])"
      ]
    },
    {
      "cell_type": "code",
      "execution_count": 84,
      "metadata": {
        "id": "pgHkdRHWhobK"
      },
      "outputs": [],
      "source": [
        "# onehot_df = pd.get_dummies(data=clust_en_df, columns=[\"daytime\", \"charging_type\", \"wifi\", \"bluetooth\", \"charging_status\"])\n",
        "# onehot_df_all = pd.get_dummies(data=clust_en_df, columns=[\"daytime\", \"charging_type\", \"wifi\", \"bluetooth\", \"charging_status\", \"clusters\"])"
      ]
    },
    {
      "cell_type": "code",
      "execution_count": 85,
      "metadata": {
        "id": "RGCklBsHDKh0"
      },
      "outputs": [],
      "source": [
        "# onehot_df.iloc[0]"
      ]
    },
    {
      "cell_type": "code",
      "execution_count": 86,
      "metadata": {
        "id": "hgWipzd-wZZX"
      },
      "outputs": [],
      "source": [
        "# onehot_df_all.iloc[0]"
      ]
    },
    {
      "cell_type": "code",
      "execution_count": 87,
      "metadata": {
        "id": "7Ui7bYeTBF_q"
      },
      "outputs": [],
      "source": [
        "# # columns to use. Use all columns except the cluster column\n",
        "# X = onehot_df.drop(columns=[\"clusters\"]).to_numpy()"
      ]
    },
    {
      "cell_type": "code",
      "execution_count": 88,
      "metadata": {
        "id": "PeOxVsrpEWxA"
      },
      "outputs": [],
      "source": [
        "# X[0]"
      ]
    },
    {
      "cell_type": "code",
      "execution_count": 89,
      "metadata": {
        "id": "1i-QaLQBEheV"
      },
      "outputs": [],
      "source": [
        "# labels[0]"
      ]
    },
    {
      "cell_type": "code",
      "execution_count": 90,
      "metadata": {
        "id": "eFyAqqt5mzIl"
      },
      "outputs": [],
      "source": [
        "# y = labels\n",
        "# y_onehot = onehot_df_all[[\"clusters_1\", \"clusters_2\", \"clusters_3\", \"clusters_4\", \"clusters_5\", \"clusters_6\", \"clusters_7\"]].to_numpy()"
      ]
    },
    {
      "cell_type": "code",
      "execution_count": 91,
      "metadata": {
        "id": "24ixGmERw726"
      },
      "outputs": [],
      "source": [
        "# y_onehot.shape"
      ]
    },
    {
      "cell_type": "markdown",
      "metadata": {
        "id": "iG_hCT27E9Ln"
      },
      "source": [
        "#### Create numpy array of X and y"
      ]
    },
    {
      "cell_type": "code",
      "execution_count": 92,
      "metadata": {
        "colab": {
          "base_uri": "https://localhost:8080/"
        },
        "id": "CqkVH1bXh8AB",
        "outputId": "d0f15a9b-ae9b-4bd1-aae4-4017129f503f"
      },
      "outputs": [
        {
          "data": {
            "text/plain": [
              "(90641, 54)"
            ]
          },
          "execution_count": 92,
          "metadata": {},
          "output_type": "execute_result"
        }
      ],
      "source": [
        "X_main = onehot_features.to_numpy()\n",
        "X_main.shape"
      ]
    },
    {
      "cell_type": "markdown",
      "metadata": {
        "id": "c-JS6nBiYyKt"
      },
      "source": [
        "Use `labels` for location prediction\n",
        "\n",
        "Use `intent` for intent prediction"
      ]
    },
    {
      "cell_type": "code",
      "execution_count": 93,
      "metadata": {
        "colab": {
          "base_uri": "https://localhost:8080/"
        },
        "id": "xSQ3rcezfsNA",
        "outputId": "1f27b571-d8fc-4d73-ed22-5399ea20a886"
      },
      "outputs": [
        {
          "data": {
            "text/plain": [
              "(90641,)"
            ]
          },
          "execution_count": 93,
          "metadata": {},
          "output_type": "execute_result"
        }
      ],
      "source": [
        "# y_main = labels.to_numpy()\n",
        "y_main = intent.to_numpy()\n",
        "y_main.shape"
      ]
    },
    {
      "cell_type": "code",
      "execution_count": 94,
      "metadata": {
        "id": "vL_DT2Gr1ca2"
      },
      "outputs": [],
      "source": [
        "# Take training and testing data from each user\n",
        "def divide_train_test_user(X, y, ratio=0.7):\n",
        "    X_train, X_test, y_train, y_test = None, None, None, None\n",
        "    for us, idxs in user_index.items():\n",
        "        divide = int(ratio*(idxs[\"end\"] - idxs[\"start\"]))\n",
        "\n",
        "        if X_train is None:\n",
        "            X_train = X[idxs[\"start\"]: divide + idxs[\"start\"]]\n",
        "        elif X_train is not None:\n",
        "            X_train = np.concatenate((X_train, X[idxs[\"start\"]: divide + idxs[\"start\"]]), axis=0)\n",
        "\n",
        "        if y_train is None:\n",
        "            y_train = y[idxs[\"start\"]: divide + idxs[\"start\"]]\n",
        "        elif y_train is not None:\n",
        "            y_train = np.concatenate((y_train, y[idxs[\"start\"]: divide + idxs[\"start\"]]), axis=0)\n",
        "        \n",
        "        if X_test is None:\n",
        "            X_test = X[divide + idxs[\"start\"]: idxs[\"end\"] + 1]\n",
        "        elif X_test is not None:\n",
        "            X_test = np.concatenate((X_test, X[divide + idxs[\"start\"]: idxs[\"end\"]]), axis=0)\n",
        "        \n",
        "        if y_test is None:\n",
        "            y_test = y[divide + idxs[\"start\"]: idxs[\"end\"] + 1]\n",
        "        elif y_test is not None:\n",
        "            y_test = np.concatenate((y_test, y[divide + idxs[\"start\"]: idxs[\"end\"]]), axis=0)\n",
        "        \n",
        "        # print(us, idxs[\"start\"], divide + idxs[\"start\"], idxs[\"end\"] + 1, idxs[\"end\"] - idxs[\"start\"] + 1)\n",
        "    \n",
        "    return X_train, X_test, y_train, y_test"
      ]
    },
    {
      "cell_type": "code",
      "execution_count": 95,
      "metadata": {
        "id": "8R-Yg5jeFIQE"
      },
      "outputs": [],
      "source": [
        "def divide_train_test(X, y, ratio=0.8):\n",
        "    divide = int(ratio*X.shape[0])\n",
        "    X_train, X_test = X[:divide], X[divide:]\n",
        "    y_train, y_test = y[:divide], y[divide:]\n",
        "\n",
        "    return X_train, X_test, y_train, y_test"
      ]
    },
    {
      "cell_type": "markdown",
      "metadata": {
        "id": "4LZiz2jhGh54"
      },
      "source": [
        "#### Prediction function"
      ]
    },
    {
      "cell_type": "code",
      "execution_count": 96,
      "metadata": {
        "id": "X6GUUP6CGguq"
      },
      "outputs": [],
      "source": [
        "def get_accuracy(y_pred, y):\n",
        "    correct_pred = 0\n",
        "    correct_pred += (y_pred == y).sum()/y.shape[0]\n",
        "\n",
        "    return correct_pred"
      ]
    },
    {
      "cell_type": "markdown",
      "metadata": {
        "id": "xOOAzJRu9mWP"
      },
      "source": [
        "# Random Forest Classifier"
      ]
    },
    {
      "cell_type": "code",
      "execution_count": 97,
      "metadata": {
        "colab": {
          "base_uri": "https://localhost:8080/"
        },
        "id": "wduOo9GbF1pw",
        "outputId": "5e546b35-039b-47e4-93ad-264b4c1e8664"
      },
      "outputs": [
        {
          "data": {
            "text/html": [
              "<style>#sk-container-id-1 {color: black;background-color: white;}#sk-container-id-1 pre{padding: 0;}#sk-container-id-1 div.sk-toggleable {background-color: white;}#sk-container-id-1 label.sk-toggleable__label {cursor: pointer;display: block;width: 100%;margin-bottom: 0;padding: 0.3em;box-sizing: border-box;text-align: center;}#sk-container-id-1 label.sk-toggleable__label-arrow:before {content: \"▸\";float: left;margin-right: 0.25em;color: #696969;}#sk-container-id-1 label.sk-toggleable__label-arrow:hover:before {color: black;}#sk-container-id-1 div.sk-estimator:hover label.sk-toggleable__label-arrow:before {color: black;}#sk-container-id-1 div.sk-toggleable__content {max-height: 0;max-width: 0;overflow: hidden;text-align: left;background-color: #f0f8ff;}#sk-container-id-1 div.sk-toggleable__content pre {margin: 0.2em;color: black;border-radius: 0.25em;background-color: #f0f8ff;}#sk-container-id-1 input.sk-toggleable__control:checked~div.sk-toggleable__content {max-height: 200px;max-width: 100%;overflow: auto;}#sk-container-id-1 input.sk-toggleable__control:checked~label.sk-toggleable__label-arrow:before {content: \"▾\";}#sk-container-id-1 div.sk-estimator input.sk-toggleable__control:checked~label.sk-toggleable__label {background-color: #d4ebff;}#sk-container-id-1 div.sk-label input.sk-toggleable__control:checked~label.sk-toggleable__label {background-color: #d4ebff;}#sk-container-id-1 input.sk-hidden--visually {border: 0;clip: rect(1px 1px 1px 1px);clip: rect(1px, 1px, 1px, 1px);height: 1px;margin: -1px;overflow: hidden;padding: 0;position: absolute;width: 1px;}#sk-container-id-1 div.sk-estimator {font-family: monospace;background-color: #f0f8ff;border: 1px dotted black;border-radius: 0.25em;box-sizing: border-box;margin-bottom: 0.5em;}#sk-container-id-1 div.sk-estimator:hover {background-color: #d4ebff;}#sk-container-id-1 div.sk-parallel-item::after {content: \"\";width: 100%;border-bottom: 1px solid gray;flex-grow: 1;}#sk-container-id-1 div.sk-label:hover label.sk-toggleable__label {background-color: #d4ebff;}#sk-container-id-1 div.sk-serial::before {content: \"\";position: absolute;border-left: 1px solid gray;box-sizing: border-box;top: 0;bottom: 0;left: 50%;z-index: 0;}#sk-container-id-1 div.sk-serial {display: flex;flex-direction: column;align-items: center;background-color: white;padding-right: 0.2em;padding-left: 0.2em;position: relative;}#sk-container-id-1 div.sk-item {position: relative;z-index: 1;}#sk-container-id-1 div.sk-parallel {display: flex;align-items: stretch;justify-content: center;background-color: white;position: relative;}#sk-container-id-1 div.sk-item::before, #sk-container-id-1 div.sk-parallel-item::before {content: \"\";position: absolute;border-left: 1px solid gray;box-sizing: border-box;top: 0;bottom: 0;left: 50%;z-index: -1;}#sk-container-id-1 div.sk-parallel-item {display: flex;flex-direction: column;z-index: 1;position: relative;background-color: white;}#sk-container-id-1 div.sk-parallel-item:first-child::after {align-self: flex-end;width: 50%;}#sk-container-id-1 div.sk-parallel-item:last-child::after {align-self: flex-start;width: 50%;}#sk-container-id-1 div.sk-parallel-item:only-child::after {width: 0;}#sk-container-id-1 div.sk-dashed-wrapped {border: 1px dashed gray;margin: 0 0.4em 0.5em 0.4em;box-sizing: border-box;padding-bottom: 0.4em;background-color: white;}#sk-container-id-1 div.sk-label label {font-family: monospace;font-weight: bold;display: inline-block;line-height: 1.2em;}#sk-container-id-1 div.sk-label-container {text-align: center;}#sk-container-id-1 div.sk-container {/* jupyter's `normalize.less` sets `[hidden] { display: none; }` but bootstrap.min.css set `[hidden] { display: none !important; }` so we also need the `!important` here to be able to override the default hidden behavior on the sphinx rendered scikit-learn.org. See: https://github.com/scikit-learn/scikit-learn/issues/21755 */display: inline-block !important;position: relative;}#sk-container-id-1 div.sk-text-repr-fallback {display: none;}</style><div id=\"sk-container-id-1\" class=\"sk-top-container\"><div class=\"sk-text-repr-fallback\"><pre>RandomForestClassifier(random_state=40)</pre><b>In a Jupyter environment, please rerun this cell to show the HTML representation or trust the notebook. <br />On GitHub, the HTML representation is unable to render, please try loading this page with nbviewer.org.</b></div><div class=\"sk-container\" hidden><div class=\"sk-item\"><div class=\"sk-estimator sk-toggleable\"><input class=\"sk-toggleable__control sk-hidden--visually\" id=\"sk-estimator-id-1\" type=\"checkbox\" checked><label for=\"sk-estimator-id-1\" class=\"sk-toggleable__label sk-toggleable__label-arrow\">RandomForestClassifier</label><div class=\"sk-toggleable__content\"><pre>RandomForestClassifier(random_state=40)</pre></div></div></div></div></div>"
            ],
            "text/plain": [
              "RandomForestClassifier(random_state=40)"
            ]
          },
          "execution_count": 97,
          "metadata": {},
          "output_type": "execute_result"
        }
      ],
      "source": [
        "X_train, X_test, y_train, y_test = train_test_split(X_main, y_main, test_size=0.3, random_state=100)\n",
        "X_train, y_train = shuffle(X_train, y_train)\n",
        "\n",
        "rfc = RandomForestClassifier(random_state=40)\n",
        "X_train, y_train = shuffle(X_train, y_train)\n",
        "rfc.fit(X_train, y_train)"
      ]
    },
    {
      "cell_type": "code",
      "execution_count": 105,
      "metadata": {},
      "outputs": [
        {
          "data": {
            "text/plain": [
              "(63448, 54)"
            ]
          },
          "execution_count": 105,
          "metadata": {},
          "output_type": "execute_result"
        }
      ],
      "source": [
        "X_train.shape"
      ]
    },
    {
      "cell_type": "code",
      "execution_count": 106,
      "metadata": {},
      "outputs": [
        {
          "data": {
            "text/plain": [
              "array([False, False, False, False, False, False, False,  True, False,\n",
              "       False, False, False, False, False, False, False, False, False,\n",
              "        True, False, False, False, False, False, False, False, False,\n",
              "       False, False, False, False, False, False, False, False, False,\n",
              "        True, False, False, False,  True, False, False, False, False,\n",
              "       False,  True, False, False,  True,  True, False,  True, False])"
            ]
          },
          "execution_count": 106,
          "metadata": {},
          "output_type": "execute_result"
        }
      ],
      "source": [
        "X_train[0,:]"
      ]
    },
    {
      "cell_type": "code",
      "execution_count": 98,
      "metadata": {
        "id": "V2vf8SFOF_lX"
      },
      "outputs": [],
      "source": [
        "# predict\n",
        "predict_rfc = rfc.predict(X_test)"
      ]
    },
    {
      "cell_type": "code",
      "execution_count": 99,
      "metadata": {
        "colab": {
          "base_uri": "https://localhost:8080/"
        },
        "id": "bmn7kaUzGHHX",
        "outputId": "54a7e6e2-ee8d-4079-e65c-cb15cdfbf456"
      },
      "outputs": [
        {
          "name": "stdout",
          "output_type": "stream",
          "text": [
            "Random Forest Classifier accuracy: 0.8997903872320082\n"
          ]
        }
      ],
      "source": [
        "accuracy_rfc = get_accuracy(predict_rfc, y_test)\n",
        "print(f\"Random Forest Classifier accuracy: {accuracy_rfc}\")"
      ]
    },
    {
      "cell_type": "code",
      "execution_count": 108,
      "metadata": {},
      "outputs": [
        {
          "name": "stdout",
          "output_type": "stream",
          "text": [
            "(63448, 54) (27193, 54)\n"
          ]
        }
      ],
      "source": [
        "print(X_train.shape, X_test.shape)"
      ]
    },
    {
      "cell_type": "code",
      "execution_count": 109,
      "metadata": {},
      "outputs": [
        {
          "name": "stdout",
          "output_type": "stream",
          "text": [
            "(63448,) (27193,)\n"
          ]
        }
      ],
      "source": [
        "print(y_train.shape, y_test.shape)"
      ]
    },
    {
      "cell_type": "code",
      "execution_count": 150,
      "metadata": {},
      "outputs": [],
      "source": [
        "labels = list(onehot_features.columns)\n",
        "jsonl_str = []\n",
        "for i in range(X_test.shape[0]):\n",
        "    x_data = str(X_test[i,:])\n",
        "    y_data = str(y_test[i])\n",
        "    result_dict = str(dict(zip(labels, X_test[i,:])))\n",
        "    str_ft = \"\"\"{\"messages\": [{\"role\": \"system\", \"content\": \"You are trying to predict output from timeseries data given and columns names given \"}, {\"role\": \"user\", \"content\":\" \"\"\"+ result_dict+\"\"\" \"}, {\"role\": \"assistant\", \"content\": \" \"\"\"+y_data+\"\"\" \"}]}\"\"\"\n",
        "    jsonl_str.append(str_ft)\n",
        "    # print(str_ft)"
      ]
    },
    {
      "cell_type": "code",
      "execution_count": 169,
      "metadata": {},
      "outputs": [],
      "source": [
        "labels = list(onehot_features.columns)\n",
        "query_str = []\n",
        "ans_str = []\n",
        "for i in range(X_test.shape[0]):\n",
        "    x_data = str(X_test[i,:])\n",
        "    y_data = str(y_test[i])\n",
        "    result_dict = str(dict(zip(labels, X_test[i,:])))\n",
        "    str_ft = \"\"\"{\"messages\": [{\"role\": \"system\", \"content\": \"You are trying to predict output from timeseries data given and columns names given \"}, {\"role\": \"user\", \"content\":\" \"\"\"+ result_dict+\"\"\" \"}\"\"\"\n",
        "    ans_str.append(y_data)\n",
        "    query_str.append(str_ft)\n",
        "    # print(str_ft)"
      ]
    },
    {
      "cell_type": "code",
      "execution_count": 151,
      "metadata": {},
      "outputs": [
        {
          "data": {
            "text/plain": [
              "27193"
            ]
          },
          "execution_count": 151,
          "metadata": {},
          "output_type": "execute_result"
        }
      ],
      "source": [
        "len(jsonl_str)"
      ]
    },
    {
      "cell_type": "code",
      "execution_count": 146,
      "metadata": {},
      "outputs": [
        {
          "name": "stdout",
          "output_type": "stream",
          "text": [
            "{\"messages\": [{\"role\": \"system\", \"content\": \"You are trying to predict output from timeseries data given and columns names given \"}, {\"role\": \"user\", \"content\":\" {'user_5': False, 'user_8': False, 'user_9': False, 'user_11': False, 'user_13': False, 'user_14': False, 'user_18': False, 'user_21': True, 'user_23': False, 'hour_0': False, 'hour_1': False, 'hour_2': False, 'hour_3': False, 'hour_4': False, 'hour_5': False, 'hour_6': False, 'hour_7': False, 'hour_8': False, 'hour_9': True, 'hour_10': False, 'hour_11': False, 'hour_12': False, 'hour_13': False, 'hour_14': False, 'hour_15': False, 'hour_16': False, 'hour_17': False, 'hour_18': False, 'hour_19': False, 'hour_20': False, 'hour_21': False, 'hour_22': False, 'hour_23': False, 'weekday_0': False, 'weekday_1': False, 'weekday_2': False, 'weekday_3': True, 'weekday_4': False, 'weekday_5': False, 'weekday_6': False, 'charging_type_1': True, 'charging_type_2': False, 'charging_type_3': False, 'bluetooth_1': False, 'bluetooth_2': False, 'bluetooth_3': False, 'bluetooth_4': True, 'bluetooth_5': False, 'wifi_1': False, 'wifi_2': True, 'charging_status_1': True, 'charging_status_2': False, 'daytype_0': True, 'daytype_1': False} \"}, {\"role\": \"assistant\", \"content\": \" 4 \"}]}\n",
            "{\"messages\": [{\"role\": \"system\", \"content\": \"You are trying to predict output from timeseries data given and columns names given \"}, {\"role\": \"user\", \"content\":\" {'user_5': False, 'user_8': False, 'user_9': False, 'user_11': True, 'user_13': False, 'user_14': False, 'user_18': False, 'user_21': False, 'user_23': False, 'hour_0': False, 'hour_1': False, 'hour_2': False, 'hour_3': False, 'hour_4': False, 'hour_5': False, 'hour_6': False, 'hour_7': False, 'hour_8': False, 'hour_9': False, 'hour_10': False, 'hour_11': False, 'hour_12': False, 'hour_13': False, 'hour_14': False, 'hour_15': False, 'hour_16': False, 'hour_17': False, 'hour_18': True, 'hour_19': False, 'hour_20': False, 'hour_21': False, 'hour_22': False, 'hour_23': False, 'weekday_0': False, 'weekday_1': False, 'weekday_2': True, 'weekday_3': False, 'weekday_4': False, 'weekday_5': False, 'weekday_6': False, 'charging_type_1': True, 'charging_type_2': False, 'charging_type_3': False, 'bluetooth_1': True, 'bluetooth_2': False, 'bluetooth_3': False, 'bluetooth_4': False, 'bluetooth_5': False, 'wifi_1': False, 'wifi_2': True, 'charging_status_1': True, 'charging_status_2': False, 'daytype_0': True, 'daytype_1': False} \"}, {\"role\": \"assistant\", \"content\": \" 2 \"}]}\n",
            "{\"messages\": [{\"role\": \"system\", \"content\": \"You are trying to predict output from timeseries data given and columns names given \"}, {\"role\": \"user\", \"content\":\" {'user_5': False, 'user_8': False, 'user_9': False, 'user_11': False, 'user_13': False, 'user_14': True, 'user_18': False, 'user_21': False, 'user_23': False, 'hour_0': False, 'hour_1': True, 'hour_2': False, 'hour_3': False, 'hour_4': False, 'hour_5': False, 'hour_6': False, 'hour_7': False, 'hour_8': False, 'hour_9': False, 'hour_10': False, 'hour_11': False, 'hour_12': False, 'hour_13': False, 'hour_14': False, 'hour_15': False, 'hour_16': False, 'hour_17': False, 'hour_18': False, 'hour_19': False, 'hour_20': False, 'hour_21': False, 'hour_22': False, 'hour_23': False, 'weekday_0': True, 'weekday_1': False, 'weekday_2': False, 'weekday_3': False, 'weekday_4': False, 'weekday_5': False, 'weekday_6': False, 'charging_type_1': True, 'charging_type_2': False, 'charging_type_3': False, 'bluetooth_1': False, 'bluetooth_2': False, 'bluetooth_3': False, 'bluetooth_4': True, 'bluetooth_5': False, 'wifi_1': True, 'wifi_2': False, 'charging_status_1': True, 'charging_status_2': False, 'daytype_0': True, 'daytype_1': False} \"}, {\"role\": \"assistant\", \"content\": \" 5 \"}]}\n",
            "{\"messages\": [{\"role\": \"system\", \"content\": \"You are trying to predict output from timeseries data given and columns names given \"}, {\"role\": \"user\", \"content\":\" {'user_5': False, 'user_8': False, 'user_9': False, 'user_11': False, 'user_13': False, 'user_14': True, 'user_18': False, 'user_21': False, 'user_23': False, 'hour_0': False, 'hour_1': False, 'hour_2': False, 'hour_3': False, 'hour_4': False, 'hour_5': False, 'hour_6': False, 'hour_7': False, 'hour_8': False, 'hour_9': False, 'hour_10': False, 'hour_11': False, 'hour_12': False, 'hour_13': False, 'hour_14': False, 'hour_15': True, 'hour_16': False, 'hour_17': False, 'hour_18': False, 'hour_19': False, 'hour_20': False, 'hour_21': False, 'hour_22': False, 'hour_23': False, 'weekday_0': False, 'weekday_1': False, 'weekday_2': True, 'weekday_3': False, 'weekday_4': False, 'weekday_5': False, 'weekday_6': False, 'charging_type_1': True, 'charging_type_2': False, 'charging_type_3': False, 'bluetooth_1': False, 'bluetooth_2': False, 'bluetooth_3': True, 'bluetooth_4': False, 'bluetooth_5': False, 'wifi_1': False, 'wifi_2': True, 'charging_status_1': True, 'charging_status_2': False, 'daytype_0': True, 'daytype_1': False} \"}, {\"role\": \"assistant\", \"content\": \" 4 \"}]}\n",
            "{\"messages\": [{\"role\": \"system\", \"content\": \"You are trying to predict output from timeseries data given and columns names given \"}, {\"role\": \"user\", \"content\":\" {'user_5': False, 'user_8': False, 'user_9': False, 'user_11': False, 'user_13': True, 'user_14': False, 'user_18': False, 'user_21': False, 'user_23': False, 'hour_0': False, 'hour_1': False, 'hour_2': False, 'hour_3': False, 'hour_4': False, 'hour_5': False, 'hour_6': False, 'hour_7': False, 'hour_8': False, 'hour_9': True, 'hour_10': False, 'hour_11': False, 'hour_12': False, 'hour_13': False, 'hour_14': False, 'hour_15': False, 'hour_16': False, 'hour_17': False, 'hour_18': False, 'hour_19': False, 'hour_20': False, 'hour_21': False, 'hour_22': False, 'hour_23': False, 'weekday_0': True, 'weekday_1': False, 'weekday_2': False, 'weekday_3': False, 'weekday_4': False, 'weekday_5': False, 'weekday_6': False, 'charging_type_1': True, 'charging_type_2': False, 'charging_type_3': False, 'bluetooth_1': False, 'bluetooth_2': False, 'bluetooth_3': False, 'bluetooth_4': True, 'bluetooth_5': False, 'wifi_1': False, 'wifi_2': True, 'charging_status_1': True, 'charging_status_2': False, 'daytype_0': True, 'daytype_1': False} \"}, {\"role\": \"assistant\", \"content\": \" 5 \"}]}\n"
          ]
        }
      ],
      "source": [
        "for i in range(5):\n",
        "    print(jsonl_str[i])"
      ]
    },
    {
      "cell_type": "code",
      "execution_count": 152,
      "metadata": {},
      "outputs": [
        {
          "name": "stdout",
          "output_type": "stream",
          "text": [
            "Data saved to test_output.jsonl\n"
          ]
        }
      ],
      "source": [
        "file_path = \"test_output.jsonl\"\n",
        "import json\n",
        "# file_path = \"output.jsonl\"\n",
        "\n",
        "# Write the list to the JSONL file\n",
        "with open(file_path, \"w\") as file:\n",
        "    for string in jsonl_str:\n",
        "        file.write(string + \"\\n\")  # Write each string directly with a newline\n",
        "\n",
        "print(f\"Data saved to {file_path}\")"
      ]
    },
    {
      "cell_type": "code",
      "execution_count": 142,
      "metadata": {},
      "outputs": [
        {
          "data": {
            "text/plain": [
              "'[4 2 5 4 5]'"
            ]
          },
          "execution_count": 142,
          "metadata": {},
          "output_type": "execute_result"
        }
      ],
      "source": [
        "str(y_train[i:i+5])"
      ]
    },
    {
      "cell_type": "code",
      "execution_count": 153,
      "metadata": {},
      "outputs": [],
      "source": [
        "model = 'ft:gpt-4o-mini-2024-07-18:tamu::Au4NlALb'"
      ]
    },
    {
      "cell_type": "code",
      "execution_count": 168,
      "metadata": {},
      "outputs": [
        {
          "data": {
            "text/plain": [
              "27193"
            ]
          },
          "execution_count": 168,
          "metadata": {},
          "output_type": "execute_result"
        }
      ],
      "source": [
        "len(jsonl_str)"
      ]
    },
    {
      "cell_type": "code",
      "execution_count": 177,
      "metadata": {},
      "outputs": [
        {
          "name": "stdout",
          "output_type": "stream",
          "text": [
            "{\"messages\": [{\"role\": \"system\", \"content\": \"You are trying to predict output from timeseries data given and columns names given \"}, {\"role\": \"user\", \"content\":\" {'user_5': False, 'user_8': False, 'user_9': False, 'user_11': False, 'user_13': True, 'user_14': False, 'user_18': False, 'user_21': False, 'user_23': False, 'hour_0': False, 'hour_1': False, 'hour_2': False, 'hour_3': True, 'hour_4': False, 'hour_5': False, 'hour_6': False, 'hour_7': False, 'hour_8': False, 'hour_9': False, 'hour_10': False, 'hour_11': False, 'hour_12': False, 'hour_13': False, 'hour_14': False, 'hour_15': False, 'hour_16': False, 'hour_17': False, 'hour_18': False, 'hour_19': False, 'hour_20': False, 'hour_21': False, 'hour_22': False, 'hour_23': False, 'weekday_0': True, 'weekday_1': False, 'weekday_2': False, 'weekday_3': False, 'weekday_4': False, 'weekday_5': False, 'weekday_6': False, 'charging_type_1': True, 'charging_type_2': False, 'charging_type_3': False, 'bluetooth_1': False, 'bluetooth_2': False, 'bluetooth_3': True, 'bluetooth_4': False, 'bluetooth_5': False, 'wifi_1': False, 'wifi_2': True, 'charging_status_1': True, 'charging_status_2': False, 'daytype_0': True, 'daytype_1': False} \"}\n"
          ]
        }
      ],
      "source": [
        "print(query_str[0])"
      ]
    },
    {
      "cell_type": "code",
      "execution_count": 188,
      "metadata": {},
      "outputs": [
        {
          "data": {
            "text/plain": [
              "\"{'user_5': False, 'user_8': False, 'user_9': False, 'user_11': False, 'user_13': True, 'user_14': False, 'user_18': False, 'user_21': False, 'user_23': False, 'hour_0': False, 'hour_1': False, 'hour_2': False, 'hour_3': True, 'hour_4': False, 'hour_5': False, 'hour_6': False, 'hour_7': False, 'hour_8': False, 'hour_9': False, 'hour_10': False, 'hour_11': False, 'hour_12': False, 'hour_13': False, 'hour_14': False, 'hour_15': False, 'hour_16': False, 'hour_17': False, 'hour_18': False, 'hour_19': False, 'hour_20': False, 'hour_21': False, 'hour_22': False, 'hour_23': False, 'weekday_0': True, 'weekday_1': False, 'weekday_2': False, 'weekday_3': False, 'weekday_4': False, 'weekday_5': False, 'weekday_6': False, 'charging_type_1': True, 'charging_type_2': False, 'charging_type_3': False, 'bluetooth_1': False, 'bluetooth_2': False, 'bluetooth_3': True, 'bluetooth_4': False, 'bluetooth_5': False, 'wifi_1': False, 'wifi_2': True, 'charging_status_1': True, 'charging_status_2': False, 'daytype_0': True, 'daytype_1': False}\""
            ]
          },
          "execution_count": 188,
          "metadata": {},
          "output_type": "execute_result"
        }
      ],
      "source": [
        "def get_user_query(i):\n",
        "    x_data = str(X_test[i,:])\n",
        "    y_data = str(y_test[i])\n",
        "    result_dict = dict(zip(labels, X_test[i,:]))\n",
        "    result_dict = str(result_dict)\n",
        "    return result_dict\n",
        "get_user_query(0)"
      ]
    },
    {
      "cell_type": "code",
      "execution_count": 202,
      "metadata": {},
      "outputs": [
        {
          "name": "stdout",
          "output_type": "stream",
          "text": [
            "27193 27193\n"
          ]
        }
      ],
      "source": [
        "print(len(y_test), len(X_test))"
      ]
    },
    {
      "cell_type": "code",
      "execution_count": 205,
      "metadata": {},
      "outputs": [
        {
          "name": "stdout",
          "output_type": "stream",
          "text": [
            "5 True\n",
            "5 True\n",
            "42 8 84.0\n",
            "4 True\n",
            "87 13 87.0\n",
            "5 True\n",
            "125 25 83.33333333333333\n",
            "5 True\n",
            "166 34 83.0\n",
            "2 False\n",
            "207 43 82.8\n",
            "4 True\n",
            "247 53 82.33333333333333\n",
            "5 True\n",
            "290 60 82.85714285714286\n",
            "5 True\n",
            "327 73 81.75\n",
            "4 True\n",
            "375 75 83.33333333333333\n",
            "5 True\n",
            "413 87 82.6\n",
            "5 True\n",
            "451 99 82.0\n",
            "4 True\n",
            "492 108 82.0\n",
            "5 True\n",
            "526 124 80.92307692307692\n",
            "4 True\n",
            "570 130 81.42857142857143\n",
            "2 True\n",
            "606 144 80.8\n",
            "5 True\n",
            "651 149 81.375\n",
            "5 True\n",
            "697 153 82.0\n",
            "5 True\n",
            "740 160 82.22222222222223\n",
            "4 True\n",
            "779 171 82.0\n"
          ]
        }
      ],
      "source": [
        "import os\n",
        "from openai import OpenAI\n",
        "api_key = ''\n",
        "client = OpenAI(\n",
        "    api_key=api_key,  # This is the default and can be omitted\n",
        "   \n",
        ")\n",
        "correct = 0\n",
        "incorrect = 0\n",
        "for i in range(1000):\n",
        "    result_dict = get_user_query(i)\n",
        "    chat_completion = client.chat.completions.create(\n",
        "        messages=[\n",
        "            {\n",
        "                \"role\": \"system\", \n",
        "                \"content\": \"You are trying to predict output from timeseries data given and columns names given \",\n",
        "                \"role\": \"user\",\n",
        "                \"content\":result_dict\n",
        "                }\n",
        "        ],\n",
        "        model=model,\n",
        "        max_tokens=5\n",
        "    )\n",
        "    ans = chat_completion.choices[0].message.content\n",
        "    ans = ans[:2]\n",
        "    ans = ans.strip()\n",
        "    if i%50 == 0:\n",
        "        print(ans, (ans == str(y_test[i]) ))\n",
        "        try:\n",
        "            print(correct, incorrect, correct*100/(correct+incorrect))  \n",
        "        except Exception as e:\n",
        "            pass\n",
        "    if ans == str(y_test[i]):\n",
        "        correct += 1\n",
        "    else:\n",
        "        incorrect += 1\n",
        "  "
      ]
    },
    {
      "cell_type": "code",
      "execution_count": 206,
      "metadata": {},
      "outputs": [
        {
          "data": {
            "text/plain": [
              "81.89999999999999"
            ]
          },
          "execution_count": 206,
          "metadata": {},
          "output_type": "execute_result"
        }
      ],
      "source": [
        "correct/(incorrect+correct)*100\n"
      ]
    },
    {
      "cell_type": "code",
      "execution_count": 196,
      "metadata": {},
      "outputs": [
        {
          "data": {
            "text/plain": [
              "'5 '"
            ]
          },
          "execution_count": 196,
          "metadata": {},
          "output_type": "execute_result"
        }
      ],
      "source": [
        "ans"
      ]
    },
    {
      "cell_type": "code",
      "execution_count": 111,
      "metadata": {
        "colab": {
          "base_uri": "https://localhost:8080/"
        },
        "id": "H7gsme7nTdtX",
        "outputId": "c5af041a-f912-4efc-cf0c-05a8fa35d60b"
      },
      "outputs": [
        {
          "ename": "SyntaxError",
          "evalue": "invalid syntax (1641270683.py, line 1)",
          "output_type": "error",
          "traceback": [
            "\u001b[0;36m  Cell \u001b[0;32mIn[111], line 1\u001b[0;36m\u001b[0m\n\u001b[0;31m    set(predict_rfc)``\u001b[0m\n\u001b[0m                    ^\u001b[0m\n\u001b[0;31mSyntaxError\u001b[0m\u001b[0;31m:\u001b[0m invalid syntax\n"
          ]
        }
      ],
      "source": [
        "set(predict_rfc)"
      ]
    },
    {
      "cell_type": "markdown",
      "metadata": {
        "id": "gsgaYM2xR2IP"
      },
      "source": [
        "# XGBoost Classifier"
      ]
    },
    {
      "cell_type": "code",
      "execution_count": 101,
      "metadata": {
        "id": "4JfXgS_LuZAh"
      },
      "outputs": [],
      "source": [
        "X_train, X_test, y_train, y_test = train_test_split(X_main, y_main, test_size=0.3, random_state=42)\n",
        "X_train, y_train = shuffle(X_train, y_train)"
      ]
    },
    {
      "cell_type": "code",
      "execution_count": 102,
      "metadata": {
        "colab": {
          "base_uri": "https://localhost:8080/"
        },
        "id": "ZfYMDifQuXb8",
        "outputId": "d76dae8f-4438-4e78-9fb4-7ac9da8965d9"
      },
      "outputs": [
        {
          "ename": "ValueError",
          "evalue": "Invalid classes inferred from unique values of `y`.  Expected: [0 1 2 3 4], got [1 2 3 4 5]",
          "output_type": "error",
          "traceback": [
            "\u001b[0;31m---------------------------------------------------------------------------\u001b[0m",
            "\u001b[0;31mValueError\u001b[0m                                Traceback (most recent call last)",
            "Cell \u001b[0;32mIn[102], line 2\u001b[0m\n\u001b[1;32m      1\u001b[0m xgb_model \u001b[38;5;241m=\u001b[39m xgb\u001b[38;5;241m.\u001b[39mXGBClassifier(random_state\u001b[38;5;241m=\u001b[39m\u001b[38;5;241m42\u001b[39m)\n\u001b[0;32m----> 2\u001b[0m \u001b[43mxgb_model\u001b[49m\u001b[38;5;241;43m.\u001b[39;49m\u001b[43mfit\u001b[49m\u001b[43m(\u001b[49m\u001b[43mX_train\u001b[49m\u001b[43m,\u001b[49m\u001b[43m \u001b[49m\u001b[43my_train\u001b[49m\u001b[43m)\u001b[49m\n",
            "File \u001b[0;32m~/miniforge3/envs/llm/lib/python3.9/site-packages/xgboost/core.py:726\u001b[0m, in \u001b[0;36mrequire_keyword_args.<locals>.throw_if.<locals>.inner_f\u001b[0;34m(*args, **kwargs)\u001b[0m\n\u001b[1;32m    724\u001b[0m \u001b[38;5;28;01mfor\u001b[39;00m k, arg \u001b[38;5;129;01min\u001b[39;00m \u001b[38;5;28mzip\u001b[39m(sig\u001b[38;5;241m.\u001b[39mparameters, args):\n\u001b[1;32m    725\u001b[0m     kwargs[k] \u001b[38;5;241m=\u001b[39m arg\n\u001b[0;32m--> 726\u001b[0m \u001b[38;5;28;01mreturn\u001b[39;00m \u001b[43mfunc\u001b[49m\u001b[43m(\u001b[49m\u001b[38;5;241;43m*\u001b[39;49m\u001b[38;5;241;43m*\u001b[39;49m\u001b[43mkwargs\u001b[49m\u001b[43m)\u001b[49m\n",
            "File \u001b[0;32m~/miniforge3/envs/llm/lib/python3.9/site-packages/xgboost/sklearn.py:1491\u001b[0m, in \u001b[0;36mXGBClassifier.fit\u001b[0;34m(self, X, y, sample_weight, base_margin, eval_set, verbose, xgb_model, sample_weight_eval_set, base_margin_eval_set, feature_weights)\u001b[0m\n\u001b[1;32m   1486\u001b[0m     expected_classes \u001b[38;5;241m=\u001b[39m \u001b[38;5;28mself\u001b[39m\u001b[38;5;241m.\u001b[39mclasses_\n\u001b[1;32m   1487\u001b[0m \u001b[38;5;28;01mif\u001b[39;00m (\n\u001b[1;32m   1488\u001b[0m     classes\u001b[38;5;241m.\u001b[39mshape \u001b[38;5;241m!=\u001b[39m expected_classes\u001b[38;5;241m.\u001b[39mshape\n\u001b[1;32m   1489\u001b[0m     \u001b[38;5;129;01mor\u001b[39;00m \u001b[38;5;129;01mnot\u001b[39;00m (classes \u001b[38;5;241m==\u001b[39m expected_classes)\u001b[38;5;241m.\u001b[39mall()\n\u001b[1;32m   1490\u001b[0m ):\n\u001b[0;32m-> 1491\u001b[0m     \u001b[38;5;28;01mraise\u001b[39;00m \u001b[38;5;167;01mValueError\u001b[39;00m(\n\u001b[1;32m   1492\u001b[0m         \u001b[38;5;124mf\u001b[39m\u001b[38;5;124m\"\u001b[39m\u001b[38;5;124mInvalid classes inferred from unique values of `y`.  \u001b[39m\u001b[38;5;124m\"\u001b[39m\n\u001b[1;32m   1493\u001b[0m         \u001b[38;5;124mf\u001b[39m\u001b[38;5;124m\"\u001b[39m\u001b[38;5;124mExpected: \u001b[39m\u001b[38;5;132;01m{\u001b[39;00mexpected_classes\u001b[38;5;132;01m}\u001b[39;00m\u001b[38;5;124m, got \u001b[39m\u001b[38;5;132;01m{\u001b[39;00mclasses\u001b[38;5;132;01m}\u001b[39;00m\u001b[38;5;124m\"\u001b[39m\n\u001b[1;32m   1494\u001b[0m     )\n\u001b[1;32m   1496\u001b[0m params \u001b[38;5;241m=\u001b[39m \u001b[38;5;28mself\u001b[39m\u001b[38;5;241m.\u001b[39mget_xgb_params()\n\u001b[1;32m   1498\u001b[0m \u001b[38;5;28;01mif\u001b[39;00m \u001b[38;5;28mcallable\u001b[39m(\u001b[38;5;28mself\u001b[39m\u001b[38;5;241m.\u001b[39mobjective):\n",
            "\u001b[0;31mValueError\u001b[0m: Invalid classes inferred from unique values of `y`.  Expected: [0 1 2 3 4], got [1 2 3 4 5]"
          ]
        }
      ],
      "source": [
        "xgb_model = xgb.XGBClassifier(random_state=42)\n",
        "xgb_model.fit(X_train, y_train)"
      ]
    },
    {
      "cell_type": "code",
      "execution_count": 103,
      "metadata": {
        "colab": {
          "base_uri": "https://localhost:8080/"
        },
        "id": "gzaM9g6NuboW",
        "outputId": "e87630be-a6c5-43b7-a7ed-64ae336b645a"
      },
      "outputs": [
        {
          "ename": "NotFittedError",
          "evalue": "need to call fit or load_model beforehand",
          "output_type": "error",
          "traceback": [
            "\u001b[0;31m---------------------------------------------------------------------------\u001b[0m",
            "\u001b[0;31mNotFittedError\u001b[0m                            Traceback (most recent call last)",
            "Cell \u001b[0;32mIn[103], line 1\u001b[0m\n\u001b[0;32m----> 1\u001b[0m predict_xgb \u001b[38;5;241m=\u001b[39m \u001b[43mxgb_model\u001b[49m\u001b[38;5;241;43m.\u001b[39;49m\u001b[43mpredict\u001b[49m\u001b[43m(\u001b[49m\u001b[43mX_test\u001b[49m\u001b[43m)\u001b[49m\n\u001b[1;32m      2\u001b[0m accuracy_xgb \u001b[38;5;241m=\u001b[39m get_accuracy(predict_xgb, y_test)\n\u001b[1;32m      3\u001b[0m \u001b[38;5;28mprint\u001b[39m(\u001b[38;5;124mf\u001b[39m\u001b[38;5;124m\"\u001b[39m\u001b[38;5;124mXGBoost Classifier accuracy: \u001b[39m\u001b[38;5;132;01m{\u001b[39;00maccuracy_xgb\u001b[38;5;132;01m}\u001b[39;00m\u001b[38;5;124m\"\u001b[39m)\n",
            "File \u001b[0;32m~/miniforge3/envs/llm/lib/python3.9/site-packages/xgboost/sklearn.py:1565\u001b[0m, in \u001b[0;36mXGBClassifier.predict\u001b[0;34m(self, X, output_margin, validate_features, base_margin, iteration_range)\u001b[0m\n\u001b[1;32m   1556\u001b[0m \u001b[38;5;28;01mdef\u001b[39;00m \u001b[38;5;21mpredict\u001b[39m(\n\u001b[1;32m   1557\u001b[0m     \u001b[38;5;28mself\u001b[39m,\n\u001b[1;32m   1558\u001b[0m     X: ArrayLike,\n\u001b[0;32m   (...)\u001b[0m\n\u001b[1;32m   1562\u001b[0m     iteration_range: Optional[IterationRange] \u001b[38;5;241m=\u001b[39m \u001b[38;5;28;01mNone\u001b[39;00m,\n\u001b[1;32m   1563\u001b[0m ) \u001b[38;5;241m-\u001b[39m\u001b[38;5;241m>\u001b[39m ArrayLike:\n\u001b[1;32m   1564\u001b[0m     \u001b[38;5;28;01mwith\u001b[39;00m config_context(verbosity\u001b[38;5;241m=\u001b[39m\u001b[38;5;28mself\u001b[39m\u001b[38;5;241m.\u001b[39mverbosity):\n\u001b[0;32m-> 1565\u001b[0m         class_probs \u001b[38;5;241m=\u001b[39m \u001b[38;5;28;43msuper\u001b[39;49m\u001b[43m(\u001b[49m\u001b[43m)\u001b[49m\u001b[38;5;241;43m.\u001b[39;49m\u001b[43mpredict\u001b[49m\u001b[43m(\u001b[49m\n\u001b[1;32m   1566\u001b[0m \u001b[43m            \u001b[49m\u001b[43mX\u001b[49m\u001b[38;5;241;43m=\u001b[39;49m\u001b[43mX\u001b[49m\u001b[43m,\u001b[49m\n\u001b[1;32m   1567\u001b[0m \u001b[43m            \u001b[49m\u001b[43moutput_margin\u001b[49m\u001b[38;5;241;43m=\u001b[39;49m\u001b[43moutput_margin\u001b[49m\u001b[43m,\u001b[49m\n\u001b[1;32m   1568\u001b[0m \u001b[43m            \u001b[49m\u001b[43mvalidate_features\u001b[49m\u001b[38;5;241;43m=\u001b[39;49m\u001b[43mvalidate_features\u001b[49m\u001b[43m,\u001b[49m\n\u001b[1;32m   1569\u001b[0m \u001b[43m            \u001b[49m\u001b[43mbase_margin\u001b[49m\u001b[38;5;241;43m=\u001b[39;49m\u001b[43mbase_margin\u001b[49m\u001b[43m,\u001b[49m\n\u001b[1;32m   1570\u001b[0m \u001b[43m            \u001b[49m\u001b[43miteration_range\u001b[49m\u001b[38;5;241;43m=\u001b[39;49m\u001b[43miteration_range\u001b[49m\u001b[43m,\u001b[49m\n\u001b[1;32m   1571\u001b[0m \u001b[43m        \u001b[49m\u001b[43m)\u001b[49m\n\u001b[1;32m   1572\u001b[0m         \u001b[38;5;28;01mif\u001b[39;00m output_margin:\n\u001b[1;32m   1573\u001b[0m             \u001b[38;5;66;03m# If output_margin is active, simply return the scores\u001b[39;00m\n\u001b[1;32m   1574\u001b[0m             \u001b[38;5;28;01mreturn\u001b[39;00m class_probs\n",
            "File \u001b[0;32m~/miniforge3/envs/llm/lib/python3.9/site-packages/xgboost/sklearn.py:1186\u001b[0m, in \u001b[0;36mXGBModel.predict\u001b[0;34m(self, X, output_margin, validate_features, base_margin, iteration_range)\u001b[0m\n\u001b[1;32m   1184\u001b[0m \u001b[38;5;28;01mif\u001b[39;00m \u001b[38;5;28mself\u001b[39m\u001b[38;5;241m.\u001b[39m_can_use_inplace_predict():\n\u001b[1;32m   1185\u001b[0m     \u001b[38;5;28;01mtry\u001b[39;00m:\n\u001b[0;32m-> 1186\u001b[0m         predts \u001b[38;5;241m=\u001b[39m \u001b[38;5;28;43mself\u001b[39;49m\u001b[38;5;241;43m.\u001b[39;49m\u001b[43mget_booster\u001b[49m\u001b[43m(\u001b[49m\u001b[43m)\u001b[49m\u001b[38;5;241m.\u001b[39minplace_predict(\n\u001b[1;32m   1187\u001b[0m             data\u001b[38;5;241m=\u001b[39mX,\n\u001b[1;32m   1188\u001b[0m             iteration_range\u001b[38;5;241m=\u001b[39miteration_range,\n\u001b[1;32m   1189\u001b[0m             predict_type\u001b[38;5;241m=\u001b[39m\u001b[38;5;124m\"\u001b[39m\u001b[38;5;124mmargin\u001b[39m\u001b[38;5;124m\"\u001b[39m \u001b[38;5;28;01mif\u001b[39;00m output_margin \u001b[38;5;28;01melse\u001b[39;00m \u001b[38;5;124m\"\u001b[39m\u001b[38;5;124mvalue\u001b[39m\u001b[38;5;124m\"\u001b[39m,\n\u001b[1;32m   1190\u001b[0m             missing\u001b[38;5;241m=\u001b[39m\u001b[38;5;28mself\u001b[39m\u001b[38;5;241m.\u001b[39mmissing,\n\u001b[1;32m   1191\u001b[0m             base_margin\u001b[38;5;241m=\u001b[39mbase_margin,\n\u001b[1;32m   1192\u001b[0m             validate_features\u001b[38;5;241m=\u001b[39mvalidate_features,\n\u001b[1;32m   1193\u001b[0m         )\n\u001b[1;32m   1194\u001b[0m         \u001b[38;5;28;01mif\u001b[39;00m _is_cupy_alike(predts):\n\u001b[1;32m   1195\u001b[0m             \u001b[38;5;28;01mimport\u001b[39;00m \u001b[38;5;21;01mcupy\u001b[39;00m  \u001b[38;5;66;03m# pylint: disable=import-error\u001b[39;00m\n",
            "File \u001b[0;32m~/miniforge3/envs/llm/lib/python3.9/site-packages/xgboost/sklearn.py:805\u001b[0m, in \u001b[0;36mXGBModel.get_booster\u001b[0;34m(self)\u001b[0m\n\u001b[1;32m    802\u001b[0m \u001b[38;5;28;01mif\u001b[39;00m \u001b[38;5;129;01mnot\u001b[39;00m \u001b[38;5;28mself\u001b[39m\u001b[38;5;241m.\u001b[39m__sklearn_is_fitted__():\n\u001b[1;32m    803\u001b[0m     \u001b[38;5;28;01mfrom\u001b[39;00m \u001b[38;5;21;01msklearn\u001b[39;00m\u001b[38;5;21;01m.\u001b[39;00m\u001b[38;5;21;01mexceptions\u001b[39;00m \u001b[38;5;28;01mimport\u001b[39;00m NotFittedError\n\u001b[0;32m--> 805\u001b[0m     \u001b[38;5;28;01mraise\u001b[39;00m NotFittedError(\u001b[38;5;124m\"\u001b[39m\u001b[38;5;124mneed to call fit or load_model beforehand\u001b[39m\u001b[38;5;124m\"\u001b[39m)\n\u001b[1;32m    806\u001b[0m \u001b[38;5;28;01mreturn\u001b[39;00m \u001b[38;5;28mself\u001b[39m\u001b[38;5;241m.\u001b[39m_Booster\n",
            "\u001b[0;31mNotFittedError\u001b[0m: need to call fit or load_model beforehand"
          ]
        }
      ],
      "source": [
        "predict_xgb = xgb_model.predict(X_test)\n",
        "accuracy_xgb = get_accuracy(predict_xgb, y_test)\n",
        "print(f\"XGBoost Classifier accuracy: {accuracy_xgb}\")"
      ]
    },
    {
      "cell_type": "code",
      "execution_count": 104,
      "metadata": {
        "colab": {
          "base_uri": "https://localhost:8080/"
        },
        "id": "ntHLBP4kudZp",
        "outputId": "7c0cc231-dc2d-4ab8-b8d5-72ba68cc8cfd"
      },
      "outputs": [
        {
          "ename": "NameError",
          "evalue": "name 'predict_xgb' is not defined",
          "output_type": "error",
          "traceback": [
            "\u001b[0;31m---------------------------------------------------------------------------\u001b[0m",
            "\u001b[0;31mNameError\u001b[0m                                 Traceback (most recent call last)",
            "Cell \u001b[0;32mIn[104], line 1\u001b[0m\n\u001b[0;32m----> 1\u001b[0m \u001b[38;5;28mset\u001b[39m(\u001b[43mpredict_xgb\u001b[49m)\n",
            "\u001b[0;31mNameError\u001b[0m: name 'predict_xgb' is not defined"
          ]
        }
      ],
      "source": [
        "set(predict_xgb)"
      ]
    },
    {
      "cell_type": "markdown",
      "metadata": {
        "id": "8XjP5MJYB7p4"
      },
      "source": [
        "# SVM"
      ]
    },
    {
      "cell_type": "code",
      "execution_count": 41,
      "metadata": {
        "id": "2ZO-iI_ZB6zt"
      },
      "outputs": [],
      "source": [
        "X_train, X_test, y_train, y_test = train_test_split(X_main, y_main, test_size=0.3, random_state=42)\n",
        "X_train, y_train = shuffle(X_train, y_train)"
      ]
    },
    {
      "cell_type": "code",
      "execution_count": 42,
      "metadata": {
        "colab": {
          "base_uri": "https://localhost:8080/"
        },
        "id": "P7rJhhOdB-_D",
        "outputId": "58073e45-43ba-438b-e99c-fbe0bde1d6cf"
      },
      "outputs": [
        {
          "data": {
            "text/plain": [
              "SVC()"
            ]
          },
          "execution_count": 42,
          "metadata": {},
          "output_type": "execute_result"
        }
      ],
      "source": [
        "svm_model = svm.SVC()\n",
        "svm_model.fit(X_train, y_train)"
      ]
    },
    {
      "cell_type": "code",
      "execution_count": 43,
      "metadata": {
        "colab": {
          "base_uri": "https://localhost:8080/"
        },
        "id": "5kflkqZhCBc7",
        "outputId": "d59a7fdc-3f1b-4b64-da2e-3a24609a64a2"
      },
      "outputs": [
        {
          "name": "stdout",
          "output_type": "stream",
          "text": [
            "SVM Classifier accuracy: 0.8939065200603097\n"
          ]
        }
      ],
      "source": [
        "predict_svm = svm_model.predict(X_test)\n",
        "accuracy_svm = get_accuracy(predict_svm, y_test)\n",
        "print(f\"SVM Classifier accuracy: {accuracy_svm}\")"
      ]
    },
    {
      "cell_type": "code",
      "execution_count": 44,
      "metadata": {
        "colab": {
          "base_uri": "https://localhost:8080/"
        },
        "id": "r3DZD2AACCXQ",
        "outputId": "fefec6f8-9ac7-4401-d2dd-32c7b4d4e22a"
      },
      "outputs": [
        {
          "data": {
            "text/plain": [
              "{1, 2, 3, 4, 5}"
            ]
          },
          "execution_count": 44,
          "metadata": {},
          "output_type": "execute_result"
        }
      ],
      "source": [
        "set(predict_svm)"
      ]
    },
    {
      "cell_type": "markdown",
      "metadata": {
        "id": "fEVyS59wl5lh"
      },
      "source": [
        "# LSTM - Pytorch"
      ]
    },
    {
      "cell_type": "code",
      "execution_count": null,
      "metadata": {
        "id": "VRM-lTAZ3F1M"
      },
      "outputs": [],
      "source": [
        "EPOCHS = 10\n",
        "# No of features\n",
        "INPUT_SIZE = 54\n",
        "# No of features in hidden state\n",
        "HIDDEN_SIZE = 75\n",
        "# No of stacked LSTM layers\n",
        "NUM_LAYERS = 1\n",
        "# No of output classes\n",
        "NUM_CLASSES = 7\n",
        "LEARNING_RATE = 0.01\n",
        "DEVICE = 'cuda' if torch.cuda.is_available() else 'cpu'"
      ]
    },
    {
      "cell_type": "code",
      "execution_count": null,
      "metadata": {
        "id": "4oI68z4ksgfq"
      },
      "outputs": [],
      "source": [
        "y_onehot = pd.get_dummies(labels)\n",
        "y_onehot = y_onehot.to_numpy()\n",
        "\n",
        "# X_train, X_test, y_train, y_test = train_test_split(X_main, y_onehot, test_size=0.3, random_state=42)\n",
        "# X_train, y_train = shuffle(X_train, y_train)\n",
        "X_train, X_test, y_train, y_test = divide_train_test(X_main, y_onehot, ratio=0.7)"
      ]
    },
    {
      "cell_type": "code",
      "execution_count": null,
      "metadata": {
        "id": "7KUDif5mv_3f"
      },
      "outputs": [],
      "source": [
        "# y_train_tensor = torch.Tensor(y_train - 1).type(torch.LongTensor)\n",
        "# y_test_sensor = torch.Tensor(y_test - 1).type(torch.LongTensor)"
      ]
    },
    {
      "cell_type": "code",
      "execution_count": null,
      "metadata": {
        "id": "BiLDzBV-l4zS"
      },
      "outputs": [],
      "source": [
        "X_train_tensor = torch.Tensor(X_train)\n",
        "y_train_tensor = torch.Tensor(y_train)\n",
        "\n",
        "X_test_tensor = torch.Tensor(X_test)\n",
        "y_test_sensor = torch.Tensor(y_test)\n",
        "\n",
        "# Reshaping the tensor to 3-D for X (rows, 1, features) and 2-D for y\n",
        "X_train_tensor = torch.reshape(X_train_tensor, (X_train_tensor.shape[0], 1, X_train_tensor.shape[1]))\n",
        "y_train_tensor = torch.reshape(y_train_tensor, (y_train_tensor.shape[0], y_train_tensor.shape[1]))\n",
        "\n",
        "X_test_tensor = torch.reshape(X_test_tensor, (X_test_tensor.shape[0], 1, X_test_tensor.shape[1]))\n",
        "y_test_tensor = torch.reshape(y_test_sensor, (y_test_sensor.shape[0], y_test_sensor.shape[1]))"
      ]
    },
    {
      "cell_type": "code",
      "execution_count": null,
      "metadata": {
        "colab": {
          "base_uri": "https://localhost:8080/"
        },
        "id": "Y2lje6o1uVl8",
        "outputId": "b9ed8638-d1fd-4d12-e40b-d52bfb61013d"
      },
      "outputs": [
        {
          "name": "stdout",
          "output_type": "stream",
          "text": [
            "Training Shape: X: torch.Size([63448, 1, 54]), y: torch.Size([63448, 7])\n",
            "Testing Shape: X: torch.Size([27193, 1, 54]), y: torch.Size([27193, 7])\n"
          ]
        }
      ],
      "source": [
        "print(f\"Training Shape: X: {X_train_tensor.shape}, y: {y_train_tensor.shape}\")\n",
        "print(f\"Testing Shape: X: {X_test_tensor.shape}, y: {y_test_sensor.shape}\")"
      ]
    },
    {
      "cell_type": "code",
      "execution_count": null,
      "metadata": {
        "id": "FD1AcrZXxd0y"
      },
      "outputs": [],
      "source": [
        "class LSTM_Model(nn.Module):\n",
        "    def __init__(self, num_classes, input_size, hidden_size, num_layers, seq_length):\n",
        "        super(LSTM_Model, self).__init__()\n",
        "        self.num_classes = num_classes\n",
        "        self.input_size = input_size\n",
        "        self.hidden_size = hidden_size\n",
        "        self.num_layers = num_layers\n",
        "        self.seq_length = seq_length\n",
        "\n",
        "        self.lstm = nn.LSTM(input_size=self.input_size, hidden_size=self.hidden_size, num_layers=self.num_layers, batch_first=True)\n",
        "        self.fc1 = nn.Linear(self.hidden_size, 128)\n",
        "        self.fc2 = nn.Linear(128, num_classes)\n",
        "        self.logSoftmax = nn.LogSoftmax(dim=-1)\n",
        "\n",
        "        self.relu = nn.ReLU()\n",
        "\n",
        "    def forward(self, x):\n",
        "        h_0 = torch.zeros(self.num_layers, x.size(0), self.hidden_size).to(DEVICE)\n",
        "        c_0 = torch.zeros(self.num_layers, x.size(0), self.hidden_size).to(DEVICE)\n",
        "\n",
        "        out, (hn, cn) = self.lstm(x, (h_0, c_0))\n",
        "        hn = hn.view(-1, self.hidden_size)\n",
        "        out = self.relu(hn)\n",
        "        out = self.fc1(out)\n",
        "        out = self.relu(out)\n",
        "        out = self.fc2(out)\n",
        "        out = self.logSoftmax(out)\n",
        "\n",
        "        return out"
      ]
    },
    {
      "cell_type": "code",
      "execution_count": null,
      "metadata": {
        "id": "QA3DJHYd37na"
      },
      "outputs": [],
      "source": [
        "model_lstm = LSTM_Model(NUM_CLASSES, INPUT_SIZE, HIDDEN_SIZE, NUM_LAYERS, X_train_tensor.shape[1]).to(DEVICE)"
      ]
    },
    {
      "cell_type": "code",
      "execution_count": null,
      "metadata": {
        "id": "A-c_H3f06aAZ"
      },
      "outputs": [],
      "source": [
        "criterion = nn.CrossEntropyLoss()\n",
        "optimizer = torch.optim.Adam(params=model_lstm.parameters(), lr=LEARNING_RATE)"
      ]
    },
    {
      "cell_type": "code",
      "execution_count": null,
      "metadata": {
        "colab": {
          "base_uri": "https://localhost:8080/"
        },
        "id": "uWbrkzSs_mZo",
        "outputId": "25887230-174a-47f1-f840-464cd4e07174"
      },
      "outputs": [
        {
          "name": "stdout",
          "output_type": "stream",
          "text": [
            "LSTM_Model(\n",
            "  (lstm): LSTM(54, 75, batch_first=True)\n",
            "  (fc1): Linear(in_features=75, out_features=128, bias=True)\n",
            "  (fc2): Linear(in_features=128, out_features=7, bias=True)\n",
            "  (logSoftmax): LogSoftmax(dim=-1)\n",
            "  (relu): ReLU()\n",
            ")\n"
          ]
        }
      ],
      "source": [
        "print(model_lstm)"
      ]
    },
    {
      "cell_type": "code",
      "execution_count": null,
      "metadata": {
        "colab": {
          "base_uri": "https://localhost:8080/"
        },
        "id": "9Aw0ZTpn79p-",
        "outputId": "6ef08ee0-15fe-480c-a778-6718831c6684"
      },
      "outputs": [
        {
          "name": "stdout",
          "output_type": "stream",
          "text": [
            "11:08:05.523803 --- Epoch: 0\tTrain loss: 1.9486267566680908\n",
            "11:08:23.207905 --- Epoch: 20\tTrain loss: 1.6629637479782104\n",
            "11:08:38.338496 --- Epoch: 40\tTrain loss: 0.9485217332839966\n",
            "11:08:53.893474 --- Epoch: 60\tTrain loss: 0.8430185914039612\n",
            "11:09:10.730881 --- Epoch: 80\tTrain loss: 0.6970074772834778\n",
            "11:09:26.432355 --- Epoch: 99\tTrain loss: 0.5693208575248718\n"
          ]
        }
      ],
      "source": [
        "for epoch in range(100):\n",
        "    if epoch % 500 == 0:\n",
        "        LEARNING_RATE = LEARNING_RATE / 10\n",
        "        for param_group in optimizer.param_groups:\n",
        "            param_group['lr'] = LEARNING_RATE\n",
        "\n",
        "    optimizer.zero_grad()\n",
        "    output = model_lstm(X_train_tensor.to(DEVICE))\n",
        "\n",
        "    loss = criterion(output, y_train_tensor.to(DEVICE))\n",
        "    loss.backward()\n",
        "\n",
        "    optimizer.step()\n",
        "\n",
        "    if epoch % 20 == 0 or epoch == 100 - 1:\n",
        "        print(f'{datetime.datetime.now().time()} --- '\n",
        "                  f'Epoch: {epoch}\\t'\n",
        "                  f'Train loss: {loss}')"
      ]
    },
    {
      "cell_type": "code",
      "execution_count": null,
      "metadata": {
        "id": "LSTIrlOEBPFF"
      },
      "outputs": [],
      "source": [
        "valid_out = model_lstm(X_test_tensor.to(DEVICE))"
      ]
    },
    {
      "cell_type": "code",
      "execution_count": null,
      "metadata": {
        "colab": {
          "base_uri": "https://localhost:8080/"
        },
        "id": "0sCuIZ0JRIWx",
        "outputId": "7d22df28-2232-4c83-9a72-a03ab7bdb9e8"
      },
      "outputs": [
        {
          "name": "stdout",
          "output_type": "stream",
          "text": [
            "LSTM accuracy: 0.46328099143161844\n"
          ]
        }
      ],
      "source": [
        "accuracy_lstm = get_accuracy(valid_out.argmax(1).cpu().numpy(), y_test.argmax(1))\n",
        "print(f\"LSTM accuracy: {accuracy_lstm}\")"
      ]
    },
    {
      "cell_type": "code",
      "execution_count": null,
      "metadata": {
        "colab": {
          "base_uri": "https://localhost:8080/"
        },
        "id": "az-Bpl8LRgzK",
        "outputId": "d8abb2ec-3c8d-477f-de9b-c288bfae40c8"
      },
      "outputs": [
        {
          "data": {
            "text/plain": [
              "{1, 3}"
            ]
          },
          "execution_count": 183,
          "metadata": {},
          "output_type": "execute_result"
        }
      ],
      "source": [
        "set(valid_out.argmax(1).cpu().numpy() + 1)"
      ]
    },
    {
      "cell_type": "markdown",
      "metadata": {
        "id": "F2V2UGLwntm_"
      },
      "source": [
        "# LSTM (Keras)"
      ]
    },
    {
      "cell_type": "code",
      "execution_count": 31,
      "metadata": {
        "id": "bz85stvSnsiy"
      },
      "outputs": [],
      "source": [
        "from numpy import array\n",
        "\n",
        "import tensorflow as tf\n",
        "from keras.optimizers import Adam\n",
        "from keras.models import Sequential\n",
        "from keras.layers.convolutional import Conv1D, Conv2D, MaxPooling1D, MaxPooling2D\n",
        "from keras.layers import LSTM, Dense, Flatten, Dropout, TimeDistributed, ConvLSTM2D, Layer, Activation, Add, Reshape"
      ]
    },
    {
      "cell_type": "code",
      "execution_count": 32,
      "metadata": {
        "id": "AnxhMDy5nspt"
      },
      "outputs": [],
      "source": [
        "def timeseries_split_sequence(sequence, n_steps):\n",
        "    X_seq, y_seq = list(), list()\n",
        "    for i in range(len(sequence)):\n",
        "        # find the end of this pattern\n",
        "        end_ix = i + n_steps\n",
        "        # check if we are beyond the sequence\n",
        "        if end_ix > len(sequence)-1:\n",
        "            break\n",
        "        # gather input and output parts of the pattern\n",
        "        seq_x, seq_y = sequence[i:end_ix], sequence[end_ix]\n",
        "        X_seq.append(seq_x)\n",
        "        y_seq.append(seq_y)\n",
        "    return array(X_seq), array(y_seq)"
      ]
    },
    {
      "cell_type": "markdown",
      "metadata": {
        "id": "a5qX2k7CbB20"
      },
      "source": [
        "Use `labels` for location prediction\n",
        "\n",
        "Use `intent` for intent prediction"
      ]
    },
    {
      "cell_type": "code",
      "execution_count": 33,
      "metadata": {
        "id": "Lx8hXevMomWk"
      },
      "outputs": [],
      "source": [
        "# y_onehot = pd.get_dummies(labels)\n",
        "y_onehot = pd.get_dummies(intent)\n",
        "y_onehot = y_onehot.to_numpy()"
      ]
    },
    {
      "cell_type": "code",
      "execution_count": 34,
      "metadata": {
        "colab": {
          "base_uri": "https://localhost:8080/"
        },
        "id": "bGhdfC8gooJK",
        "outputId": "dc63f83b-5128-4f92-8b0c-1a91cb5564e4"
      },
      "outputs": [
        {
          "data": {
            "text/plain": [
              "(90641, 5)"
            ]
          },
          "execution_count": 34,
          "metadata": {},
          "output_type": "execute_result"
        }
      ],
      "source": [
        "y_onehot.shape"
      ]
    },
    {
      "cell_type": "markdown",
      "metadata": {
        "id": "gT-u-NiUvw5a"
      },
      "source": [
        "Add in conference paper"
      ]
    },
    {
      "cell_type": "code",
      "execution_count": 49,
      "metadata": {
        "id": "TAB4Ov4nGdGi"
      },
      "outputs": [],
      "source": [
        "X_train, X_test, y_train, y_test = train_test_split(X_main, y_onehot, test_size=0.3, random_state=42)\n",
        "X_train = X_train.reshape(X_train.shape[0], 1, X_train.shape[1])\n",
        "X_test = X_test.reshape(X_test.shape[0], 1, X_test.shape[1])\n",
        "verbose, epochs, batch_size = 0, 80, 64\n",
        "n_timesteps, n_features, n_outputs = X_train.shape[1], X_train.shape[2], y_train.shape[1]\n",
        "model = Sequential()\n",
        "model.add(LSTM(100, return_sequences=True, input_shape=(n_timesteps,n_features)))\n",
        "model.add(Dropout(0.4))\n",
        "model.add(LSTM(100, return_sequences=True))\n",
        "model.add(Dropout(0.5))\n",
        "model.add(LSTM(100, return_sequences=False))\n",
        "model.add(Dropout(0.5))\n",
        "model.add(Dense(100, activation='relu'))\n",
        "model.add(Dense(n_outputs, activation='softmax'))\n",
        "model.compile(loss='categorical_crossentropy', optimizer='adam', metrics=['accuracy'])\n",
        "# fit network\n",
        "history_lstm = model.fit(X_train, y_train, epochs=epochs, batch_size=batch_size, verbose=verbose)\n",
        "# evaluate model\n",
        "_, accuracy = model.evaluate(X_test, y_test, batch_size=batch_size, verbose=0)"
      ]
    },
    {
      "cell_type": "code",
      "execution_count": 50,
      "metadata": {
        "colab": {
          "base_uri": "https://localhost:8080/"
        },
        "id": "alWj7uZZv0Ev",
        "outputId": "5bf6de64-5869-4780-ac31-e5e7a6c79524"
      },
      "outputs": [
        {
          "name": "stdout",
          "output_type": "stream",
          "text": [
            "Saved\n"
          ]
        }
      ],
      "source": [
        "# save the history of lstm model\n",
        "history_lstm_df = pd.DataFrame.from_dict(history_lstm.history)\n",
        "epoch_list = [i for i in range(1,81)]\n",
        "history_lstm_df[\"epoch\"] = epoch_list\n",
        "history_lstm_df.to_csv(\"../results/intent_hist_lstm.csv\")\n",
        "print(\"Saved\")"
      ]
    },
    {
      "cell_type": "code",
      "execution_count": 51,
      "metadata": {
        "colab": {
          "base_uri": "https://localhost:8080/"
        },
        "id": "9Ba5Gei9y2FP",
        "outputId": "28d45129-1468-463b-96a8-183526ee1c9e"
      },
      "outputs": [
        {
          "data": {
            "text/plain": [
              "0.8969864845275879"
            ]
          },
          "execution_count": 51,
          "metadata": {},
          "output_type": "execute_result"
        }
      ],
      "source": [
        "history_lstm_df[\"accuracy\"].max()"
      ]
    },
    {
      "cell_type": "code",
      "execution_count": null,
      "metadata": {
        "colab": {
          "base_uri": "https://localhost:8080/"
        },
        "id": "xjToPddcGiSE",
        "outputId": "e96e9626-89ea-4e1b-e80a-1cdcf1e0f64a"
      },
      "outputs": [
        {
          "name": "stdout",
          "output_type": "stream",
          "text": [
            "LSTM (Keras) 3 LSTM layers accuracy: 0.8807413578033447\n"
          ]
        }
      ],
      "source": [
        "print(f\"LSTM (Keras) 3 LSTM layers accuracy: {accuracy}\")"
      ]
    },
    {
      "cell_type": "code",
      "execution_count": null,
      "metadata": {
        "id": "u0lqb4i9Gieu"
      },
      "outputs": [],
      "source": []
    },
    {
      "cell_type": "markdown",
      "metadata": {
        "id": "0uXu_Kf9NRRg"
      },
      "source": [
        "Not required to be included in the conference paper"
      ]
    },
    {
      "cell_type": "code",
      "execution_count": null,
      "metadata": {
        "id": "HgGQEZBiriCB"
      },
      "outputs": [],
      "source": [
        "X_train, X_test, y_train, y_test = train_test_split(X_main, y_onehot, test_size=0.3, random_state=42)\n",
        "X_train = X_train.reshape(X_train.shape[0], 1, X_train.shape[1])\n",
        "X_test = X_test.reshape(X_test.shape[0], 1, X_test.shape[1])\n",
        "verbose, epochs, batch_size = 0, 15, 64\n",
        "n_timesteps, n_features, n_outputs = X_train.shape[1], X_train.shape[2], y_train.shape[1]\n",
        "model = Sequential()\n",
        "model.add(LSTM(100, input_shape=(n_timesteps,n_features)))\n",
        "model.add(Dropout(0.5))\n",
        "model.add(Dense(100, activation='relu'))\n",
        "model.add(Dense(n_outputs, activation='softmax'))\n",
        "model.compile(loss='categorical_crossentropy', optimizer='adam', metrics=['accuracy'])\n",
        "# fit network\n",
        "model.fit(X_train, y_train, epochs=epochs, batch_size=batch_size, verbose=verbose)\n",
        "# evaluate model\n",
        "_, accuracy = model.evaluate(X_test, y_test, batch_size=batch_size, verbose=0)"
      ]
    },
    {
      "cell_type": "code",
      "execution_count": null,
      "metadata": {
        "colab": {
          "base_uri": "https://localhost:8080/"
        },
        "id": "gx6-XSwIoYtE",
        "outputId": "f44c4ab1-e4b3-4a7d-afa2-2279c6e4801b"
      },
      "outputs": [
        {
          "name": "stdout",
          "output_type": "stream",
          "text": [
            "LSTM (Keras) accuracy: 0.8949729800224304\n"
          ]
        }
      ],
      "source": [
        "print(f\"LSTM (Keras) accuracy: {accuracy}\")"
      ]
    },
    {
      "cell_type": "markdown",
      "metadata": {
        "id": "J5wKVZu1wzuE"
      },
      "source": [
        "## CNN-LSTM model"
      ]
    },
    {
      "cell_type": "markdown",
      "metadata": {
        "id": "c2X9zFQlNu_N"
      },
      "source": [
        "Include this in conference"
      ]
    },
    {
      "cell_type": "code",
      "execution_count": 52,
      "metadata": {
        "id": "bLY9Cr9LIs1f"
      },
      "outputs": [],
      "source": [
        "# CNN + LSTM 3 layers\n",
        "X_train, X_test, y_train, y_test = train_test_split(X_main, y_onehot, test_size=0.3, random_state=42)\n",
        "X_train = X_train.reshape(X_train.shape[0], 1, X_train.shape[1])\n",
        "X_test = X_test.reshape(X_test.shape[0], 1, X_test.shape[1])\n",
        "verbose, epochs, batch_size = 0, 80, 64\n",
        "n_timesteps, n_features, n_outputs = X_train.shape[1], X_train.shape[2], y_train.shape[1]\n",
        "# reshape data into time steps of sub-sequences\n",
        "n_steps, n_length = 1, 1\n",
        "X_train = X_train.reshape((X_train.shape[0], n_steps, n_length, n_features))\n",
        "X_test = X_test.reshape((X_test.shape[0], n_steps, n_length, n_features))\n",
        "# define model\n",
        "model = Sequential()\n",
        "model.add(TimeDistributed(Conv1D(filters=64, kernel_size=1, activation='relu'), input_shape=(None, n_length, n_features)))\n",
        "model.add(TimeDistributed(Conv1D(filters=128, kernel_size=1, activation='relu')))\n",
        "model.add(TimeDistributed(Conv1D(filters=64, kernel_size=1, activation='relu')))\n",
        "model.add(TimeDistributed(Dropout(0.5)))\n",
        "model.add(TimeDistributed(MaxPooling1D(pool_size=1)))\n",
        "model.add(TimeDistributed(Flatten()))\n",
        "model.add(LSTM(100, return_sequences=True))\n",
        "model.add(Dropout(0.4))\n",
        "model.add(LSTM(100, return_sequences=False))\n",
        "model.add(Dropout(0.5))\n",
        "model.add(Dense(100, activation='relu'))\n",
        "model.add(Dense(n_outputs, activation='softmax'))\n",
        "model.compile(loss='categorical_crossentropy', optimizer='adam', metrics=['accuracy'])\n",
        "# fit network\n",
        "history_cnn_lstm = model.fit(X_train, y_train, epochs=epochs, batch_size=batch_size, verbose=verbose)\n",
        "# evaluate model\n",
        "_, accuracy = model.evaluate(X_test, y_test, batch_size=batch_size, verbose=0)"
      ]
    },
    {
      "cell_type": "code",
      "execution_count": 53,
      "metadata": {
        "colab": {
          "base_uri": "https://localhost:8080/"
        },
        "id": "601M4vAQw3XX",
        "outputId": "6397ed33-4ead-4cfd-c05b-e5dcd9bc074d"
      },
      "outputs": [
        {
          "name": "stdout",
          "output_type": "stream",
          "text": [
            "Saved\n"
          ]
        }
      ],
      "source": [
        "# save the history of cnn lstm model\n",
        "history_cnn_lstm_df = pd.DataFrame.from_dict(history_cnn_lstm.history)\n",
        "epoch_list = [i for i in range(1,81)]\n",
        "history_cnn_lstm_df[\"epoch\"] = epoch_list\n",
        "history_cnn_lstm_df.to_csv(\"../results/intent_hist_cnn_lstm.csv\")\n",
        "print(\"Saved\")"
      ]
    },
    {
      "cell_type": "code",
      "execution_count": 54,
      "metadata": {
        "colab": {
          "base_uri": "https://localhost:8080/",
          "height": 206
        },
        "id": "pT1DQt3j49bt",
        "outputId": "1b485169-6b48-4f8a-cd5e-1dd788733756"
      },
      "outputs": [
        {
          "data": {
            "text/html": [
              "\n",
              "  <div id=\"df-72c7edbd-4ac4-4906-8a48-d52f1a084b29\">\n",
              "    <div class=\"colab-df-container\">\n",
              "      <div>\n",
              "<style scoped>\n",
              "    .dataframe tbody tr th:only-of-type {\n",
              "        vertical-align: middle;\n",
              "    }\n",
              "\n",
              "    .dataframe tbody tr th {\n",
              "        vertical-align: top;\n",
              "    }\n",
              "\n",
              "    .dataframe thead th {\n",
              "        text-align: right;\n",
              "    }\n",
              "</style>\n",
              "<table border=\"1\" class=\"dataframe\">\n",
              "  <thead>\n",
              "    <tr style=\"text-align: right;\">\n",
              "      <th></th>\n",
              "      <th>loss</th>\n",
              "      <th>accuracy</th>\n",
              "      <th>epoch</th>\n",
              "    </tr>\n",
              "  </thead>\n",
              "  <tbody>\n",
              "    <tr>\n",
              "      <th>0</th>\n",
              "      <td>0.550360</td>\n",
              "      <td>0.783744</td>\n",
              "      <td>1</td>\n",
              "    </tr>\n",
              "    <tr>\n",
              "      <th>1</th>\n",
              "      <td>0.334187</td>\n",
              "      <td>0.861997</td>\n",
              "      <td>2</td>\n",
              "    </tr>\n",
              "    <tr>\n",
              "      <th>2</th>\n",
              "      <td>0.292630</td>\n",
              "      <td>0.876040</td>\n",
              "      <td>3</td>\n",
              "    </tr>\n",
              "    <tr>\n",
              "      <th>3</th>\n",
              "      <td>0.274007</td>\n",
              "      <td>0.880075</td>\n",
              "      <td>4</td>\n",
              "    </tr>\n",
              "    <tr>\n",
              "      <th>4</th>\n",
              "      <td>0.263225</td>\n",
              "      <td>0.883669</td>\n",
              "      <td>5</td>\n",
              "    </tr>\n",
              "  </tbody>\n",
              "</table>\n",
              "</div>\n",
              "      <button class=\"colab-df-convert\" onclick=\"convertToInteractive('df-72c7edbd-4ac4-4906-8a48-d52f1a084b29')\"\n",
              "              title=\"Convert this dataframe to an interactive table.\"\n",
              "              style=\"display:none;\">\n",
              "        \n",
              "  <svg xmlns=\"http://www.w3.org/2000/svg\" height=\"24px\"viewBox=\"0 0 24 24\"\n",
              "       width=\"24px\">\n",
              "    <path d=\"M0 0h24v24H0V0z\" fill=\"none\"/>\n",
              "    <path d=\"M18.56 5.44l.94 2.06.94-2.06 2.06-.94-2.06-.94-.94-2.06-.94 2.06-2.06.94zm-11 1L8.5 8.5l.94-2.06 2.06-.94-2.06-.94L8.5 2.5l-.94 2.06-2.06.94zm10 10l.94 2.06.94-2.06 2.06-.94-2.06-.94-.94-2.06-.94 2.06-2.06.94z\"/><path d=\"M17.41 7.96l-1.37-1.37c-.4-.4-.92-.59-1.43-.59-.52 0-1.04.2-1.43.59L10.3 9.45l-7.72 7.72c-.78.78-.78 2.05 0 2.83L4 21.41c.39.39.9.59 1.41.59.51 0 1.02-.2 1.41-.59l7.78-7.78 2.81-2.81c.8-.78.8-2.07 0-2.86zM5.41 20L4 18.59l7.72-7.72 1.47 1.35L5.41 20z\"/>\n",
              "  </svg>\n",
              "      </button>\n",
              "      \n",
              "  <style>\n",
              "    .colab-df-container {\n",
              "      display:flex;\n",
              "      flex-wrap:wrap;\n",
              "      gap: 12px;\n",
              "    }\n",
              "\n",
              "    .colab-df-convert {\n",
              "      background-color: #E8F0FE;\n",
              "      border: none;\n",
              "      border-radius: 50%;\n",
              "      cursor: pointer;\n",
              "      display: none;\n",
              "      fill: #1967D2;\n",
              "      height: 32px;\n",
              "      padding: 0 0 0 0;\n",
              "      width: 32px;\n",
              "    }\n",
              "\n",
              "    .colab-df-convert:hover {\n",
              "      background-color: #E2EBFA;\n",
              "      box-shadow: 0px 1px 2px rgba(60, 64, 67, 0.3), 0px 1px 3px 1px rgba(60, 64, 67, 0.15);\n",
              "      fill: #174EA6;\n",
              "    }\n",
              "\n",
              "    [theme=dark] .colab-df-convert {\n",
              "      background-color: #3B4455;\n",
              "      fill: #D2E3FC;\n",
              "    }\n",
              "\n",
              "    [theme=dark] .colab-df-convert:hover {\n",
              "      background-color: #434B5C;\n",
              "      box-shadow: 0px 1px 3px 1px rgba(0, 0, 0, 0.15);\n",
              "      filter: drop-shadow(0px 1px 2px rgba(0, 0, 0, 0.3));\n",
              "      fill: #FFFFFF;\n",
              "    }\n",
              "  </style>\n",
              "\n",
              "      <script>\n",
              "        const buttonEl =\n",
              "          document.querySelector('#df-72c7edbd-4ac4-4906-8a48-d52f1a084b29 button.colab-df-convert');\n",
              "        buttonEl.style.display =\n",
              "          google.colab.kernel.accessAllowed ? 'block' : 'none';\n",
              "\n",
              "        async function convertToInteractive(key) {\n",
              "          const element = document.querySelector('#df-72c7edbd-4ac4-4906-8a48-d52f1a084b29');\n",
              "          const dataTable =\n",
              "            await google.colab.kernel.invokeFunction('convertToInteractive',\n",
              "                                                     [key], {});\n",
              "          if (!dataTable) return;\n",
              "\n",
              "          const docLinkHtml = 'Like what you see? Visit the ' +\n",
              "            '<a target=\"_blank\" href=https://colab.research.google.com/notebooks/data_table.ipynb>data table notebook</a>'\n",
              "            + ' to learn more about interactive tables.';\n",
              "          element.innerHTML = '';\n",
              "          dataTable['output_type'] = 'display_data';\n",
              "          await google.colab.output.renderOutput(dataTable, element);\n",
              "          const docLink = document.createElement('div');\n",
              "          docLink.innerHTML = docLinkHtml;\n",
              "          element.appendChild(docLink);\n",
              "        }\n",
              "      </script>\n",
              "    </div>\n",
              "  </div>\n",
              "  "
            ],
            "text/plain": [
              "       loss  accuracy  epoch\n",
              "0  0.550360  0.783744      1\n",
              "1  0.334187  0.861997      2\n",
              "2  0.292630  0.876040      3\n",
              "3  0.274007  0.880075      4\n",
              "4  0.263225  0.883669      5"
            ]
          },
          "execution_count": 54,
          "metadata": {},
          "output_type": "execute_result"
        }
      ],
      "source": [
        "history_cnn_lstm_df.head()"
      ]
    },
    {
      "cell_type": "code",
      "execution_count": 55,
      "metadata": {
        "colab": {
          "base_uri": "https://localhost:8080/"
        },
        "id": "HrE6ZySP4_oy",
        "outputId": "563a2e2d-f7c4-4d36-d55e-0777e716d082"
      },
      "outputs": [
        {
          "data": {
            "text/plain": [
              "0.9015414118766785"
            ]
          },
          "execution_count": 55,
          "metadata": {},
          "output_type": "execute_result"
        }
      ],
      "source": [
        "history_cnn_lstm_df[\"accuracy\"].max()"
      ]
    },
    {
      "cell_type": "code",
      "execution_count": null,
      "metadata": {
        "colab": {
          "base_uri": "https://localhost:8080/"
        },
        "id": "v1I4_H-yIs4v",
        "outputId": "dbdb3f5b-2985-4541-d1ac-5a4ba46dced1"
      },
      "outputs": [
        {
          "name": "stdout",
          "output_type": "stream",
          "text": [
            "CNN-LSTM (Keras) 3 LSTM layer accuracy: 0.8962600827217102\n"
          ]
        }
      ],
      "source": [
        "print(f\"CNN-LSTM (Keras) 3 LSTM layer accuracy: {accuracy}\")"
      ]
    },
    {
      "cell_type": "code",
      "execution_count": null,
      "metadata": {
        "id": "L-E8C8qYIs72"
      },
      "outputs": [],
      "source": []
    },
    {
      "cell_type": "markdown",
      "metadata": {
        "id": "fE4v4yipNxq7"
      },
      "source": [
        "Don't include this in conference"
      ]
    },
    {
      "cell_type": "code",
      "execution_count": null,
      "metadata": {
        "id": "9bfMyMeiv-3A"
      },
      "outputs": [],
      "source": [
        "# CNN only\n",
        "X_train, X_test, y_train, y_test = train_test_split(X_main, y_onehot, test_size=0.3, random_state=42)\n",
        "X_train = X_train.reshape(X_train.shape[0], 1, X_train.shape[1])\n",
        "X_test = X_test.reshape(X_test.shape[0], 1, X_test.shape[1])\n",
        "verbose, epochs, batch_size = 0, 10, 32\n",
        "n_timesteps, n_features, n_outputs = X_train.shape[1], X_train.shape[2], y_train.shape[1]\n",
        "# define model\n",
        "model = Sequential()\n",
        "model.add(Conv1D(filters=64, kernel_size=1, activation='relu', input_shape=(n_timesteps, n_features)))\n",
        "model.add(Conv1D(filters=64, kernel_size=1, activation='relu'))\n",
        "model.add(Dropout(0.5))\n",
        "model.add(MaxPooling1D(pool_size=1))\n",
        "model.add(Flatten())\n",
        "model.add(Dense(100, activation='relu'))\n",
        "model.add(Dense(n_outputs, activation='softmax'))\n",
        "model.compile(loss='categorical_crossentropy', optimizer='adam', metrics=['accuracy'])\n",
        "# fit network\n",
        "model.fit(X_train, y_train, epochs=epochs, batch_size=batch_size, verbose=verbose)\n",
        "# evaluate model\n",
        "_, accuracy = model.evaluate(X_test, y_test, batch_size=batch_size, verbose=0)"
      ]
    },
    {
      "cell_type": "code",
      "execution_count": null,
      "metadata": {
        "colab": {
          "base_uri": "https://localhost:8080/"
        },
        "id": "XOM692U3xs_n",
        "outputId": "da44b746-c67c-4ca8-9157-1241997b88ac"
      },
      "outputs": [
        {
          "name": "stdout",
          "output_type": "stream",
          "text": [
            "CNN-LSTM (Keras) accuracy: 0.8940168619155884\n"
          ]
        }
      ],
      "source": [
        "print(f\"CNN-LSTM (Keras) accuracy: {accuracy}\")"
      ]
    },
    {
      "cell_type": "markdown",
      "metadata": {
        "id": "BKjnawehN_u9"
      },
      "source": [
        "Don't include in conference"
      ]
    },
    {
      "cell_type": "code",
      "execution_count": null,
      "metadata": {
        "id": "7I6s-kRFpVDE"
      },
      "outputs": [],
      "source": [
        "# CNN + LSTM\n",
        "X_train, X_test, y_train, y_test = train_test_split(X_main, y_onehot, test_size=0.3, random_state=42)\n",
        "X_train = X_train.reshape(X_train.shape[0], 1, X_train.shape[1])\n",
        "X_test = X_test.reshape(X_test.shape[0], 1, X_test.shape[1])\n",
        "verbose, epochs, batch_size = 0, 25, 64\n",
        "n_timesteps, n_features, n_outputs = X_train.shape[1], X_train.shape[2], y_train.shape[1]\n",
        "# reshape data into time steps of sub-sequences\n",
        "n_steps, n_length = 1, 1\n",
        "X_train = X_train.reshape((X_train.shape[0], n_steps, n_length, n_features))\n",
        "X_test = X_test.reshape((X_test.shape[0], n_steps, n_length, n_features))\n",
        "# define model\n",
        "model = Sequential()\n",
        "model.add(TimeDistributed(Conv1D(filters=64, kernel_size=1, activation='relu'), input_shape=(None, n_length, n_features)))\n",
        "model.add(TimeDistributed(Conv1D(filters=64, kernel_size=1, activation='relu')))\n",
        "model.add(TimeDistributed(Dropout(0.5)))\n",
        "model.add(TimeDistributed(MaxPooling1D(pool_size=1)))\n",
        "model.add(TimeDistributed(Flatten()))\n",
        "model.add(LSTM(100))\n",
        "model.add(Dropout(0.5))\n",
        "model.add(Dense(100, activation='relu'))\n",
        "model.add(Dense(n_outputs, activation='softmax'))\n",
        "model.compile(loss='categorical_crossentropy', optimizer='adam', metrics=['accuracy'])\n",
        "# fit network\n",
        "model.fit(X_train, y_train, epochs=epochs, batch_size=batch_size, verbose=verbose)\n",
        "# evaluate model\n",
        "_, accuracy = model.evaluate(X_test, y_test, batch_size=batch_size, verbose=0)"
      ]
    },
    {
      "cell_type": "code",
      "execution_count": null,
      "metadata": {
        "colab": {
          "base_uri": "https://localhost:8080/"
        },
        "id": "Oke8Igt9pVNF",
        "outputId": "d7bd7e15-900d-4bde-fb52-f8e1692be9fb"
      },
      "outputs": [
        {
          "name": "stdout",
          "output_type": "stream",
          "text": [
            "CNN-LSTM Time distributed (Keras) accuracy: 0.8957819938659668\n"
          ]
        }
      ],
      "source": [
        "print(f\"CNN-LSTM Time distributed (Keras) accuracy: {accuracy}\")"
      ]
    },
    {
      "cell_type": "markdown",
      "metadata": {
        "id": "OqdA2GP0OECK"
      },
      "source": [
        "Don't include in conference"
      ]
    },
    {
      "cell_type": "code",
      "execution_count": null,
      "metadata": {
        "id": "yC58M6GBTAr9"
      },
      "outputs": [],
      "source": [
        "# CNN + LSTM\n",
        "X_train, X_test, y_train, y_test = train_test_split(X_main, y_onehot, test_size=0.3, random_state=42)\n",
        "X_train = X_train.reshape(X_train.shape[0], 1, X_train.shape[1])\n",
        "X_test = X_test.reshape(X_test.shape[0], 1, X_test.shape[1])\n",
        "verbose, epochs, batch_size = 0, 25, 128\n",
        "n_timesteps, n_features, n_outputs = X_train.shape[1], X_train.shape[2], y_train.shape[1]\n",
        "# reshape data into time steps of sub-sequences\n",
        "n_steps, n_length = 1, 1\n",
        "X_train = X_train.reshape((X_train.shape[0], n_steps, n_length, n_features))\n",
        "X_test = X_test.reshape((X_test.shape[0], n_steps, n_length, n_features))\n",
        "# define model\n",
        "model = Sequential()\n",
        "model.add(TimeDistributed(Conv1D(filters=64, kernel_size=1, activation='relu'), input_shape=(None, n_length, n_features)))\n",
        "model.add(TimeDistributed(Conv1D(filters=64, kernel_size=1, activation='relu')))\n",
        "model.add(TimeDistributed(Dropout(0.5)))\n",
        "model.add(TimeDistributed(MaxPooling1D(pool_size=1)))\n",
        "model.add(TimeDistributed(Flatten()))\n",
        "model.add(LSTM(100))\n",
        "model.add(Dropout(0.5))\n",
        "model.add(Dense(100, activation='relu'))\n",
        "model.add(Dense(n_outputs, activation='softmax'))\n",
        "model.compile(loss='categorical_crossentropy', optimizer='adam', metrics=['accuracy'])\n",
        "# fit network\n",
        "model.fit(X_train, y_train, epochs=epochs, batch_size=batch_size, verbose=verbose)\n",
        "# evaluate model\n",
        "_, accuracy = model.evaluate(X_test, y_test, batch_size=batch_size, verbose=0)"
      ]
    },
    {
      "cell_type": "code",
      "execution_count": null,
      "metadata": {
        "colab": {
          "base_uri": "https://localhost:8080/"
        },
        "id": "Rbu7QCvTTG_S",
        "outputId": "165667ff-2e4a-40b7-8d80-3c442bfb0b4a"
      },
      "outputs": [
        {
          "name": "stdout",
          "output_type": "stream",
          "text": [
            "CNN-LSTM Time distributed (Keras), batch size 128, accuracy: 0.896149754524231\n"
          ]
        }
      ],
      "source": [
        "print(f\"CNN-LSTM Time distributed (Keras), batch size 128, accuracy: {accuracy}\")"
      ]
    },
    {
      "cell_type": "markdown",
      "metadata": {
        "id": "rWNFrmo0OKDm"
      },
      "source": [
        "Don't include in conference"
      ]
    },
    {
      "cell_type": "code",
      "execution_count": null,
      "metadata": {
        "id": "wRt4aV5gTHEe"
      },
      "outputs": [],
      "source": [
        "# CNN + LSTM\n",
        "X_train, X_test, y_train, y_test = train_test_split(X_main, y_onehot, test_size=0.3, random_state=42)\n",
        "X_train = X_train.reshape(X_train.shape[0], 1, X_train.shape[1])\n",
        "X_test = X_test.reshape(X_test.shape[0], 1, X_test.shape[1])\n",
        "verbose, epochs, batch_size = 0, 25, 32\n",
        "n_timesteps, n_features, n_outputs = X_train.shape[1], X_train.shape[2], y_train.shape[1]\n",
        "# reshape data into time steps of sub-sequences\n",
        "n_steps, n_length = 1, 1\n",
        "X_train = X_train.reshape((X_train.shape[0], n_steps, n_length, n_features))\n",
        "X_test = X_test.reshape((X_test.shape[0], n_steps, n_length, n_features))\n",
        "# define model\n",
        "model = Sequential()\n",
        "model.add(TimeDistributed(Conv1D(filters=64, kernel_size=1, activation='relu'), input_shape=(None, n_length, n_features)))\n",
        "model.add(TimeDistributed(Conv1D(filters=64, kernel_size=1, activation='relu')))\n",
        "model.add(TimeDistributed(Dropout(0.5)))\n",
        "model.add(TimeDistributed(MaxPooling1D(pool_size=1)))\n",
        "model.add(TimeDistributed(Flatten()))\n",
        "model.add(LSTM(100))\n",
        "model.add(Dropout(0.5))\n",
        "model.add(Dense(100, activation='relu'))\n",
        "model.add(Dense(n_outputs, activation='softmax'))\n",
        "model.compile(loss='categorical_crossentropy', optimizer='adam', metrics=['accuracy'])\n",
        "# fit network\n",
        "model.fit(X_train, y_train, epochs=epochs, batch_size=batch_size, verbose=verbose)\n",
        "# evaluate model\n",
        "_, accuracy = model.evaluate(X_test, y_test, batch_size=batch_size, verbose=0)"
      ]
    },
    {
      "cell_type": "code",
      "execution_count": null,
      "metadata": {
        "colab": {
          "base_uri": "https://localhost:8080/"
        },
        "id": "ik_MowYwTA5C",
        "outputId": "fdd9dd19-fa47-4f35-cf81-3116fef96d0c"
      },
      "outputs": [
        {
          "name": "stdout",
          "output_type": "stream",
          "text": [
            "CNN-LSTM Time distributed (Keras), batch size 32, accuracy: 0.8896039128303528\n"
          ]
        }
      ],
      "source": [
        "print(f\"CNN-LSTM Time distributed (Keras), batch size 32, accuracy: {accuracy}\")"
      ]
    },
    {
      "cell_type": "code",
      "execution_count": null,
      "metadata": {
        "id": "rAGNSvqVUTSq"
      },
      "outputs": [],
      "source": []
    },
    {
      "cell_type": "markdown",
      "metadata": {
        "id": "Dvj9gzVxlUub"
      },
      "source": [
        "# Conv-LSTM model"
      ]
    },
    {
      "cell_type": "markdown",
      "metadata": {
        "id": "Vg8g0DZkOREh"
      },
      "source": [
        "Don't include in conference"
      ]
    },
    {
      "cell_type": "code",
      "execution_count": null,
      "metadata": {
        "id": "ECW0cm_GlT0q"
      },
      "outputs": [],
      "source": [
        "# Convolutional LSTM\n",
        "X_train, X_test, y_train, y_test = train_test_split(X_main, y_onehot, test_size=0.3, random_state=42)\n",
        "X_train = X_train.reshape(X_train.shape[0], 1, X_train.shape[1])\n",
        "X_test = X_test.reshape(X_test.shape[0], 1, X_test.shape[1])\n",
        "verbose, epochs, batch_size = 0, 25, 64\n",
        "n_timesteps, n_features, n_outputs = X_train.shape[1], X_train.shape[2], y_train.shape[1]\n",
        "# reshape into subsequences (samples, time steps, rows, cols, channels)\n",
        "n_steps, n_length = 1, 1\n",
        "X_train = X_train.reshape((X_train.shape[0], n_steps, 1, n_length, n_features))\n",
        "X_test = X_test.reshape((X_test.shape[0], n_steps, 1, n_length, n_features))\n",
        "# define model\n",
        "model = Sequential()\n",
        "model.add(ConvLSTM2D(filters=64, kernel_size=(1,1), activation='relu', input_shape=(n_steps, 1, n_length, n_features)))\n",
        "model.add(Dropout(0.5))\n",
        "model.add(Flatten())\n",
        "model.add(Dense(100, activation='relu'))\n",
        "model.add(Dense(n_outputs, activation='softmax'))\n",
        "model.compile(loss='categorical_crossentropy', optimizer='adam', metrics=['accuracy'])\n",
        "# fit network\n",
        "model.fit(X_train, y_train, epochs=epochs, batch_size=batch_size, verbose=verbose)\n",
        "# evaluate model\n",
        "_, accuracy = model.evaluate(X_test, y_test, batch_size=batch_size, verbose=0)"
      ]
    },
    {
      "cell_type": "code",
      "execution_count": null,
      "metadata": {
        "colab": {
          "base_uri": "https://localhost:8080/"
        },
        "id": "Kzi3r_KAR1gL",
        "outputId": "ebfdc5e5-0a53-4ff7-caea-1581adff245b"
      },
      "outputs": [
        {
          "name": "stdout",
          "output_type": "stream",
          "text": [
            "Conv-LSTM (Keras) accuracy: 0.8890891075134277\n"
          ]
        }
      ],
      "source": [
        "print(f\"Conv-LSTM (Keras) accuracy: {accuracy}\")"
      ]
    },
    {
      "cell_type": "code",
      "execution_count": null,
      "metadata": {
        "id": "lJGCPEe5JS-S"
      },
      "outputs": [],
      "source": []
    },
    {
      "cell_type": "markdown",
      "metadata": {
        "id": "DV5R5H45OO85"
      },
      "source": [
        "Include in conference"
      ]
    },
    {
      "cell_type": "code",
      "execution_count": 56,
      "metadata": {
        "id": "qvz1lVZLJTA6"
      },
      "outputs": [],
      "source": [
        "# Convolutional LSTM 3 layers\n",
        "X_train, X_test, y_train, y_test = train_test_split(X_main, y_onehot, test_size=0.3, random_state=42)\n",
        "X_train = X_train.reshape(X_train.shape[0], 1, X_train.shape[1])\n",
        "X_test = X_test.reshape(X_test.shape[0], 1, X_test.shape[1])\n",
        "verbose, epochs, batch_size = 0, 80, 64\n",
        "n_timesteps, n_features, n_outputs = X_train.shape[1], X_train.shape[2], y_train.shape[1]\n",
        "# reshape into subsequences (samples, time steps, rows, cols, channels)\n",
        "n_steps, n_length = 1, 1\n",
        "X_train = X_train.reshape((X_train.shape[0], n_steps, 1, n_length, n_features))\n",
        "X_test = X_test.reshape((X_test.shape[0], n_steps, 1, n_length, n_features))\n",
        "# define model\n",
        "model = Sequential()\n",
        "model.add(ConvLSTM2D(filters=128, kernel_size=(1,1), activation='relu', return_sequences=True, input_shape=(n_steps, 1, n_length, n_features)))\n",
        "model.add(Dropout(0.4))\n",
        "model.add(ConvLSTM2D(filters=64, kernel_size=(1,1), activation='relu', return_sequences=True))\n",
        "model.add(Dropout(0.4))\n",
        "model.add(ConvLSTM2D(filters=128, kernel_size=(1,1), activation='relu', return_sequences=False))\n",
        "model.add(Dropout(0.5))\n",
        "model.add(Flatten())\n",
        "model.add(Dense(100, activation='relu'))\n",
        "model.add(Dense(n_outputs, activation='softmax'))\n",
        "model.compile(loss='categorical_crossentropy', optimizer='adam', metrics=['accuracy'])\n",
        "# fit network\n",
        "history_convlstm = model.fit(X_train, y_train, epochs=epochs, batch_size=batch_size, verbose=verbose)\n",
        "# evaluate model\n",
        "_, accuracy = model.evaluate(X_test, y_test, batch_size=batch_size, verbose=0)"
      ]
    },
    {
      "cell_type": "code",
      "execution_count": 57,
      "metadata": {
        "colab": {
          "base_uri": "https://localhost:8080/"
        },
        "id": "psMhJAJ_xCNa",
        "outputId": "53a48cca-6c1e-4e23-81bd-066fa9657bc4"
      },
      "outputs": [
        {
          "name": "stdout",
          "output_type": "stream",
          "text": [
            "Saved\n"
          ]
        }
      ],
      "source": [
        "# save the history of conv lstm model\n",
        "history_convlstm_df = pd.DataFrame.from_dict(history_convlstm.history)\n",
        "epoch_list = [i for i in range(1,81)]\n",
        "history_convlstm_df[\"epoch\"] = epoch_list\n",
        "history_convlstm_df.to_csv(\"../results/intent_hist_convlstm.csv\")\n",
        "print(\"Saved\")"
      ]
    },
    {
      "cell_type": "code",
      "execution_count": 58,
      "metadata": {
        "colab": {
          "base_uri": "https://localhost:8080/"
        },
        "id": "EbT1mE0k7rV9",
        "outputId": "3c29ce24-19d2-4aeb-837c-700558ffa4db"
      },
      "outputs": [
        {
          "data": {
            "text/plain": [
              "0.8965294361114502"
            ]
          },
          "execution_count": 58,
          "metadata": {},
          "output_type": "execute_result"
        }
      ],
      "source": [
        "history_convlstm_df[\"accuracy\"].max()"
      ]
    },
    {
      "cell_type": "code",
      "execution_count": null,
      "metadata": {
        "colab": {
          "base_uri": "https://localhost:8080/"
        },
        "id": "sUAMNcRzJT5f",
        "outputId": "b84703ef-b9b8-4c15-96de-b23cbcbacc27"
      },
      "outputs": [
        {
          "name": "stdout",
          "output_type": "stream",
          "text": [
            "Conv-LSTM (Keras) accuracy: 0.8907071948051453\n"
          ]
        }
      ],
      "source": [
        "print(f\"Conv-LSTM (Keras) accuracy: {accuracy}\")"
      ]
    },
    {
      "cell_type": "code",
      "execution_count": null,
      "metadata": {
        "id": "ugXZYvxtMcvD"
      },
      "outputs": [],
      "source": []
    },
    {
      "cell_type": "markdown",
      "metadata": {
        "id": "DIcuduJ3XPoL"
      },
      "source": [
        "# Resnet-LSTM Model"
      ]
    },
    {
      "cell_type": "markdown",
      "metadata": {
        "id": "ZeXOcyy1OUEt"
      },
      "source": [
        "Include in conference. Main part to show."
      ]
    },
    {
      "cell_type": "code",
      "execution_count": 35,
      "metadata": {
        "id": "AW0-njNCanda"
      },
      "outputs": [],
      "source": [
        "from keras.layers.convolutional.conv2d_transpose import Conv2D\n",
        "class ResidualNetwork(Layer):\n",
        "    def __init__(self, in_channels, kernel, **kwargs):\n",
        "        super(ResidualNetwork, self).__init__(**kwargs)\n",
        "        self.in_channels = in_channels\n",
        "        self.kernel = kernel\n",
        "        self.conv2d = Conv2D(self.in_channels, self.kernel, padding=\"same\")\n",
        "        self.relu = Activation(\"relu\")\n",
        "        self.fl = Activation(\"linear\", trainable=False)\n",
        "\n",
        "    def call(self, x):\n",
        "        fl = self.fl(x)\n",
        "        y = self.conv2d(fl)\n",
        "        y = self.relu(y)\n",
        "        y = self.conv2d(y)\n",
        "        residue = Add()([y, fl])\n",
        "        y = self.relu(residue)\n",
        "        return y\n",
        "    \n",
        "    def compute_output_shape(self, input_shape):\n",
        "        return input_shape"
      ]
    },
    {
      "cell_type": "code",
      "execution_count": 36,
      "metadata": {
        "id": "JesNj2WXXPMk"
      },
      "outputs": [],
      "source": [
        "X_train, X_test, y_train, y_test = train_test_split(X_main, y_onehot, test_size=0.3, random_state=42)\n",
        "X_train = X_train.reshape(X_train.shape[0], 1, X_train.shape[1])\n",
        "X_test = X_test.reshape(X_test.shape[0], 1, X_test.shape[1])\n",
        "verbose, epochs, batch_size = 0, 80, 128\n",
        "n_timesteps, n_features, n_outputs = X_train.shape[1], X_train.shape[2], y_train.shape[1]\n",
        "# reshape data into time steps of sub-sequences\n",
        "n_steps, n_length = 1, 1\n",
        "X_train = X_train.reshape((X_train.shape[0], n_steps, 1, n_length, n_features))\n",
        "X_test = X_test.reshape((X_test.shape[0], n_steps, 1, n_length, n_features))\n",
        "# define model\n",
        "model = Sequential()\n",
        "model.add(TimeDistributed(Conv2D(filters=128, kernel_size=(1,1), activation='relu', padding=\"same\", input_shape=(n_steps, 1, n_length, n_features))))\n",
        "model.add(TimeDistributed(ResidualNetwork(128, (1,1))))\n",
        "# model.add(TimeDistributed(Conv2D(filters=128, kernel_size=(1,1), activation='relu', padding=\"same\")))\n",
        "model.add(TimeDistributed(ResidualNetwork(128, (1,1))))\n",
        "# model.add(TimeDistributed(Conv2D(filters=128, kernel_size=(1,1), activation='relu', padding=\"same\")))\n",
        "model.add(TimeDistributed(ResidualNetwork(128, (1,1))))\n",
        "model.add(TimeDistributed(Dropout(0.5)))\n",
        "model.add(TimeDistributed(Flatten()))\n",
        "# model.add(Reshape((1,64)))\n",
        "model.add(LSTM(100, return_sequences=True))\n",
        "model.add(Dropout(0.4))\n",
        "model.add(LSTM(100, return_sequences=True))\n",
        "model.add(Dropout(0.4))\n",
        "model.add(LSTM(100, return_sequences=False))\n",
        "model.add(Dropout(0.5))\n",
        "model.add(Dense(100, activation='relu'))\n",
        "model.add(Dense(n_outputs, activation='softmax'))\n",
        "\n",
        "opt = Adam(epsilon=1e-7)\n",
        "model.compile(loss='categorical_crossentropy', optimizer=opt, metrics=['accuracy'])\n",
        "# fit network\n",
        "X_train = X_train.astype(\"float\")\n",
        "history_resnet_lstm = model.fit(X_train, y_train, epochs=epochs, batch_size=batch_size, verbose=verbose)\n",
        "# evaluate model\n",
        "_, accuracy = model.evaluate(X_test, y_test, batch_size=batch_size, verbose=0)"
      ]
    },
    {
      "cell_type": "code",
      "execution_count": 37,
      "metadata": {
        "colab": {
          "base_uri": "https://localhost:8080/"
        },
        "id": "IhT-x12UxK23",
        "outputId": "ef7850c2-7460-4c71-d289-0ae6a87a1b74"
      },
      "outputs": [
        {
          "name": "stdout",
          "output_type": "stream",
          "text": [
            "Saved\n"
          ]
        }
      ],
      "source": [
        "# save the history of resnet lstm model\n",
        "history_resnet_lstm_df = pd.DataFrame.from_dict(history_resnet_lstm.history)\n",
        "epoch_list = [i for i in range(1,81)]\n",
        "history_resnet_lstm_df[\"epoch\"] = epoch_list\n",
        "history_resnet_lstm_df.to_csv(\"../results/intent_hist_resnet_lstm.csv\")\n",
        "print(\"Saved\")"
      ]
    },
    {
      "cell_type": "code",
      "execution_count": 38,
      "metadata": {
        "colab": {
          "base_uri": "https://localhost:8080/",
          "height": 206
        },
        "id": "uXMt8Wy75I4p",
        "outputId": "a7f58aae-5c33-49a0-ec7d-47432fef687f"
      },
      "outputs": [
        {
          "data": {
            "text/html": [
              "\n",
              "  <div id=\"df-1cc55ea5-de0d-4aca-977a-5636c99949e7\">\n",
              "    <div class=\"colab-df-container\">\n",
              "      <div>\n",
              "<style scoped>\n",
              "    .dataframe tbody tr th:only-of-type {\n",
              "        vertical-align: middle;\n",
              "    }\n",
              "\n",
              "    .dataframe tbody tr th {\n",
              "        vertical-align: top;\n",
              "    }\n",
              "\n",
              "    .dataframe thead th {\n",
              "        text-align: right;\n",
              "    }\n",
              "</style>\n",
              "<table border=\"1\" class=\"dataframe\">\n",
              "  <thead>\n",
              "    <tr style=\"text-align: right;\">\n",
              "      <th></th>\n",
              "      <th>loss</th>\n",
              "      <th>accuracy</th>\n",
              "      <th>epoch</th>\n",
              "    </tr>\n",
              "  </thead>\n",
              "  <tbody>\n",
              "    <tr>\n",
              "      <th>0</th>\n",
              "      <td>1.031377</td>\n",
              "      <td>0.574108</td>\n",
              "      <td>1</td>\n",
              "    </tr>\n",
              "    <tr>\n",
              "      <th>1</th>\n",
              "      <td>0.893543</td>\n",
              "      <td>0.611871</td>\n",
              "      <td>2</td>\n",
              "    </tr>\n",
              "    <tr>\n",
              "      <th>2</th>\n",
              "      <td>0.443949</td>\n",
              "      <td>0.828679</td>\n",
              "      <td>3</td>\n",
              "    </tr>\n",
              "    <tr>\n",
              "      <th>3</th>\n",
              "      <td>0.341180</td>\n",
              "      <td>0.857553</td>\n",
              "      <td>4</td>\n",
              "    </tr>\n",
              "    <tr>\n",
              "      <th>4</th>\n",
              "      <td>0.304375</td>\n",
              "      <td>0.869862</td>\n",
              "      <td>5</td>\n",
              "    </tr>\n",
              "  </tbody>\n",
              "</table>\n",
              "</div>\n",
              "      <button class=\"colab-df-convert\" onclick=\"convertToInteractive('df-1cc55ea5-de0d-4aca-977a-5636c99949e7')\"\n",
              "              title=\"Convert this dataframe to an interactive table.\"\n",
              "              style=\"display:none;\">\n",
              "        \n",
              "  <svg xmlns=\"http://www.w3.org/2000/svg\" height=\"24px\"viewBox=\"0 0 24 24\"\n",
              "       width=\"24px\">\n",
              "    <path d=\"M0 0h24v24H0V0z\" fill=\"none\"/>\n",
              "    <path d=\"M18.56 5.44l.94 2.06.94-2.06 2.06-.94-2.06-.94-.94-2.06-.94 2.06-2.06.94zm-11 1L8.5 8.5l.94-2.06 2.06-.94-2.06-.94L8.5 2.5l-.94 2.06-2.06.94zm10 10l.94 2.06.94-2.06 2.06-.94-2.06-.94-.94-2.06-.94 2.06-2.06.94z\"/><path d=\"M17.41 7.96l-1.37-1.37c-.4-.4-.92-.59-1.43-.59-.52 0-1.04.2-1.43.59L10.3 9.45l-7.72 7.72c-.78.78-.78 2.05 0 2.83L4 21.41c.39.39.9.59 1.41.59.51 0 1.02-.2 1.41-.59l7.78-7.78 2.81-2.81c.8-.78.8-2.07 0-2.86zM5.41 20L4 18.59l7.72-7.72 1.47 1.35L5.41 20z\"/>\n",
              "  </svg>\n",
              "      </button>\n",
              "      \n",
              "  <style>\n",
              "    .colab-df-container {\n",
              "      display:flex;\n",
              "      flex-wrap:wrap;\n",
              "      gap: 12px;\n",
              "    }\n",
              "\n",
              "    .colab-df-convert {\n",
              "      background-color: #E8F0FE;\n",
              "      border: none;\n",
              "      border-radius: 50%;\n",
              "      cursor: pointer;\n",
              "      display: none;\n",
              "      fill: #1967D2;\n",
              "      height: 32px;\n",
              "      padding: 0 0 0 0;\n",
              "      width: 32px;\n",
              "    }\n",
              "\n",
              "    .colab-df-convert:hover {\n",
              "      background-color: #E2EBFA;\n",
              "      box-shadow: 0px 1px 2px rgba(60, 64, 67, 0.3), 0px 1px 3px 1px rgba(60, 64, 67, 0.15);\n",
              "      fill: #174EA6;\n",
              "    }\n",
              "\n",
              "    [theme=dark] .colab-df-convert {\n",
              "      background-color: #3B4455;\n",
              "      fill: #D2E3FC;\n",
              "    }\n",
              "\n",
              "    [theme=dark] .colab-df-convert:hover {\n",
              "      background-color: #434B5C;\n",
              "      box-shadow: 0px 1px 3px 1px rgba(0, 0, 0, 0.15);\n",
              "      filter: drop-shadow(0px 1px 2px rgba(0, 0, 0, 0.3));\n",
              "      fill: #FFFFFF;\n",
              "    }\n",
              "  </style>\n",
              "\n",
              "      <script>\n",
              "        const buttonEl =\n",
              "          document.querySelector('#df-1cc55ea5-de0d-4aca-977a-5636c99949e7 button.colab-df-convert');\n",
              "        buttonEl.style.display =\n",
              "          google.colab.kernel.accessAllowed ? 'block' : 'none';\n",
              "\n",
              "        async function convertToInteractive(key) {\n",
              "          const element = document.querySelector('#df-1cc55ea5-de0d-4aca-977a-5636c99949e7');\n",
              "          const dataTable =\n",
              "            await google.colab.kernel.invokeFunction('convertToInteractive',\n",
              "                                                     [key], {});\n",
              "          if (!dataTable) return;\n",
              "\n",
              "          const docLinkHtml = 'Like what you see? Visit the ' +\n",
              "            '<a target=\"_blank\" href=https://colab.research.google.com/notebooks/data_table.ipynb>data table notebook</a>'\n",
              "            + ' to learn more about interactive tables.';\n",
              "          element.innerHTML = '';\n",
              "          dataTable['output_type'] = 'display_data';\n",
              "          await google.colab.output.renderOutput(dataTable, element);\n",
              "          const docLink = document.createElement('div');\n",
              "          docLink.innerHTML = docLinkHtml;\n",
              "          element.appendChild(docLink);\n",
              "        }\n",
              "      </script>\n",
              "    </div>\n",
              "  </div>\n",
              "  "
            ],
            "text/plain": [
              "       loss  accuracy  epoch\n",
              "0  1.031377  0.574108      1\n",
              "1  0.893543  0.611871      2\n",
              "2  0.443949  0.828679      3\n",
              "3  0.341180  0.857553      4\n",
              "4  0.304375  0.869862      5"
            ]
          },
          "execution_count": 38,
          "metadata": {},
          "output_type": "execute_result"
        }
      ],
      "source": [
        "history_resnet_lstm_df.head()"
      ]
    },
    {
      "cell_type": "code",
      "execution_count": 39,
      "metadata": {
        "colab": {
          "base_uri": "https://localhost:8080/"
        },
        "id": "5bKyHqem5I_C",
        "outputId": "6b1ec9e7-b507-434c-d3e5-69a26c2577e0"
      },
      "outputs": [
        {
          "data": {
            "text/plain": [
              "0.9012262225151062"
            ]
          },
          "execution_count": 39,
          "metadata": {},
          "output_type": "execute_result"
        }
      ],
      "source": [
        "history_resnet_lstm_df[\"accuracy\"].max()"
      ]
    },
    {
      "cell_type": "code",
      "execution_count": 40,
      "metadata": {
        "colab": {
          "base_uri": "https://localhost:8080/"
        },
        "id": "kwLX2xWS5xXf",
        "outputId": "cffd5c07-19f3-4d8d-8635-f72284430060"
      },
      "outputs": [
        {
          "data": {
            "text/plain": [
              "76"
            ]
          },
          "execution_count": 40,
          "metadata": {},
          "output_type": "execute_result"
        }
      ],
      "source": [
        "history_resnet_lstm_df[\"accuracy\"].idxmax()"
      ]
    },
    {
      "cell_type": "code",
      "execution_count": 41,
      "metadata": {
        "colab": {
          "base_uri": "https://localhost:8080/",
          "height": 175
        },
        "id": "s50PHVLY50j4",
        "outputId": "f1d2cc71-8ad4-4d9c-e254-74673ab239e1"
      },
      "outputs": [
        {
          "data": {
            "text/html": [
              "\n",
              "  <div id=\"df-8932638b-902c-49f7-a6ec-d4227eaae639\">\n",
              "    <div class=\"colab-df-container\">\n",
              "      <div>\n",
              "<style scoped>\n",
              "    .dataframe tbody tr th:only-of-type {\n",
              "        vertical-align: middle;\n",
              "    }\n",
              "\n",
              "    .dataframe tbody tr th {\n",
              "        vertical-align: top;\n",
              "    }\n",
              "\n",
              "    .dataframe thead th {\n",
              "        text-align: right;\n",
              "    }\n",
              "</style>\n",
              "<table border=\"1\" class=\"dataframe\">\n",
              "  <thead>\n",
              "    <tr style=\"text-align: right;\">\n",
              "      <th></th>\n",
              "      <th>loss</th>\n",
              "      <th>accuracy</th>\n",
              "      <th>epoch</th>\n",
              "    </tr>\n",
              "  </thead>\n",
              "  <tbody>\n",
              "    <tr>\n",
              "      <th>76</th>\n",
              "      <td>0.205686</td>\n",
              "      <td>0.901226</td>\n",
              "      <td>77</td>\n",
              "    </tr>\n",
              "    <tr>\n",
              "      <th>77</th>\n",
              "      <td>0.203972</td>\n",
              "      <td>0.900990</td>\n",
              "      <td>78</td>\n",
              "    </tr>\n",
              "    <tr>\n",
              "      <th>78</th>\n",
              "      <td>0.205821</td>\n",
              "      <td>0.900943</td>\n",
              "      <td>79</td>\n",
              "    </tr>\n",
              "    <tr>\n",
              "      <th>79</th>\n",
              "      <td>0.203132</td>\n",
              "      <td>0.899745</td>\n",
              "      <td>80</td>\n",
              "    </tr>\n",
              "  </tbody>\n",
              "</table>\n",
              "</div>\n",
              "      <button class=\"colab-df-convert\" onclick=\"convertToInteractive('df-8932638b-902c-49f7-a6ec-d4227eaae639')\"\n",
              "              title=\"Convert this dataframe to an interactive table.\"\n",
              "              style=\"display:none;\">\n",
              "        \n",
              "  <svg xmlns=\"http://www.w3.org/2000/svg\" height=\"24px\"viewBox=\"0 0 24 24\"\n",
              "       width=\"24px\">\n",
              "    <path d=\"M0 0h24v24H0V0z\" fill=\"none\"/>\n",
              "    <path d=\"M18.56 5.44l.94 2.06.94-2.06 2.06-.94-2.06-.94-.94-2.06-.94 2.06-2.06.94zm-11 1L8.5 8.5l.94-2.06 2.06-.94-2.06-.94L8.5 2.5l-.94 2.06-2.06.94zm10 10l.94 2.06.94-2.06 2.06-.94-2.06-.94-.94-2.06-.94 2.06-2.06.94z\"/><path d=\"M17.41 7.96l-1.37-1.37c-.4-.4-.92-.59-1.43-.59-.52 0-1.04.2-1.43.59L10.3 9.45l-7.72 7.72c-.78.78-.78 2.05 0 2.83L4 21.41c.39.39.9.59 1.41.59.51 0 1.02-.2 1.41-.59l7.78-7.78 2.81-2.81c.8-.78.8-2.07 0-2.86zM5.41 20L4 18.59l7.72-7.72 1.47 1.35L5.41 20z\"/>\n",
              "  </svg>\n",
              "      </button>\n",
              "      \n",
              "  <style>\n",
              "    .colab-df-container {\n",
              "      display:flex;\n",
              "      flex-wrap:wrap;\n",
              "      gap: 12px;\n",
              "    }\n",
              "\n",
              "    .colab-df-convert {\n",
              "      background-color: #E8F0FE;\n",
              "      border: none;\n",
              "      border-radius: 50%;\n",
              "      cursor: pointer;\n",
              "      display: none;\n",
              "      fill: #1967D2;\n",
              "      height: 32px;\n",
              "      padding: 0 0 0 0;\n",
              "      width: 32px;\n",
              "    }\n",
              "\n",
              "    .colab-df-convert:hover {\n",
              "      background-color: #E2EBFA;\n",
              "      box-shadow: 0px 1px 2px rgba(60, 64, 67, 0.3), 0px 1px 3px 1px rgba(60, 64, 67, 0.15);\n",
              "      fill: #174EA6;\n",
              "    }\n",
              "\n",
              "    [theme=dark] .colab-df-convert {\n",
              "      background-color: #3B4455;\n",
              "      fill: #D2E3FC;\n",
              "    }\n",
              "\n",
              "    [theme=dark] .colab-df-convert:hover {\n",
              "      background-color: #434B5C;\n",
              "      box-shadow: 0px 1px 3px 1px rgba(0, 0, 0, 0.15);\n",
              "      filter: drop-shadow(0px 1px 2px rgba(0, 0, 0, 0.3));\n",
              "      fill: #FFFFFF;\n",
              "    }\n",
              "  </style>\n",
              "\n",
              "      <script>\n",
              "        const buttonEl =\n",
              "          document.querySelector('#df-8932638b-902c-49f7-a6ec-d4227eaae639 button.colab-df-convert');\n",
              "        buttonEl.style.display =\n",
              "          google.colab.kernel.accessAllowed ? 'block' : 'none';\n",
              "\n",
              "        async function convertToInteractive(key) {\n",
              "          const element = document.querySelector('#df-8932638b-902c-49f7-a6ec-d4227eaae639');\n",
              "          const dataTable =\n",
              "            await google.colab.kernel.invokeFunction('convertToInteractive',\n",
              "                                                     [key], {});\n",
              "          if (!dataTable) return;\n",
              "\n",
              "          const docLinkHtml = 'Like what you see? Visit the ' +\n",
              "            '<a target=\"_blank\" href=https://colab.research.google.com/notebooks/data_table.ipynb>data table notebook</a>'\n",
              "            + ' to learn more about interactive tables.';\n",
              "          element.innerHTML = '';\n",
              "          dataTable['output_type'] = 'display_data';\n",
              "          await google.colab.output.renderOutput(dataTable, element);\n",
              "          const docLink = document.createElement('div');\n",
              "          docLink.innerHTML = docLinkHtml;\n",
              "          element.appendChild(docLink);\n",
              "        }\n",
              "      </script>\n",
              "    </div>\n",
              "  </div>\n",
              "  "
            ],
            "text/plain": [
              "        loss  accuracy  epoch\n",
              "76  0.205686  0.901226     77\n",
              "77  0.203972  0.900990     78\n",
              "78  0.205821  0.900943     79\n",
              "79  0.203132  0.899745     80"
            ]
          },
          "execution_count": 41,
          "metadata": {},
          "output_type": "execute_result"
        }
      ],
      "source": [
        "history_resnet_lstm_df.iloc[76:]"
      ]
    },
    {
      "cell_type": "code",
      "execution_count": null,
      "metadata": {
        "colab": {
          "base_uri": "https://localhost:8080/"
        },
        "id": "EhCq4ZdrTejJ",
        "outputId": "105e2030-981c-4aa4-c244-5185b6b793c0"
      },
      "outputs": [
        {
          "name": "stdout",
          "output_type": "stream",
          "text": [
            "Resnet-LSTM (Keras time distributed epsilon 1e-7) LSTM 3 layers accuracy test: 0.8977310061454773\n"
          ]
        }
      ],
      "source": [
        "print(f\"Resnet-LSTM (Keras time distributed epsilon 1e-7) LSTM 3 layers accuracy test: {accuracy}\")"
      ]
    },
    {
      "cell_type": "code",
      "execution_count": null,
      "metadata": {
        "id": "OHevLMkETe09"
      },
      "outputs": [],
      "source": []
    },
    {
      "cell_type": "code",
      "execution_count": null,
      "metadata": {
        "colab": {
          "base_uri": "https://localhost:8080/"
        },
        "id": "3izGQf_5PLTs",
        "outputId": "2b2f2a98-7dcb-4ef4-daf5-e400fd873e82"
      },
      "outputs": [
        {
          "name": "stdout",
          "output_type": "stream",
          "text": [
            "Resnet-LSTM (Keras time distributed epsilon 1e-7) LSTM 3 layers accuracy: 0.8977310061454773\n"
          ]
        }
      ],
      "source": [
        "print(f\"Resnet-LSTM (Keras time distributed epsilon 1e-7) LSTM 3 layers accuracy: {accuracy}\")"
      ]
    },
    {
      "cell_type": "code",
      "execution_count": null,
      "metadata": {
        "id": "iWqdimaYPLXH"
      },
      "outputs": [],
      "source": []
    },
    {
      "cell_type": "code",
      "execution_count": null,
      "metadata": {
        "colab": {
          "base_uri": "https://localhost:8080/"
        },
        "id": "mhva1R6v4Z3Q",
        "outputId": "1c0b7321-ed4a-4f0c-e60e-95335fd30bfc"
      },
      "outputs": [
        {
          "name": "stdout",
          "output_type": "stream",
          "text": [
            "Resnet-LSTM (Keras time distributed epsilon 1e-4) accuracy: 0.8942007422447205\n"
          ]
        }
      ],
      "source": [
        "print(f\"Resnet-LSTM (Keras time distributed epsilon 1e-4) accuracy: {accuracy}\")"
      ]
    },
    {
      "cell_type": "code",
      "execution_count": null,
      "metadata": {
        "colab": {
          "base_uri": "https://localhost:8080/"
        },
        "id": "akJlPuj56I25",
        "outputId": "0eaa57b9-a0a4-42df-b7c7-500cb98fc618"
      },
      "outputs": [
        {
          "name": "stdout",
          "output_type": "stream",
          "text": [
            "Resnet-LSTM (Keras time distributed, batch 128) accuracy: 0.8962600827217102\n"
          ]
        }
      ],
      "source": [
        "print(f\"Resnet-LSTM (Keras time distributed, batch 128) accuracy: {accuracy}\")"
      ]
    },
    {
      "cell_type": "code",
      "execution_count": null,
      "metadata": {
        "colab": {
          "base_uri": "https://localhost:8080/"
        },
        "id": "rFGl5TM52WH4",
        "outputId": "934e4c45-34ed-4f4f-e974-e57314179eeb"
      },
      "outputs": [
        {
          "name": "stdout",
          "output_type": "stream",
          "text": [
            "Resnet-LSTM (Keras time distributed) accuracy: 0.8965542316436768\n"
          ]
        }
      ],
      "source": [
        "print(f\"Resnet-LSTM (Keras time distributed) accuracy: {accuracy}\")"
      ]
    },
    {
      "cell_type": "code",
      "execution_count": null,
      "metadata": {
        "colab": {
          "base_uri": "https://localhost:8080/"
        },
        "id": "h07bbdnEVlLt",
        "outputId": "de4d4c00-9a72-40b1-8c64-3130858a76d8"
      },
      "outputs": [
        {
          "name": "stdout",
          "output_type": "stream",
          "text": [
            "Resnet-LSTM (Keras) accuracy: 0.8956716656684875\n"
          ]
        }
      ],
      "source": [
        "print(f\"Resnet-LSTM (Keras) accuracy: {accuracy}\")"
      ]
    },
    {
      "cell_type": "code",
      "execution_count": null,
      "metadata": {
        "id": "XAd9-8qNgJSS"
      },
      "outputs": [],
      "source": []
    },
    {
      "cell_type": "markdown",
      "metadata": {
        "id": "mZLGfPp3gKB0"
      },
      "source": [
        "# DL algorithm accuracy and loss plots"
      ]
    },
    {
      "cell_type": "code",
      "execution_count": 5,
      "metadata": {
        "id": "qYl3E4AmgghH"
      },
      "outputs": [],
      "source": [
        "# read the csv containing accuracy and loss of each DL algorithms used\n",
        "history_resnet_lstm_df = pd.read_csv(\"../results/intent_hist_resnet_lstm.csv\", index_col=0)\n",
        "history_convlstm_df = pd.read_csv(\"../results/intent_hist_convlstm.csv\", index_col=0)\n",
        "history_cnn_lstm_df = pd.read_csv(\"../results/intent_hist_cnn_lstm.csv\", index_col=0)\n",
        "history_lstm_df = pd.read_csv(\"../results/intent_hist_lstm.csv\", index_col=0)"
      ]
    },
    {
      "cell_type": "code",
      "execution_count": 7,
      "metadata": {
        "colab": {
          "base_uri": "https://localhost:8080/",
          "height": 206
        },
        "id": "Lvl68WLWg-7N",
        "outputId": "c12f9968-569c-4320-9f61-fd626bb275e5"
      },
      "outputs": [
        {
          "data": {
            "text/html": [
              "\n",
              "  <div id=\"df-eb492758-502c-4ce9-a5e6-cf3add0eebe2\">\n",
              "    <div class=\"colab-df-container\">\n",
              "      <div>\n",
              "<style scoped>\n",
              "    .dataframe tbody tr th:only-of-type {\n",
              "        vertical-align: middle;\n",
              "    }\n",
              "\n",
              "    .dataframe tbody tr th {\n",
              "        vertical-align: top;\n",
              "    }\n",
              "\n",
              "    .dataframe thead th {\n",
              "        text-align: right;\n",
              "    }\n",
              "</style>\n",
              "<table border=\"1\" class=\"dataframe\">\n",
              "  <thead>\n",
              "    <tr style=\"text-align: right;\">\n",
              "      <th></th>\n",
              "      <th>loss</th>\n",
              "      <th>accuracy</th>\n",
              "      <th>epoch</th>\n",
              "    </tr>\n",
              "  </thead>\n",
              "  <tbody>\n",
              "    <tr>\n",
              "      <th>0</th>\n",
              "      <td>0.619804</td>\n",
              "      <td>0.752916</td>\n",
              "      <td>1</td>\n",
              "    </tr>\n",
              "    <tr>\n",
              "      <th>1</th>\n",
              "      <td>0.456128</td>\n",
              "      <td>0.808867</td>\n",
              "      <td>2</td>\n",
              "    </tr>\n",
              "    <tr>\n",
              "      <th>2</th>\n",
              "      <td>0.411828</td>\n",
              "      <td>0.824770</td>\n",
              "      <td>3</td>\n",
              "    </tr>\n",
              "    <tr>\n",
              "      <th>3</th>\n",
              "      <td>0.382963</td>\n",
              "      <td>0.835440</td>\n",
              "      <td>4</td>\n",
              "    </tr>\n",
              "    <tr>\n",
              "      <th>4</th>\n",
              "      <td>0.354403</td>\n",
              "      <td>0.849373</td>\n",
              "      <td>5</td>\n",
              "    </tr>\n",
              "  </tbody>\n",
              "</table>\n",
              "</div>\n",
              "      <button class=\"colab-df-convert\" onclick=\"convertToInteractive('df-eb492758-502c-4ce9-a5e6-cf3add0eebe2')\"\n",
              "              title=\"Convert this dataframe to an interactive table.\"\n",
              "              style=\"display:none;\">\n",
              "        \n",
              "  <svg xmlns=\"http://www.w3.org/2000/svg\" height=\"24px\"viewBox=\"0 0 24 24\"\n",
              "       width=\"24px\">\n",
              "    <path d=\"M0 0h24v24H0V0z\" fill=\"none\"/>\n",
              "    <path d=\"M18.56 5.44l.94 2.06.94-2.06 2.06-.94-2.06-.94-.94-2.06-.94 2.06-2.06.94zm-11 1L8.5 8.5l.94-2.06 2.06-.94-2.06-.94L8.5 2.5l-.94 2.06-2.06.94zm10 10l.94 2.06.94-2.06 2.06-.94-2.06-.94-.94-2.06-.94 2.06-2.06.94z\"/><path d=\"M17.41 7.96l-1.37-1.37c-.4-.4-.92-.59-1.43-.59-.52 0-1.04.2-1.43.59L10.3 9.45l-7.72 7.72c-.78.78-.78 2.05 0 2.83L4 21.41c.39.39.9.59 1.41.59.51 0 1.02-.2 1.41-.59l7.78-7.78 2.81-2.81c.8-.78.8-2.07 0-2.86zM5.41 20L4 18.59l7.72-7.72 1.47 1.35L5.41 20z\"/>\n",
              "  </svg>\n",
              "      </button>\n",
              "      \n",
              "  <style>\n",
              "    .colab-df-container {\n",
              "      display:flex;\n",
              "      flex-wrap:wrap;\n",
              "      gap: 12px;\n",
              "    }\n",
              "\n",
              "    .colab-df-convert {\n",
              "      background-color: #E8F0FE;\n",
              "      border: none;\n",
              "      border-radius: 50%;\n",
              "      cursor: pointer;\n",
              "      display: none;\n",
              "      fill: #1967D2;\n",
              "      height: 32px;\n",
              "      padding: 0 0 0 0;\n",
              "      width: 32px;\n",
              "    }\n",
              "\n",
              "    .colab-df-convert:hover {\n",
              "      background-color: #E2EBFA;\n",
              "      box-shadow: 0px 1px 2px rgba(60, 64, 67, 0.3), 0px 1px 3px 1px rgba(60, 64, 67, 0.15);\n",
              "      fill: #174EA6;\n",
              "    }\n",
              "\n",
              "    [theme=dark] .colab-df-convert {\n",
              "      background-color: #3B4455;\n",
              "      fill: #D2E3FC;\n",
              "    }\n",
              "\n",
              "    [theme=dark] .colab-df-convert:hover {\n",
              "      background-color: #434B5C;\n",
              "      box-shadow: 0px 1px 3px 1px rgba(0, 0, 0, 0.15);\n",
              "      filter: drop-shadow(0px 1px 2px rgba(0, 0, 0, 0.3));\n",
              "      fill: #FFFFFF;\n",
              "    }\n",
              "  </style>\n",
              "\n",
              "      <script>\n",
              "        const buttonEl =\n",
              "          document.querySelector('#df-eb492758-502c-4ce9-a5e6-cf3add0eebe2 button.colab-df-convert');\n",
              "        buttonEl.style.display =\n",
              "          google.colab.kernel.accessAllowed ? 'block' : 'none';\n",
              "\n",
              "        async function convertToInteractive(key) {\n",
              "          const element = document.querySelector('#df-eb492758-502c-4ce9-a5e6-cf3add0eebe2');\n",
              "          const dataTable =\n",
              "            await google.colab.kernel.invokeFunction('convertToInteractive',\n",
              "                                                     [key], {});\n",
              "          if (!dataTable) return;\n",
              "\n",
              "          const docLinkHtml = 'Like what you see? Visit the ' +\n",
              "            '<a target=\"_blank\" href=https://colab.research.google.com/notebooks/data_table.ipynb>data table notebook</a>'\n",
              "            + ' to learn more about interactive tables.';\n",
              "          element.innerHTML = '';\n",
              "          dataTable['output_type'] = 'display_data';\n",
              "          await google.colab.output.renderOutput(dataTable, element);\n",
              "          const docLink = document.createElement('div');\n",
              "          docLink.innerHTML = docLinkHtml;\n",
              "          element.appendChild(docLink);\n",
              "        }\n",
              "      </script>\n",
              "    </div>\n",
              "  </div>\n",
              "  "
            ],
            "text/plain": [
              "       loss  accuracy  epoch\n",
              "0  0.619804  0.752916      1\n",
              "1  0.456128  0.808867      2\n",
              "2  0.411828  0.824770      3\n",
              "3  0.382963  0.835440      4\n",
              "4  0.354403  0.849373      5"
            ]
          },
          "execution_count": 7,
          "metadata": {},
          "output_type": "execute_result"
        }
      ],
      "source": [
        "history_lstm_df.head()"
      ]
    },
    {
      "cell_type": "code",
      "execution_count": 38,
      "metadata": {
        "colab": {
          "base_uri": "https://localhost:8080/",
          "height": 295
        },
        "id": "NVPiMgi1gJbD",
        "outputId": "f1c831ec-c0a8-4729-fe3b-e3f725f5c9eb"
      },
      "outputs": [
        {
          "data": {
            "image/png": "[encoded data removed]",
            "text/plain": [
              "<Figure size 576x288 with 1 Axes>"
            ]
          },
          "metadata": {
            "needs_background": "light"
          },
          "output_type": "display_data"
        }
      ],
      "source": [
        "fig = plt.figure(figsize=(8,4))\n",
        "plt.title(\"Accuracy vs Epoch\")\n",
        "# history_resnet_lstm_df.plot.line(x=\"epoch\", y=\"accuracy\")\n",
        "plt.plot(list(history_resnet_lstm_df[\"epoch\"]), list(history_resnet_lstm_df[\"accuracy\"]), color=\"red\", label=\"ResNet+LSTM\")\n",
        "plt.plot(list(history_convlstm_df[\"epoch\"]), list(history_convlstm_df[\"accuracy\"]), color=\"blue\", label=\"ConvLSTM\")\n",
        "plt.plot(list(history_cnn_lstm_df[\"epoch\"]), list(history_cnn_lstm_df[\"accuracy\"]), color=\"green\", label=\"CNN + LSTM\")\n",
        "plt.plot(list(history_cnn_lstm_df[\"epoch\"]), list(history_lstm_df[\"accuracy\"]), color=\"orange\", label=\"LSTM\")\n",
        "\n",
        "# Points having epoch with highest accuracy\n",
        "\n",
        "acc_idx_res = history_resnet_lstm_df[\"accuracy\"].idxmax()\n",
        "plt.plot(acc_idx_res, history_resnet_lstm_df[\"accuracy\"].iloc[acc_idx_res], marker=\".\", color=\"red\", markersize=10)\n",
        "\n",
        "acc_idx_conv = history_convlstm_df[\"accuracy\"].idxmax()\n",
        "plt.plot(acc_idx_conv, history_convlstm_df[\"accuracy\"].iloc[acc_idx_conv], marker=\".\", color=\"blue\", markersize=10)\n",
        "\n",
        "acc_idx_cnn = history_cnn_lstm_df[\"accuracy\"].idxmax()\n",
        "plt.plot(acc_idx_cnn, history_cnn_lstm_df[\"accuracy\"].iloc[acc_idx_cnn], marker=\".\", color=\"green\", markersize=10)\n",
        "\n",
        "acc_idx_lstm = history_lstm_df[\"accuracy\"].idxmax()\n",
        "plt.plot(acc_idx_lstm, history_lstm_df[\"accuracy\"].iloc[acc_idx_lstm], marker=\".\", color=\"orange\", markersize=10)\n",
        "\n",
        "plt.xlabel(\"Epoch\")\n",
        "plt.ylabel(\"Accuracy\")\n",
        "plt.legend()\n",
        "plt.show()"
      ]
    },
    {
      "cell_type": "code",
      "execution_count": 44,
      "metadata": {
        "colab": {
          "base_uri": "https://localhost:8080/"
        },
        "id": "RRE4wFoIn2sO",
        "outputId": "87594473-f8cd-4ba6-a24b-1c7629c37fc6"
      },
      "outputs": [
        {
          "name": "stdout",
          "output_type": "stream",
          "text": [
            "ResNet + LSTM best accuracy: 90.025, Epoch: 71\n",
            "Convolutional LSTM best accuracy: 89.563, Epoch: 74\n",
            "CNN + LSTM best accuracy: 89.951, Epoch: 78\n",
            "LSTM best accuracy: 89.574, Epoch: 78\n"
          ]
        }
      ],
      "source": [
        "print(f\"ResNet + LSTM best accuracy: {round(history_resnet_lstm_df['accuracy'].iloc[acc_idx_res]*100, 3)}, Epoch: {acc_idx_res}\")\n",
        "print(f\"Convolutional LSTM best accuracy: {round(history_convlstm_df['accuracy'].iloc[acc_idx_conv]*100, 3)}, Epoch: {acc_idx_conv}\")\n",
        "print(f\"CNN + LSTM best accuracy: {round(history_cnn_lstm_df['accuracy'].iloc[acc_idx_cnn]*100, 3)}, Epoch: {acc_idx_cnn}\")\n",
        "print(f\"LSTM best accuracy: {round(history_lstm_df['accuracy'].iloc[acc_idx_lstm]*100, 3)}, Epoch: {acc_idx_lstm}\")"
      ]
    },
    {
      "cell_type": "code",
      "execution_count": 6,
      "metadata": {
        "colab": {
          "base_uri": "https://localhost:8080/",
          "height": 295
        },
        "id": "VnfqVRrQjEEt",
        "outputId": "3d339836-128c-42a6-a267-b78b4cefad4c"
      },
      "outputs": [
        {
          "data": {
            "image/png": "[encoded data removed]",
            "text/plain": [
              "<Figure size 576x288 with 1 Axes>"
            ]
          },
          "metadata": {
            "needs_background": "light"
          },
          "output_type": "display_data"
        }
      ],
      "source": [
        "fig = plt.figure(figsize=(8,4))\n",
        "plt.title(\"Loss vs Epoch for user intent prediction\")\n",
        "# history_resnet_lstm_df.plot.line(x=\"epoch\", y=\"accuracy\")\n",
        "plt.plot(list(history_resnet_lstm_df[\"epoch\"]), list(history_resnet_lstm_df[\"loss\"]), color=\"red\", label=\"ResNet+LSTM\")\n",
        "plt.plot(list(history_convlstm_df[\"epoch\"]), list(history_convlstm_df[\"loss\"]), color=\"blue\", label=\"ConvLSTM\")\n",
        "plt.plot(list(history_cnn_lstm_df[\"epoch\"]), list(history_cnn_lstm_df[\"loss\"]), color=\"green\", label=\"CNN + LSTM\")\n",
        "plt.plot(list(history_cnn_lstm_df[\"epoch\"]), list(history_lstm_df[\"loss\"]), color=\"orange\", label=\"LSTM\")\n",
        "\n",
        "# The points are taken from the epoch with highest accuracy\n",
        "\n",
        "# # acc_idx = history_resnet_lstm_df[\"loss\"].idxmin()\n",
        "# plt.plot(acc_idx_res, history_resnet_lstm_df[\"loss\"].iloc[acc_idx_res], marker=\".\", color=\"red\", markersize=10)\n",
        "\n",
        "# # acc_idx = history_convlstm_df[\"loss\"].idxmin()\n",
        "# plt.plot(acc_idx_conv, history_convlstm_df[\"loss\"].iloc[acc_idx_conv], marker=\".\", color=\"blue\", markersize=10)\n",
        "\n",
        "# # acc_idx = history_cnn_lstm_df[\"loss\"].idxmin()\n",
        "# plt.plot(acc_idx_cnn, history_cnn_lstm_df[\"loss\"].iloc[acc_idx_cnn], marker=\".\", color=\"green\", markersize=10)\n",
        "\n",
        "# # acc_idx = history_lstm_df[\"loss\"].idxmin()\n",
        "# plt.plot(acc_idx_lstm, history_lstm_df[\"loss\"].iloc[acc_idx_lstm], marker=\".\", color=\"orange\", markersize=10)\n",
        "\n",
        "plt.xlabel(\"Epoch\")\n",
        "plt.ylabel(\"Loss\")\n",
        "plt.legend()\n",
        "plt.show()"
      ]
    },
    {
      "cell_type": "markdown",
      "metadata": {
        "id": "Kb4jz4LuuIpz"
      },
      "source": [
        "# Bayesian Model, HMM"
      ]
    },
    {
      "cell_type": "code",
      "execution_count": null,
      "metadata": {
        "id": "VNyg5UPxuJIz"
      },
      "outputs": [],
      "source": []
    },
    {
      "cell_type": "code",
      "execution_count": null,
      "metadata": {
        "id": "e5_Q--Gzrq4o"
      },
      "outputs": [],
      "source": []
    },
    {
      "cell_type": "markdown",
      "metadata": {
        "id": "yo5B2BmYKWui"
      },
      "source": [
        "1. Use 80% of data for each user as training and 20% as test.\n",
        "2. Remove the user data from training data, train the model, and check the accuracy - accuracy dropped. With user attributes, the accuracy was more."
      ]
    },
    {
      "cell_type": "markdown",
      "metadata": {
        "id": "Ly5HizxoKzpC"
      },
      "source": [
        "1. Random Forest - done\n",
        "2. XGBoost Classifier - done\n",
        "3. CNN - Not required\n",
        "4. LSTM - done\n",
        "5. ConvNet + LSTM - done\n",
        "6. Hidden Markov Model\n",
        "7. Graph Neural Network?\n",
        "8. SVM - done\n",
        "9. CNN + LSTM - done"
      ]
    },
    {
      "cell_type": "markdown",
      "metadata": {
        "id": "rWsS6_ROdpw9"
      },
      "source": [
        "1. Use 24 hour instead of the 6 time types\n",
        "2. Merge the less no of location types into 1 or other location types\n",
        "3. entering and exiting a location\n",
        "4. Stochastic modeling, pyro - important\n",
        "5. TDNN\n",
        "6. 70% train, 20% test, 10% valid\n",
        "7. 24 HMM for each hour"
      ]
    },
    {
      "cell_type": "markdown",
      "metadata": {
        "id": "wkKzj223KtYF"
      },
      "source": [
        "# Training with 80% data from each user - Not used\n"
      ]
    },
    {
      "cell_type": "code",
      "execution_count": null,
      "metadata": {
        "colab": {
          "base_uri": "https://localhost:8080/"
        },
        "id": "i7vssYe9Kska",
        "outputId": "7bc2f7d3-4062-4014-a8de-38e1d9b7451b"
      },
      "outputs": [
        {
          "data": {
            "text/plain": [
              "RandomForestClassifier(random_state=40)"
            ]
          },
          "execution_count": 155,
          "metadata": {},
          "output_type": "execute_result"
        }
      ],
      "source": [
        "# rfc_usr = RandomForestClassifier(random_state=40)\n",
        "# X_usr, y_usr = shuffle(X, y)\n",
        "# X_train_usr, X_test_usr, y_train_usr, y_test_usr = divide_train_test_user(X_usr, y_usr, 0.865)\n",
        "# # X_train_usr, y_train_usr = shuffle(X_train_usr, y_train_usr)\n",
        "# rfc_usr.fit(X_train_usr, y_train_usr)"
      ]
    },
    {
      "cell_type": "code",
      "execution_count": null,
      "metadata": {
        "id": "oc66pOPSLUwn"
      },
      "outputs": [],
      "source": [
        "# # predict\n",
        "# predict_rfc_usr = rfc_usr.predict(X_test_usr)"
      ]
    },
    {
      "cell_type": "code",
      "execution_count": null,
      "metadata": {
        "colab": {
          "base_uri": "https://localhost:8080/"
        },
        "id": "gYeIUDGeLYrB",
        "outputId": "94471f1b-849f-4a0b-91d8-151786001ae7"
      },
      "outputs": [
        {
          "name": "stdout",
          "output_type": "stream",
          "text": [
            "Random Forest Classifier accuracy: 0.7172864644732612\n"
          ]
        }
      ],
      "source": [
        "# accuracy_rfc_usr = get_accuracy(predict_rfc_usr, y_test_usr)\n",
        "# print(f\"Random Forest Classifier accuracy: {accuracy_rfc_usr}\")"
      ]
    },
    {
      "cell_type": "code",
      "execution_count": null,
      "metadata": {
        "colab": {
          "base_uri": "https://localhost:8080/"
        },
        "id": "lpJJdKMPS6-Q",
        "outputId": "4a5699f3-e1db-4e59-9f7c-f669633c395c"
      },
      "outputs": [
        {
          "data": {
            "text/plain": [
              "{1, 3, 5, 6, 7}"
            ]
          },
          "execution_count": 158,
          "metadata": {},
          "output_type": "execute_result"
        }
      ],
      "source": [
        "# set(predict_rfc_usr)"
      ]
    }
  ],
  "metadata": {
    "accelerator": "GPU",
    "colab": {
      "authorship_tag": "ABX9TyNK1ZeitKgJNKlStYxBEhxA",
      "collapsed_sections": [
        "OWhCAfR3hGmk",
        "fEVyS59wl5lh",
        "wkKzj223KtYF"
      ],
      "mount_file_id": "1MkIJj2ff7-IMTwZqcWtGRmXQjDH8AXch",
      "provenance": []
    },
    "gpuClass": "standard",
    "kernelspec": {
      "display_name": "llm",
      "language": "python",
      "name": "python3"
    },
    "language_info": {
      "codemirror_mode": {
        "name": "ipython",
        "version": 3
      },
      "file_extension": ".py",
      "mimetype": "text/x-python",
      "name": "python",
      "nbconvert_exporter": "python",
      "pygments_lexer": "ipython3",
      "version": "3.9.13"
    }
  },
  "nbformat": 4,
  "nbformat_minor": 0
}
